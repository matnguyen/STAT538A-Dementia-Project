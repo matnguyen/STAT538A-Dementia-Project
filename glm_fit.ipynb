{
 "cells": [
  {
   "cell_type": "code",
   "execution_count": 200,
   "metadata": {},
   "outputs": [],
   "source": [
    "import pandas as pd \n",
    "import numpy as np\n",
    "import matplotlib.pyplot as plt\n",
    "import seaborn as sns\n",
    "import statsmodels.api as sm\n",
    "import mord as m\n",
    "\n",
    "from sklearn.metrics import accuracy_score, roc_auc_score\n",
    "from sklearn.model_selection import StratifiedKFold\n",
    "\n",
    "seed = 667"
   ]
  },
  {
   "cell_type": "code",
   "execution_count": 212,
   "metadata": {},
   "outputs": [],
   "source": [
    "df = pd.read_csv('dementia.tsv', sep='\\t')"
   ]
  },
  {
   "cell_type": "code",
   "execution_count": 213,
   "metadata": {},
   "outputs": [
    {
     "data": {
      "text/html": [
       "<div>\n",
       "<style scoped>\n",
       "    .dataframe tbody tr th:only-of-type {\n",
       "        vertical-align: middle;\n",
       "    }\n",
       "\n",
       "    .dataframe tbody tr th {\n",
       "        vertical-align: top;\n",
       "    }\n",
       "\n",
       "    .dataframe thead th {\n",
       "        text-align: right;\n",
       "    }\n",
       "</style>\n",
       "<table border=\"1\" class=\"dataframe\">\n",
       "  <thead>\n",
       "    <tr style=\"text-align: right;\">\n",
       "      <th></th>\n",
       "      <th>Subject ID</th>\n",
       "      <th>Group</th>\n",
       "      <th>Visit</th>\n",
       "      <th>Sex</th>\n",
       "      <th>Age</th>\n",
       "      <th>EDUC</th>\n",
       "      <th>SES</th>\n",
       "      <th>MMSE</th>\n",
       "      <th>CDR</th>\n",
       "      <th>eTIV</th>\n",
       "      <th>nWBV</th>\n",
       "      <th>Demented</th>\n",
       "      <th>Group_num</th>\n",
       "      <th>CDR_int</th>\n",
       "    </tr>\n",
       "  </thead>\n",
       "  <tbody>\n",
       "    <tr>\n",
       "      <th>0</th>\n",
       "      <td>1</td>\n",
       "      <td>Nondemented</td>\n",
       "      <td>1</td>\n",
       "      <td>1</td>\n",
       "      <td>87</td>\n",
       "      <td>14</td>\n",
       "      <td>2.0</td>\n",
       "      <td>27.0</td>\n",
       "      <td>0.0</td>\n",
       "      <td>1987</td>\n",
       "      <td>0.696</td>\n",
       "      <td>0</td>\n",
       "      <td>0</td>\n",
       "      <td>0</td>\n",
       "    </tr>\n",
       "    <tr>\n",
       "      <th>1</th>\n",
       "      <td>1</td>\n",
       "      <td>Nondemented</td>\n",
       "      <td>2</td>\n",
       "      <td>1</td>\n",
       "      <td>88</td>\n",
       "      <td>14</td>\n",
       "      <td>2.0</td>\n",
       "      <td>30.0</td>\n",
       "      <td>0.0</td>\n",
       "      <td>2004</td>\n",
       "      <td>0.681</td>\n",
       "      <td>0</td>\n",
       "      <td>0</td>\n",
       "      <td>0</td>\n",
       "    </tr>\n",
       "    <tr>\n",
       "      <th>2</th>\n",
       "      <td>4</td>\n",
       "      <td>Nondemented</td>\n",
       "      <td>1</td>\n",
       "      <td>0</td>\n",
       "      <td>88</td>\n",
       "      <td>18</td>\n",
       "      <td>3.0</td>\n",
       "      <td>28.0</td>\n",
       "      <td>0.0</td>\n",
       "      <td>1215</td>\n",
       "      <td>0.710</td>\n",
       "      <td>0</td>\n",
       "      <td>0</td>\n",
       "      <td>0</td>\n",
       "    </tr>\n",
       "    <tr>\n",
       "      <th>3</th>\n",
       "      <td>4</td>\n",
       "      <td>Nondemented</td>\n",
       "      <td>2</td>\n",
       "      <td>0</td>\n",
       "      <td>90</td>\n",
       "      <td>18</td>\n",
       "      <td>3.0</td>\n",
       "      <td>27.0</td>\n",
       "      <td>0.0</td>\n",
       "      <td>1200</td>\n",
       "      <td>0.718</td>\n",
       "      <td>0</td>\n",
       "      <td>0</td>\n",
       "      <td>0</td>\n",
       "    </tr>\n",
       "    <tr>\n",
       "      <th>4</th>\n",
       "      <td>5</td>\n",
       "      <td>Nondemented</td>\n",
       "      <td>1</td>\n",
       "      <td>1</td>\n",
       "      <td>80</td>\n",
       "      <td>12</td>\n",
       "      <td>4.0</td>\n",
       "      <td>28.0</td>\n",
       "      <td>0.0</td>\n",
       "      <td>1689</td>\n",
       "      <td>0.712</td>\n",
       "      <td>0</td>\n",
       "      <td>0</td>\n",
       "      <td>0</td>\n",
       "    </tr>\n",
       "    <tr>\n",
       "      <th>...</th>\n",
       "      <td>...</td>\n",
       "      <td>...</td>\n",
       "      <td>...</td>\n",
       "      <td>...</td>\n",
       "      <td>...</td>\n",
       "      <td>...</td>\n",
       "      <td>...</td>\n",
       "      <td>...</td>\n",
       "      <td>...</td>\n",
       "      <td>...</td>\n",
       "      <td>...</td>\n",
       "      <td>...</td>\n",
       "      <td>...</td>\n",
       "      <td>...</td>\n",
       "    </tr>\n",
       "    <tr>\n",
       "      <th>349</th>\n",
       "      <td>185</td>\n",
       "      <td>Demented</td>\n",
       "      <td>2</td>\n",
       "      <td>1</td>\n",
       "      <td>82</td>\n",
       "      <td>16</td>\n",
       "      <td>1.0</td>\n",
       "      <td>28.0</td>\n",
       "      <td>0.5</td>\n",
       "      <td>1693</td>\n",
       "      <td>0.694</td>\n",
       "      <td>1</td>\n",
       "      <td>1</td>\n",
       "      <td>1</td>\n",
       "    </tr>\n",
       "    <tr>\n",
       "      <th>350</th>\n",
       "      <td>185</td>\n",
       "      <td>Demented</td>\n",
       "      <td>3</td>\n",
       "      <td>1</td>\n",
       "      <td>86</td>\n",
       "      <td>16</td>\n",
       "      <td>1.0</td>\n",
       "      <td>26.0</td>\n",
       "      <td>0.5</td>\n",
       "      <td>1688</td>\n",
       "      <td>0.675</td>\n",
       "      <td>1</td>\n",
       "      <td>1</td>\n",
       "      <td>1</td>\n",
       "    </tr>\n",
       "    <tr>\n",
       "      <th>351</th>\n",
       "      <td>186</td>\n",
       "      <td>Nondemented</td>\n",
       "      <td>1</td>\n",
       "      <td>0</td>\n",
       "      <td>61</td>\n",
       "      <td>13</td>\n",
       "      <td>2.0</td>\n",
       "      <td>30.0</td>\n",
       "      <td>0.0</td>\n",
       "      <td>1319</td>\n",
       "      <td>0.801</td>\n",
       "      <td>0</td>\n",
       "      <td>0</td>\n",
       "      <td>0</td>\n",
       "    </tr>\n",
       "    <tr>\n",
       "      <th>352</th>\n",
       "      <td>186</td>\n",
       "      <td>Nondemented</td>\n",
       "      <td>2</td>\n",
       "      <td>0</td>\n",
       "      <td>63</td>\n",
       "      <td>13</td>\n",
       "      <td>2.0</td>\n",
       "      <td>30.0</td>\n",
       "      <td>0.0</td>\n",
       "      <td>1327</td>\n",
       "      <td>0.796</td>\n",
       "      <td>0</td>\n",
       "      <td>0</td>\n",
       "      <td>0</td>\n",
       "    </tr>\n",
       "    <tr>\n",
       "      <th>353</th>\n",
       "      <td>186</td>\n",
       "      <td>Nondemented</td>\n",
       "      <td>3</td>\n",
       "      <td>0</td>\n",
       "      <td>65</td>\n",
       "      <td>13</td>\n",
       "      <td>2.0</td>\n",
       "      <td>30.0</td>\n",
       "      <td>0.0</td>\n",
       "      <td>1333</td>\n",
       "      <td>0.801</td>\n",
       "      <td>0</td>\n",
       "      <td>0</td>\n",
       "      <td>0</td>\n",
       "    </tr>\n",
       "  </tbody>\n",
       "</table>\n",
       "<p>354 rows × 14 columns</p>\n",
       "</div>"
      ],
      "text/plain": [
       "     Subject ID        Group  Visit  Sex  Age  EDUC  SES  MMSE  CDR  eTIV  \\\n",
       "0             1  Nondemented      1    1   87    14  2.0  27.0  0.0  1987   \n",
       "1             1  Nondemented      2    1   88    14  2.0  30.0  0.0  2004   \n",
       "2             4  Nondemented      1    0   88    18  3.0  28.0  0.0  1215   \n",
       "3             4  Nondemented      2    0   90    18  3.0  27.0  0.0  1200   \n",
       "4             5  Nondemented      1    1   80    12  4.0  28.0  0.0  1689   \n",
       "..          ...          ...    ...  ...  ...   ...  ...   ...  ...   ...   \n",
       "349         185     Demented      2    1   82    16  1.0  28.0  0.5  1693   \n",
       "350         185     Demented      3    1   86    16  1.0  26.0  0.5  1688   \n",
       "351         186  Nondemented      1    0   61    13  2.0  30.0  0.0  1319   \n",
       "352         186  Nondemented      2    0   63    13  2.0  30.0  0.0  1327   \n",
       "353         186  Nondemented      3    0   65    13  2.0  30.0  0.0  1333   \n",
       "\n",
       "      nWBV  Demented  Group_num  CDR_int  \n",
       "0    0.696         0          0        0  \n",
       "1    0.681         0          0        0  \n",
       "2    0.710         0          0        0  \n",
       "3    0.718         0          0        0  \n",
       "4    0.712         0          0        0  \n",
       "..     ...       ...        ...      ...  \n",
       "349  0.694         1          1        1  \n",
       "350  0.675         1          1        1  \n",
       "351  0.801         0          0        0  \n",
       "352  0.796         0          0        0  \n",
       "353  0.801         0          0        0  \n",
       "\n",
       "[354 rows x 14 columns]"
      ]
     },
     "execution_count": 213,
     "metadata": {},
     "output_type": "execute_result"
    }
   ],
   "source": [
    "df"
   ]
  },
  {
   "cell_type": "code",
   "execution_count": 214,
   "metadata": {},
   "outputs": [],
   "source": [
    "df = df.drop(columns=['Subject ID'])"
   ]
  },
  {
   "cell_type": "code",
   "execution_count": 215,
   "metadata": {},
   "outputs": [
    {
     "data": {
      "text/html": [
       "<div>\n",
       "<style scoped>\n",
       "    .dataframe tbody tr th:only-of-type {\n",
       "        vertical-align: middle;\n",
       "    }\n",
       "\n",
       "    .dataframe tbody tr th {\n",
       "        vertical-align: top;\n",
       "    }\n",
       "\n",
       "    .dataframe thead th {\n",
       "        text-align: right;\n",
       "    }\n",
       "</style>\n",
       "<table border=\"1\" class=\"dataframe\">\n",
       "  <thead>\n",
       "    <tr style=\"text-align: right;\">\n",
       "      <th></th>\n",
       "      <th>Group</th>\n",
       "      <th>Visit</th>\n",
       "      <th>Sex</th>\n",
       "      <th>Age</th>\n",
       "      <th>EDUC</th>\n",
       "      <th>SES</th>\n",
       "      <th>MMSE</th>\n",
       "      <th>CDR</th>\n",
       "      <th>eTIV</th>\n",
       "      <th>nWBV</th>\n",
       "      <th>Demented</th>\n",
       "      <th>Group_num</th>\n",
       "      <th>CDR_int</th>\n",
       "    </tr>\n",
       "  </thead>\n",
       "  <tbody>\n",
       "    <tr>\n",
       "      <th>0</th>\n",
       "      <td>Nondemented</td>\n",
       "      <td>1</td>\n",
       "      <td>1</td>\n",
       "      <td>87</td>\n",
       "      <td>14</td>\n",
       "      <td>2.0</td>\n",
       "      <td>27.0</td>\n",
       "      <td>0.0</td>\n",
       "      <td>1987</td>\n",
       "      <td>0.696</td>\n",
       "      <td>0</td>\n",
       "      <td>0</td>\n",
       "      <td>0</td>\n",
       "    </tr>\n",
       "    <tr>\n",
       "      <th>1</th>\n",
       "      <td>Nondemented</td>\n",
       "      <td>2</td>\n",
       "      <td>1</td>\n",
       "      <td>88</td>\n",
       "      <td>14</td>\n",
       "      <td>2.0</td>\n",
       "      <td>30.0</td>\n",
       "      <td>0.0</td>\n",
       "      <td>2004</td>\n",
       "      <td>0.681</td>\n",
       "      <td>0</td>\n",
       "      <td>0</td>\n",
       "      <td>0</td>\n",
       "    </tr>\n",
       "    <tr>\n",
       "      <th>2</th>\n",
       "      <td>Nondemented</td>\n",
       "      <td>1</td>\n",
       "      <td>0</td>\n",
       "      <td>88</td>\n",
       "      <td>18</td>\n",
       "      <td>3.0</td>\n",
       "      <td>28.0</td>\n",
       "      <td>0.0</td>\n",
       "      <td>1215</td>\n",
       "      <td>0.710</td>\n",
       "      <td>0</td>\n",
       "      <td>0</td>\n",
       "      <td>0</td>\n",
       "    </tr>\n",
       "    <tr>\n",
       "      <th>3</th>\n",
       "      <td>Nondemented</td>\n",
       "      <td>2</td>\n",
       "      <td>0</td>\n",
       "      <td>90</td>\n",
       "      <td>18</td>\n",
       "      <td>3.0</td>\n",
       "      <td>27.0</td>\n",
       "      <td>0.0</td>\n",
       "      <td>1200</td>\n",
       "      <td>0.718</td>\n",
       "      <td>0</td>\n",
       "      <td>0</td>\n",
       "      <td>0</td>\n",
       "    </tr>\n",
       "    <tr>\n",
       "      <th>4</th>\n",
       "      <td>Nondemented</td>\n",
       "      <td>1</td>\n",
       "      <td>1</td>\n",
       "      <td>80</td>\n",
       "      <td>12</td>\n",
       "      <td>4.0</td>\n",
       "      <td>28.0</td>\n",
       "      <td>0.0</td>\n",
       "      <td>1689</td>\n",
       "      <td>0.712</td>\n",
       "      <td>0</td>\n",
       "      <td>0</td>\n",
       "      <td>0</td>\n",
       "    </tr>\n",
       "    <tr>\n",
       "      <th>...</th>\n",
       "      <td>...</td>\n",
       "      <td>...</td>\n",
       "      <td>...</td>\n",
       "      <td>...</td>\n",
       "      <td>...</td>\n",
       "      <td>...</td>\n",
       "      <td>...</td>\n",
       "      <td>...</td>\n",
       "      <td>...</td>\n",
       "      <td>...</td>\n",
       "      <td>...</td>\n",
       "      <td>...</td>\n",
       "      <td>...</td>\n",
       "    </tr>\n",
       "    <tr>\n",
       "      <th>349</th>\n",
       "      <td>Demented</td>\n",
       "      <td>2</td>\n",
       "      <td>1</td>\n",
       "      <td>82</td>\n",
       "      <td>16</td>\n",
       "      <td>1.0</td>\n",
       "      <td>28.0</td>\n",
       "      <td>0.5</td>\n",
       "      <td>1693</td>\n",
       "      <td>0.694</td>\n",
       "      <td>1</td>\n",
       "      <td>1</td>\n",
       "      <td>1</td>\n",
       "    </tr>\n",
       "    <tr>\n",
       "      <th>350</th>\n",
       "      <td>Demented</td>\n",
       "      <td>3</td>\n",
       "      <td>1</td>\n",
       "      <td>86</td>\n",
       "      <td>16</td>\n",
       "      <td>1.0</td>\n",
       "      <td>26.0</td>\n",
       "      <td>0.5</td>\n",
       "      <td>1688</td>\n",
       "      <td>0.675</td>\n",
       "      <td>1</td>\n",
       "      <td>1</td>\n",
       "      <td>1</td>\n",
       "    </tr>\n",
       "    <tr>\n",
       "      <th>351</th>\n",
       "      <td>Nondemented</td>\n",
       "      <td>1</td>\n",
       "      <td>0</td>\n",
       "      <td>61</td>\n",
       "      <td>13</td>\n",
       "      <td>2.0</td>\n",
       "      <td>30.0</td>\n",
       "      <td>0.0</td>\n",
       "      <td>1319</td>\n",
       "      <td>0.801</td>\n",
       "      <td>0</td>\n",
       "      <td>0</td>\n",
       "      <td>0</td>\n",
       "    </tr>\n",
       "    <tr>\n",
       "      <th>352</th>\n",
       "      <td>Nondemented</td>\n",
       "      <td>2</td>\n",
       "      <td>0</td>\n",
       "      <td>63</td>\n",
       "      <td>13</td>\n",
       "      <td>2.0</td>\n",
       "      <td>30.0</td>\n",
       "      <td>0.0</td>\n",
       "      <td>1327</td>\n",
       "      <td>0.796</td>\n",
       "      <td>0</td>\n",
       "      <td>0</td>\n",
       "      <td>0</td>\n",
       "    </tr>\n",
       "    <tr>\n",
       "      <th>353</th>\n",
       "      <td>Nondemented</td>\n",
       "      <td>3</td>\n",
       "      <td>0</td>\n",
       "      <td>65</td>\n",
       "      <td>13</td>\n",
       "      <td>2.0</td>\n",
       "      <td>30.0</td>\n",
       "      <td>0.0</td>\n",
       "      <td>1333</td>\n",
       "      <td>0.801</td>\n",
       "      <td>0</td>\n",
       "      <td>0</td>\n",
       "      <td>0</td>\n",
       "    </tr>\n",
       "  </tbody>\n",
       "</table>\n",
       "<p>354 rows × 13 columns</p>\n",
       "</div>"
      ],
      "text/plain": [
       "           Group  Visit  Sex  Age  EDUC  SES  MMSE  CDR  eTIV   nWBV  \\\n",
       "0    Nondemented      1    1   87    14  2.0  27.0  0.0  1987  0.696   \n",
       "1    Nondemented      2    1   88    14  2.0  30.0  0.0  2004  0.681   \n",
       "2    Nondemented      1    0   88    18  3.0  28.0  0.0  1215  0.710   \n",
       "3    Nondemented      2    0   90    18  3.0  27.0  0.0  1200  0.718   \n",
       "4    Nondemented      1    1   80    12  4.0  28.0  0.0  1689  0.712   \n",
       "..           ...    ...  ...  ...   ...  ...   ...  ...   ...    ...   \n",
       "349     Demented      2    1   82    16  1.0  28.0  0.5  1693  0.694   \n",
       "350     Demented      3    1   86    16  1.0  26.0  0.5  1688  0.675   \n",
       "351  Nondemented      1    0   61    13  2.0  30.0  0.0  1319  0.801   \n",
       "352  Nondemented      2    0   63    13  2.0  30.0  0.0  1327  0.796   \n",
       "353  Nondemented      3    0   65    13  2.0  30.0  0.0  1333  0.801   \n",
       "\n",
       "     Demented  Group_num  CDR_int  \n",
       "0           0          0        0  \n",
       "1           0          0        0  \n",
       "2           0          0        0  \n",
       "3           0          0        0  \n",
       "4           0          0        0  \n",
       "..        ...        ...      ...  \n",
       "349         1          1        1  \n",
       "350         1          1        1  \n",
       "351         0          0        0  \n",
       "352         0          0        0  \n",
       "353         0          0        0  \n",
       "\n",
       "[354 rows x 13 columns]"
      ]
     },
     "execution_count": 215,
     "metadata": {},
     "output_type": "execute_result"
    }
   ],
   "source": [
    "df"
   ]
  },
  {
   "cell_type": "markdown",
   "metadata": {},
   "source": [
    "Let's also define a framework to do brute-force model selection with 5-fold cross validation"
   ]
  },
  {
   "cell_type": "code",
   "execution_count": 216,
   "metadata": {},
   "outputs": [],
   "source": [
    "skf = StratifiedKFold(n_splits=5, shuffle=True, random_state=seed)"
   ]
  },
  {
   "cell_type": "code",
   "execution_count": 217,
   "metadata": {},
   "outputs": [],
   "source": [
    "# For brute-force search, we need to get all sublists from the list of columns except the empty sublist\n",
    "def sublists(columns):\n",
    "    sublists = []\n",
    "    \n",
    "    for i in range(len(columns) + 1): \n",
    "        for j in range(i + 1, len(columns) + 1): \n",
    "            sublist = columns[i:j]  \n",
    "            sublists.append(sublist) \n",
    "            \n",
    "    return sublists \n",
    "\n",
    "# Here we create a brute-force search function which runs 5-fold cross-validation for each sublist\n",
    "# We can define which objective function to use for optimization\n",
    "def brute_search(model, data, response, penalty, obj_fn):\n",
    "    resp = data[response]\n",
    "    preds = data.loc[:, data.columns != response]\n",
    "    preds = sm.add_constant(preds)\n",
    "    search_space = sublists(preds.columns.tolist())\n",
    "    \n",
    "    bestobj = -np.inf\n",
    "    best_cols = None\n",
    "    \n",
    "    for cols in search_space:\n",
    "        objs = []\n",
    "        for train_index, test_index in skf.split(preds[cols], resp):\n",
    "            res = model(resp.iloc[train_index], preds.iloc[train_index][cols]).fit(maxiter=100, disp=False)\n",
    "#             tmpobj = res.llf - penalty*len(cols)\n",
    "            test_preds = res.predict(preds.iloc[test_index][cols])\n",
    "            objs.append(obj_fn(resp.iloc[test_index], test_preds))\n",
    "        tmpobj = sum(objs) / len(objs)\n",
    "#         print('{0}: {1}'.format(cols, tmpobj))\n",
    "#         print(objs)\n",
    "        if tmpobj > bestobj:\n",
    "            bestobj = tmpobj\n",
    "            best_cols = cols\n",
    "            \n",
    "    res = model(resp, preds[best_cols]).fit(maxiter=100)\n",
    "    return bestobj, best_cols, res"
   ]
  },
  {
   "cell_type": "code",
   "execution_count": 218,
   "metadata": {},
   "outputs": [
    {
     "name": "stdout",
     "output_type": "stream",
     "text": [
      "Training data:\n",
      "total observations: 65\n",
      "         Group  Visit  Sex  Age  EDUC  SES  MMSE  CDR  eTIV   nWBV  Demented  \\\n",
      "0  Nondemented      1    1   87    14  2.0  27.0  0.0  1987  0.696         0   \n",
      "1  Nondemented      2    1   88    14  2.0  30.0  0.0  2004  0.681         0   \n",
      "2  Nondemented      1    0   88    18  3.0  28.0  0.0  1215  0.710         0   \n",
      "3  Nondemented      2    0   90    18  3.0  27.0  0.0  1200  0.718         0   \n",
      "4  Nondemented      1    1   80    12  4.0  28.0  0.0  1689  0.712         0   \n",
      "\n",
      "   Group_num  CDR_int  \n",
      "0          0        0  \n",
      "1          0        0  \n",
      "2          0        0  \n",
      "3          0        0  \n",
      "4          0        0  \n",
      "Testing data:\n",
      "total observations: 289\n",
      "   const        Group  Visit  Sex  Age  EDUC  SES  MMSE  CDR  eTIV   nWBV  \\\n",
      "0    1.0  Nondemented      1    1   87    14  2.0  27.0  0.0  1987  0.696   \n",
      "2    1.0  Nondemented      1    0   88    18  3.0  28.0  0.0  1215  0.710   \n",
      "3    1.0  Nondemented      2    0   90    18  3.0  27.0  0.0  1200  0.718   \n",
      "4    1.0  Nondemented      1    1   80    12  4.0  28.0  0.0  1689  0.712   \n",
      "5    1.0  Nondemented      2    1   83    12  4.0  29.0  0.5  1701  0.711   \n",
      "\n",
      "   Demented  Group_num  CDR_int  \n",
      "0         0          0        0  \n",
      "2         0          0        0  \n",
      "3         0          0        0  \n",
      "4         0          0        0  \n",
      "5         1          0        1  \n"
     ]
    }
   ],
   "source": [
    "# Split data into train and test sets\n",
    "np.random.seed(667)\n",
    "train_mask = np.random.rand(df.shape[0]) < .2\n",
    "\n",
    "test_df = df[~train_mask]\n",
    "train_df = df[train_mask]\n",
    "test_df = sm.add_constant(test_df)\n",
    "\n",
    "print('Training data:')\n",
    "print('total observations: ' + str(train_df.shape[0]))\n",
    "print(df.head())\n",
    "print('Testing data:')\n",
    "print('total observations: ' + str(test_df.shape[0]))\n",
    "print(test_df.head())"
   ]
  },
  {
   "cell_type": "markdown",
   "metadata": {},
   "source": [
    "## Logistic Regression on `Demented` with all covariates"
   ]
  },
  {
   "cell_type": "code",
   "execution_count": 181,
   "metadata": {},
   "outputs": [],
   "source": [
    "covariates = ['Visit', 'Age', 'Sex', 'EDUC', 'SES', 'eTIV', 'nWBV', 'MMSE']"
   ]
  },
  {
   "cell_type": "code",
   "execution_count": 182,
   "metadata": {},
   "outputs": [
    {
     "name": "stdout",
     "output_type": "stream",
     "text": [
      "Optimization terminated successfully.\n",
      "         Current function value: 0.349345\n",
      "         Iterations 8\n",
      "                           Logit Regression Results                           \n",
      "==============================================================================\n",
      "Dep. Variable:               Demented   No. Observations:                  354\n",
      "Model:                          Logit   Df Residuals:                      345\n",
      "Method:                           MLE   Df Model:                            8\n",
      "Date:                Sun, 06 Dec 2020   Pseudo R-squ.:                  0.4860\n",
      "Time:                        14:09:40   Log-Likelihood:                -123.67\n",
      "converged:                       True   LL-Null:                       -240.60\n",
      "Covariance Type:            nonrobust   LLR p-value:                 4.503e-46\n",
      "==============================================================================\n",
      "                 coef    std err          z      P>|z|      [0.025      0.975]\n",
      "------------------------------------------------------------------------------\n",
      "const         63.8337      9.555      6.680      0.000      45.105      82.562\n",
      "Visit          0.1695      0.182      0.932      0.351      -0.187       0.526\n",
      "Age           -0.1130      0.031     -3.635      0.000      -0.174      -0.052\n",
      "Sex            1.6510      0.439      3.761      0.000       0.791       2.511\n",
      "EDUC          -0.2005      0.095     -2.116      0.034      -0.386      -0.015\n",
      "SES           -0.3492      0.219     -1.595      0.111      -0.778       0.080\n",
      "eTIV          -0.0029      0.001     -2.337      0.019      -0.005      -0.000\n",
      "nWBV         -26.6719      6.252     -4.266      0.000     -38.926     -14.417\n",
      "MMSE          -1.0267      0.137     -7.509      0.000      -1.295      -0.759\n",
      "==============================================================================\n"
     ]
    }
   ],
   "source": [
    "res = sm.Logit(df.Demented, sm.add_constant(df[covariates])).fit()\n",
    "print(res.summary())"
   ]
  },
  {
   "cell_type": "code",
   "execution_count": 184,
   "metadata": {},
   "outputs": [
    {
     "name": "stdout",
     "output_type": "stream",
     "text": [
      "Optimization terminated successfully.\n",
      "         Current function value: 0.253658\n",
      "         Iterations 10\n",
      "                           Logit Regression Results                           \n",
      "==============================================================================\n",
      "Dep. Variable:               Demented   No. Observations:                   65\n",
      "Model:                          Logit   Df Residuals:                       56\n",
      "Method:                           MLE   Df Model:                            8\n",
      "Date:                Sun, 06 Dec 2020   Pseudo R-squ.:                  0.6263\n",
      "Time:                        14:09:44   Log-Likelihood:                -16.488\n",
      "converged:                       True   LL-Null:                       -44.119\n",
      "Covariance Type:            nonrobust   LLR p-value:                 3.924e-09\n",
      "==============================================================================\n",
      "                 coef    std err          z      P>|z|      [0.025      0.975]\n",
      "------------------------------------------------------------------------------\n",
      "const        127.9413     44.689      2.863      0.004      40.352     215.530\n",
      "Visit         -0.1147      0.691     -0.166      0.868      -1.468       1.239\n",
      "Age           -0.2674      0.125     -2.148      0.032      -0.511      -0.023\n",
      "Sex            2.1117      1.385      1.525      0.127      -0.602       4.826\n",
      "EDUC          -1.0156      0.486     -2.089      0.037      -1.969      -0.063\n",
      "SES           -1.8069      1.051     -1.719      0.086      -3.867       0.253\n",
      "eTIV          -0.0063      0.005     -1.321      0.187      -0.016       0.003\n",
      "nWBV         -33.1726     18.455     -1.798      0.072     -69.343       2.998\n",
      "MMSE          -1.9668      0.609     -3.230      0.001      -3.160      -0.773\n",
      "==============================================================================\n",
      "\n",
      "Possibly complete quasi-separation: A fraction 0.18 of observations can be\n",
      "perfectly predicted. This might indicate that there is complete\n",
      "quasi-separation. In this case some parameters will not be identified.\n"
     ]
    }
   ],
   "source": [
    "res = sm.Logit(train_df.Demented, sm.add_constant(train_df[covariates])).fit()\n",
    "print(res.summary())"
   ]
  },
  {
   "cell_type": "code",
   "execution_count": 185,
   "metadata": {},
   "outputs": [
    {
     "name": "stdout",
     "output_type": "stream",
     "text": [
      "-159.6626093153062\n"
     ]
    },
    {
     "name": "stderr",
     "output_type": "stream",
     "text": [
      "C:\\Users\\matth\\anaconda3\\envs\\stats\\lib\\site-packages\\pandas\\core\\series.py:726: RuntimeWarning: divide by zero encountered in log\n",
      "  result = getattr(ufunc, method)(*inputs, **kwargs)\n"
     ]
    }
   ],
   "source": [
    "preds = res.predict(sm.add_constant(test_df[covariates]))\n",
    "loglike_test = (test_df.Demented*np.log(preds) + (1-test_df.Demented)*np.log(1-preds)).sum()\n",
    "print(loglike_test)"
   ]
  },
  {
   "cell_type": "code",
   "execution_count": 186,
   "metadata": {},
   "outputs": [
    {
     "data": {
      "text/plain": [
       "0.8771645021645021"
      ]
     },
     "execution_count": 186,
     "metadata": {},
     "output_type": "execute_result"
    }
   ],
   "source": [
    "roc_auc_score(test_df.Demented, preds)"
   ]
  },
  {
   "cell_type": "code",
   "execution_count": 187,
   "metadata": {},
   "outputs": [
    {
     "data": {
      "text/plain": [
       "0.7993079584775087"
      ]
     },
     "execution_count": 187,
     "metadata": {},
     "output_type": "execute_result"
    }
   ],
   "source": [
    "accuracy_score(test_df.Demented, [0 if i < 0.5 else 1 for i in preds])"
   ]
  },
  {
   "cell_type": "markdown",
   "metadata": {},
   "source": [
    "### Model Selection with brute-force search"
   ]
  },
  {
   "cell_type": "code",
   "execution_count": 188,
   "metadata": {},
   "outputs": [],
   "source": [
    "def demented_obj_fn(gt, preds):\n",
    "    return accuracy_score(gt, [0 if i < 0.5 else 1 for i in preds])"
   ]
  },
  {
   "cell_type": "code",
   "execution_count": 189,
   "metadata": {},
   "outputs": [
    {
     "name": "stdout",
     "output_type": "stream",
     "text": [
      "Brute-force\n",
      "Optimization terminated successfully.\n",
      "         Current function value: 0.253658\n",
      "         Iterations 10\n",
      "                           Logit Regression Results                           \n",
      "==============================================================================\n",
      "Dep. Variable:               Demented   No. Observations:                   65\n",
      "Model:                          Logit   Df Residuals:                       56\n",
      "Method:                           MLE   Df Model:                            8\n",
      "Date:                Sun, 06 Dec 2020   Pseudo R-squ.:                  0.6263\n",
      "Time:                        14:09:48   Log-Likelihood:                -16.488\n",
      "converged:                       True   LL-Null:                       -44.119\n",
      "Covariance Type:            nonrobust   LLR p-value:                 3.924e-09\n",
      "==============================================================================\n",
      "                 coef    std err          z      P>|z|      [0.025      0.975]\n",
      "------------------------------------------------------------------------------\n",
      "const        127.9413     44.689      2.863      0.004      40.352     215.530\n",
      "Visit         -0.1147      0.691     -0.166      0.868      -1.468       1.239\n",
      "Age           -0.2674      0.125     -2.148      0.032      -0.511      -0.023\n",
      "Sex            2.1117      1.385      1.525      0.127      -0.602       4.826\n",
      "EDUC          -1.0156      0.486     -2.089      0.037      -1.969      -0.063\n",
      "SES           -1.8069      1.051     -1.719      0.086      -3.867       0.253\n",
      "eTIV          -0.0063      0.005     -1.321      0.187      -0.016       0.003\n",
      "nWBV         -33.1726     18.455     -1.798      0.072     -69.343       2.998\n",
      "MMSE          -1.9668      0.609     -3.230      0.001      -3.160      -0.773\n",
      "==============================================================================\n",
      "\n",
      "Possibly complete quasi-separation: A fraction 0.18 of observations can be\n",
      "perfectly predicted. This might indicate that there is complete\n",
      "quasi-separation. In this case some parameters will not be identified.\n",
      "aic: 50.97553621155684\n",
      "llt: -159.6626093153062:\n",
      "auc: 0.8771645021645021:\n",
      "acc: 0.7993079584775087:\n",
      "\n"
     ]
    },
    {
     "name": "stderr",
     "output_type": "stream",
     "text": [
      "C:\\Users\\matth\\anaconda3\\envs\\stats\\lib\\site-packages\\pandas\\core\\series.py:726: RuntimeWarning: divide by zero encountered in log\n",
      "  result = getattr(ufunc, method)(*inputs, **kwargs)\n"
     ]
    }
   ],
   "source": [
    "print('Brute-force')\n",
    "bf_obj, bf_cols, bf_res = brute_search(sm.Logit, train_df[covariates + ['Demented']], 'Demented', 1, demented_obj_fn)\n",
    "print(bf_res.summary())\n",
    "preds = bf_res.predict(test_df[bf_cols])\n",
    "loglike_test = (test_df.Demented*np.log(preds) + (1-test_df.Demented)*np.log(1-preds)).sum()\n",
    "print('aic: {0}'.format(bf_res.aic))\n",
    "print('llt: {0}:'.format(loglike_test))\n",
    "print('auc: {0}:'.format(roc_auc_score(test_df.Demented, preds)))\n",
    "print('acc: {0}:'.format(accuracy_score(test_df.Demented, [0 if i < 0.5 else 1 for i in preds])))\n",
    "print()"
   ]
  },
  {
   "cell_type": "markdown",
   "metadata": {},
   "source": [
    "## Multinomial Logistic Regression on `Group` with all covariates"
   ]
  },
  {
   "cell_type": "code",
   "execution_count": 192,
   "metadata": {},
   "outputs": [],
   "source": [
    "covariates = ['Visit', 'Age', 'Sex', 'EDUC', 'SES', 'eTIV', 'nWBV', 'MMSE']"
   ]
  },
  {
   "cell_type": "code",
   "execution_count": 193,
   "metadata": {},
   "outputs": [
    {
     "name": "stdout",
     "output_type": "stream",
     "text": [
      "Optimization terminated successfully.\n",
      "         Current function value: 0.633116\n",
      "         Iterations 8\n",
      "                          MNLogit Regression Results                          \n",
      "==============================================================================\n",
      "Dep. Variable:                  Group   No. Observations:                  354\n",
      "Model:                        MNLogit   Df Residuals:                      338\n",
      "Method:                           MLE   Df Model:                           14\n",
      "Date:                Sun, 06 Dec 2020   Pseudo R-squ.:                  0.3249\n",
      "Time:                        14:10:00   Log-Likelihood:                -224.12\n",
      "converged:                       True   LL-Null:                       -331.98\n",
      "Covariance Type:            nonrobust   LLR p-value:                 3.330e-38\n",
      "=====================================================================================\n",
      "   Group=Demented       coef    std err          z      P>|z|      [0.025      0.975]\n",
      "-------------------------------------------------------------------------------------\n",
      "Visit                -0.4706      0.256     -1.835      0.067      -0.973       0.032\n",
      "Age                9.636e-06      0.025      0.000      1.000      -0.050       0.050\n",
      "Sex                   0.7620      0.622      1.226      0.220      -0.456       1.980\n",
      "EDUC                  0.1814      0.111      1.632      0.103      -0.036       0.399\n",
      "SES                   1.3566      0.328      4.141      0.000       0.715       1.999\n",
      "eTIV                  0.0029      0.002      1.727      0.084      -0.000       0.006\n",
      "nWBV                  9.8293      4.949      1.986      0.047       0.130      19.528\n",
      "MMSE                 -0.5649      0.131     -4.323      0.000      -0.821      -0.309\n",
      "-------------------------------------------------------------------------------------\n",
      "Group=Nondemented       coef    std err          z      P>|z|      [0.025      0.975]\n",
      "-------------------------------------------------------------------------------------\n",
      "Visit                -0.0009      0.205     -0.004      0.997      -0.402       0.401\n",
      "Age                  -0.0702      0.023     -3.110      0.002      -0.114      -0.026\n",
      "Sex                  -0.9477      0.565     -1.677      0.093      -2.055       0.160\n",
      "EDUC                  0.1697      0.097      1.750      0.080      -0.020       0.360\n",
      "SES                   1.1049      0.291      3.794      0.000       0.534       1.676\n",
      "eTIV                  0.0031      0.002      2.043      0.041       0.000       0.006\n",
      "nWBV                 -6.6391      4.563     -1.455      0.146     -15.583       2.305\n",
      "MMSE                  0.0983      0.126      0.777      0.437      -0.150       0.346\n",
      "=====================================================================================\n"
     ]
    }
   ],
   "source": [
    "model = sm.MNLogit(df['Group'], df[covariates])\n",
    "res = model.fit()\n",
    "print(res.summary())"
   ]
  },
  {
   "cell_type": "code",
   "execution_count": 194,
   "metadata": {},
   "outputs": [
    {
     "name": "stdout",
     "output_type": "stream",
     "text": [
      "Optimization terminated successfully.\n",
      "         Current function value: 0.526265\n",
      "         Iterations 9\n",
      "                          MNLogit Regression Results                          \n",
      "==============================================================================\n",
      "Dep. Variable:              Group_num   No. Observations:                   65\n",
      "Model:                        MNLogit   Df Residuals:                       47\n",
      "Method:                           MLE   Df Model:                           16\n",
      "Date:                Sun, 06 Dec 2020   Pseudo R-squ.:                  0.4543\n",
      "Time:                        14:10:01   Log-Likelihood:                -34.207\n",
      "converged:                       True   LL-Null:                       -62.687\n",
      "Covariance Type:            nonrobust   LLR p-value:                 1.688e-06\n",
      "===============================================================================\n",
      "Group_num=1       coef    std err          z      P>|z|      [0.025      0.975]\n",
      "-------------------------------------------------------------------------------\n",
      "const          82.7635     33.209      2.492      0.013      17.675     147.852\n",
      "Visit          -0.8681      0.763     -1.137      0.256      -2.364       0.628\n",
      "Age            -0.1879      0.114     -1.654      0.098      -0.410       0.035\n",
      "Sex             2.3036      1.298      1.774      0.076      -0.241       4.849\n",
      "EDUC           -0.5105      0.368     -1.388      0.165      -1.231       0.210\n",
      "SES            -0.7437      0.878     -0.847      0.397      -2.464       0.977\n",
      "eTIV           -0.0038      0.004     -0.877      0.381      -0.012       0.005\n",
      "nWBV          -13.7803     17.533     -0.786      0.432     -48.144      20.584\n",
      "MMSE           -1.5395      0.474     -3.247      0.001      -2.469      -0.610\n",
      "-------------------------------------------------------------------------------\n",
      "Group_num=2       coef    std err          z      P>|z|      [0.025      0.975]\n",
      "-------------------------------------------------------------------------------\n",
      "const          33.2603     24.620      1.351      0.177     -14.993      81.514\n",
      "Visit          -1.0545      0.837     -1.261      0.207      -2.694       0.585\n",
      "Age             0.0369      0.087      0.423      0.672      -0.134       0.208\n",
      "Sex            -0.3689      1.359     -0.272      0.786      -3.032       2.294\n",
      "EDUC           -0.3916      0.281     -1.393      0.164      -0.943       0.160\n",
      "SES            -0.7420      0.704     -1.054      0.292      -2.122       0.638\n",
      "eTIV           -0.0014      0.004     -0.409      0.683      -0.008       0.005\n",
      "nWBV          -12.8831     17.511     -0.736      0.462     -47.203      21.437\n",
      "MMSE           -0.5764      0.389     -1.484      0.138      -1.338       0.185\n",
      "===============================================================================\n"
     ]
    }
   ],
   "source": [
    "res = sm.MNLogit(train_df.Group_num, sm.add_constant(train_df[covariates])).fit()\n",
    "print(res.summary())"
   ]
  },
  {
   "cell_type": "code",
   "execution_count": 195,
   "metadata": {},
   "outputs": [],
   "source": [
    "preds = res.predict(sm.add_constant(test_df[covariates]))"
   ]
  },
  {
   "cell_type": "code",
   "execution_count": 196,
   "metadata": {},
   "outputs": [
    {
     "data": {
      "text/plain": [
       "0.6350846123573397"
      ]
     },
     "execution_count": 196,
     "metadata": {},
     "output_type": "execute_result"
    }
   ],
   "source": [
    "roc_auc_score(test_df.Demented, preds.max(axis=1))"
   ]
  },
  {
   "cell_type": "code",
   "execution_count": 197,
   "metadata": {},
   "outputs": [
    {
     "data": {
      "text/plain": [
       "0.7612456747404844"
      ]
     },
     "execution_count": 197,
     "metadata": {},
     "output_type": "execute_result"
    }
   ],
   "source": [
    "accuracy_score(test_df.Demented, preds.idxmax(axis=1))"
   ]
  },
  {
   "cell_type": "markdown",
   "metadata": {},
   "source": [
    "### Model Selection with brute-force search"
   ]
  },
  {
   "cell_type": "code",
   "execution_count": 198,
   "metadata": {},
   "outputs": [],
   "source": [
    "def group_obj_fn(gt, preds):\n",
    "    return accuracy_score(gt, preds.idxmax(axis=1))"
   ]
  },
  {
   "cell_type": "code",
   "execution_count": 199,
   "metadata": {},
   "outputs": [
    {
     "name": "stdout",
     "output_type": "stream",
     "text": [
      "Brute-force\n",
      "Optimization terminated successfully.\n",
      "         Current function value: 0.709326\n",
      "         Iterations 7\n",
      "                          MNLogit Regression Results                          \n",
      "==============================================================================\n",
      "Dep. Variable:              Group_num   No. Observations:                   65\n",
      "Model:                        MNLogit   Df Residuals:                       61\n",
      "Method:                           MLE   Df Model:                            2\n",
      "Date:                Sun, 06 Dec 2020   Pseudo R-squ.:                  0.2645\n",
      "Time:                        14:10:04   Log-Likelihood:                -46.106\n",
      "converged:                       True   LL-Null:                       -62.687\n",
      "Covariance Type:            nonrobust   LLR p-value:                 6.296e-08\n",
      "===============================================================================\n",
      "Group_num=1       coef    std err          z      P>|z|      [0.025      0.975]\n",
      "-------------------------------------------------------------------------------\n",
      "nWBV           26.8738      7.720      3.481      0.000      11.743      42.005\n",
      "MMSE           -0.7305      0.203     -3.593      0.000      -1.129      -0.332\n",
      "-------------------------------------------------------------------------------\n",
      "Group_num=2       coef    std err          z      P>|z|      [0.025      0.975]\n",
      "-------------------------------------------------------------------------------\n",
      "nWBV            1.2166      9.029      0.135      0.893     -16.480      18.913\n",
      "MMSE           -0.0815      0.228     -0.357      0.721      -0.529       0.366\n",
      "===============================================================================\n",
      "aic: 100.21239746052052\n",
      "llt: -inf:\n",
      "auc: 0.6270415190869736:\n",
      "acc: 0.7301038062283737:\n",
      "\n"
     ]
    },
    {
     "name": "stderr",
     "output_type": "stream",
     "text": [
      "C:\\Users\\matth\\anaconda3\\envs\\stats\\lib\\site-packages\\pandas\\core\\series.py:726: RuntimeWarning: divide by zero encountered in log\n",
      "  result = getattr(ufunc, method)(*inputs, **kwargs)\n"
     ]
    }
   ],
   "source": [
    "print('Brute-force')\n",
    "bf_obj, bf_cols, bf_res = brute_search(sm.MNLogit, train_df[covariates + ['Group_num']], 'Group_num', 1, group_obj_fn)\n",
    "print(bf_res.summary())\n",
    "preds = bf_res.predict(test_df[bf_cols])\n",
    "loglike_test = (test_df.Demented*np.log(preds.idxmax(axis=1)) + (1-test_df.Demented)*np.log(1-preds.idxmax(axis=1))).sum()\n",
    "print('aic: {0}'.format(bf_res.aic))\n",
    "print('llt: {0}:'.format(loglike_test))\n",
    "print('auc: {0}:'.format(roc_auc_score(test_df.Demented,  preds.max(axis=1))))\n",
    "print('acc: {0}:'.format(accuracy_score(test_df.Demented,  preds.idxmax(axis=1))))\n",
    "print()"
   ]
  },
  {
   "cell_type": "markdown",
   "metadata": {},
   "source": [
    "## Ordinal Logistic Regression on `CDR` with all covariates"
   ]
  },
  {
   "cell_type": "code",
   "execution_count": 205,
   "metadata": {},
   "outputs": [],
   "source": [
    "covariates = ['Visit', 'Age', 'Sex', 'EDUC', 'SES', 'eTIV', 'nWBV', 'MMSE']"
   ]
  },
  {
   "cell_type": "code",
   "execution_count": 219,
   "metadata": {},
   "outputs": [],
   "source": [
    "model = m.LogisticIT()"
   ]
  },
  {
   "cell_type": "code",
   "execution_count": 220,
   "metadata": {},
   "outputs": [
    {
     "data": {
      "text/plain": [
       "LogisticIT()"
      ]
     },
     "execution_count": 220,
     "metadata": {},
     "output_type": "execute_result"
    }
   ],
   "source": [
    "model.fit(train_df[covariates], train_df['CDR_int'])"
   ]
  },
  {
   "cell_type": "code",
   "execution_count": 222,
   "metadata": {},
   "outputs": [],
   "source": [
    "preds = model.predict(test_df[covariates])"
   ]
  },
  {
   "cell_type": "code",
   "execution_count": 223,
   "metadata": {},
   "outputs": [
    {
     "data": {
      "text/plain": [
       "0.7197231833910035"
      ]
     },
     "execution_count": 223,
     "metadata": {},
     "output_type": "execute_result"
    }
   ],
   "source": [
    "accuracy_score(test_df.CDR_int, preds)"
   ]
  },
  {
   "cell_type": "code",
   "execution_count": 225,
   "metadata": {},
   "outputs": [
    {
     "data": {
      "text/plain": [
       "0.8062283737024222"
      ]
     },
     "execution_count": 225,
     "metadata": {},
     "output_type": "execute_result"
    }
   ],
   "source": [
    "accuracy_score(test_df.Demented, [0 if i < 1 else 1 for i in preds])"
   ]
  },
  {
   "cell_type": "code",
   "execution_count": 226,
   "metadata": {},
   "outputs": [
    {
     "data": {
      "text/plain": [
       "0.7778433687524596"
      ]
     },
     "execution_count": 226,
     "metadata": {},
     "output_type": "execute_result"
    }
   ],
   "source": [
    "roc_auc_score(test_df.Demented, [0 if i < 1 else 1 for i in preds])"
   ]
  }
 ],
 "metadata": {
  "kernelspec": {
   "display_name": "Python 3",
   "language": "python",
   "name": "python3"
  },
  "language_info": {
   "codemirror_mode": {
    "name": "ipython",
    "version": 3
   },
   "file_extension": ".py",
   "mimetype": "text/x-python",
   "name": "python",
   "nbconvert_exporter": "python",
   "pygments_lexer": "ipython3",
   "version": "3.8.5"
  }
 },
 "nbformat": 4,
 "nbformat_minor": 4
}
