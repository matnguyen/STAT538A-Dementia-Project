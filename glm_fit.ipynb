{
 "cells": [
  {
   "cell_type": "code",
   "execution_count": 32,
   "metadata": {},
   "outputs": [],
   "source": [
    "import pandas as pd \n",
    "import numpy as np\n",
    "import matplotlib.pyplot as plt\n",
    "import seaborn as sns\n",
    "import statsmodels.api as sm\n",
    "\n",
    "from sklearn.metrics import accuracy_score, roc_auc_score"
   ]
  },
  {
   "cell_type": "code",
   "execution_count": 303,
   "metadata": {},
   "outputs": [],
   "source": [
    "df = pd.read_csv('lg_data.tsv', sep='\\t')"
   ]
  },
  {
   "cell_type": "code",
   "execution_count": 304,
   "metadata": {},
   "outputs": [
    {
     "data": {
      "text/html": [
       "<div>\n",
       "<style scoped>\n",
       "    .dataframe tbody tr th:only-of-type {\n",
       "        vertical-align: middle;\n",
       "    }\n",
       "\n",
       "    .dataframe tbody tr th {\n",
       "        vertical-align: top;\n",
       "    }\n",
       "\n",
       "    .dataframe thead th {\n",
       "        text-align: right;\n",
       "    }\n",
       "</style>\n",
       "<table border=\"1\" class=\"dataframe\">\n",
       "  <thead>\n",
       "    <tr style=\"text-align: right;\">\n",
       "      <th></th>\n",
       "      <th>Subject ID</th>\n",
       "      <th>Demented</th>\n",
       "      <th>Visit</th>\n",
       "      <th>Sex</th>\n",
       "      <th>Age</th>\n",
       "      <th>EDUC</th>\n",
       "      <th>SES</th>\n",
       "      <th>MMSE</th>\n",
       "      <th>eTIV</th>\n",
       "      <th>nWBV</th>\n",
       "    </tr>\n",
       "  </thead>\n",
       "  <tbody>\n",
       "    <tr>\n",
       "      <th>0</th>\n",
       "      <td>1</td>\n",
       "      <td>0</td>\n",
       "      <td>1</td>\n",
       "      <td>1</td>\n",
       "      <td>87</td>\n",
       "      <td>14</td>\n",
       "      <td>2.0</td>\n",
       "      <td>27.0</td>\n",
       "      <td>1987</td>\n",
       "      <td>0.696</td>\n",
       "    </tr>\n",
       "    <tr>\n",
       "      <th>1</th>\n",
       "      <td>1</td>\n",
       "      <td>0</td>\n",
       "      <td>2</td>\n",
       "      <td>1</td>\n",
       "      <td>88</td>\n",
       "      <td>14</td>\n",
       "      <td>2.0</td>\n",
       "      <td>30.0</td>\n",
       "      <td>2004</td>\n",
       "      <td>0.681</td>\n",
       "    </tr>\n",
       "    <tr>\n",
       "      <th>2</th>\n",
       "      <td>4</td>\n",
       "      <td>0</td>\n",
       "      <td>1</td>\n",
       "      <td>0</td>\n",
       "      <td>88</td>\n",
       "      <td>18</td>\n",
       "      <td>3.0</td>\n",
       "      <td>28.0</td>\n",
       "      <td>1215</td>\n",
       "      <td>0.710</td>\n",
       "    </tr>\n",
       "    <tr>\n",
       "      <th>3</th>\n",
       "      <td>4</td>\n",
       "      <td>0</td>\n",
       "      <td>2</td>\n",
       "      <td>0</td>\n",
       "      <td>90</td>\n",
       "      <td>18</td>\n",
       "      <td>3.0</td>\n",
       "      <td>27.0</td>\n",
       "      <td>1200</td>\n",
       "      <td>0.718</td>\n",
       "    </tr>\n",
       "    <tr>\n",
       "      <th>4</th>\n",
       "      <td>5</td>\n",
       "      <td>0</td>\n",
       "      <td>1</td>\n",
       "      <td>1</td>\n",
       "      <td>80</td>\n",
       "      <td>12</td>\n",
       "      <td>4.0</td>\n",
       "      <td>28.0</td>\n",
       "      <td>1689</td>\n",
       "      <td>0.712</td>\n",
       "    </tr>\n",
       "    <tr>\n",
       "      <th>...</th>\n",
       "      <td>...</td>\n",
       "      <td>...</td>\n",
       "      <td>...</td>\n",
       "      <td>...</td>\n",
       "      <td>...</td>\n",
       "      <td>...</td>\n",
       "      <td>...</td>\n",
       "      <td>...</td>\n",
       "      <td>...</td>\n",
       "      <td>...</td>\n",
       "    </tr>\n",
       "    <tr>\n",
       "      <th>349</th>\n",
       "      <td>185</td>\n",
       "      <td>1</td>\n",
       "      <td>2</td>\n",
       "      <td>1</td>\n",
       "      <td>82</td>\n",
       "      <td>16</td>\n",
       "      <td>1.0</td>\n",
       "      <td>28.0</td>\n",
       "      <td>1693</td>\n",
       "      <td>0.694</td>\n",
       "    </tr>\n",
       "    <tr>\n",
       "      <th>350</th>\n",
       "      <td>185</td>\n",
       "      <td>1</td>\n",
       "      <td>3</td>\n",
       "      <td>1</td>\n",
       "      <td>86</td>\n",
       "      <td>16</td>\n",
       "      <td>1.0</td>\n",
       "      <td>26.0</td>\n",
       "      <td>1688</td>\n",
       "      <td>0.675</td>\n",
       "    </tr>\n",
       "    <tr>\n",
       "      <th>351</th>\n",
       "      <td>186</td>\n",
       "      <td>0</td>\n",
       "      <td>1</td>\n",
       "      <td>0</td>\n",
       "      <td>61</td>\n",
       "      <td>13</td>\n",
       "      <td>2.0</td>\n",
       "      <td>30.0</td>\n",
       "      <td>1319</td>\n",
       "      <td>0.801</td>\n",
       "    </tr>\n",
       "    <tr>\n",
       "      <th>352</th>\n",
       "      <td>186</td>\n",
       "      <td>0</td>\n",
       "      <td>2</td>\n",
       "      <td>0</td>\n",
       "      <td>63</td>\n",
       "      <td>13</td>\n",
       "      <td>2.0</td>\n",
       "      <td>30.0</td>\n",
       "      <td>1327</td>\n",
       "      <td>0.796</td>\n",
       "    </tr>\n",
       "    <tr>\n",
       "      <th>353</th>\n",
       "      <td>186</td>\n",
       "      <td>0</td>\n",
       "      <td>3</td>\n",
       "      <td>0</td>\n",
       "      <td>65</td>\n",
       "      <td>13</td>\n",
       "      <td>2.0</td>\n",
       "      <td>30.0</td>\n",
       "      <td>1333</td>\n",
       "      <td>0.801</td>\n",
       "    </tr>\n",
       "  </tbody>\n",
       "</table>\n",
       "<p>354 rows × 10 columns</p>\n",
       "</div>"
      ],
      "text/plain": [
       "     Subject ID  Demented  Visit  Sex  Age  EDUC  SES  MMSE  eTIV   nWBV\n",
       "0             1         0      1    1   87    14  2.0  27.0  1987  0.696\n",
       "1             1         0      2    1   88    14  2.0  30.0  2004  0.681\n",
       "2             4         0      1    0   88    18  3.0  28.0  1215  0.710\n",
       "3             4         0      2    0   90    18  3.0  27.0  1200  0.718\n",
       "4             5         0      1    1   80    12  4.0  28.0  1689  0.712\n",
       "..          ...       ...    ...  ...  ...   ...  ...   ...   ...    ...\n",
       "349         185         1      2    1   82    16  1.0  28.0  1693  0.694\n",
       "350         185         1      3    1   86    16  1.0  26.0  1688  0.675\n",
       "351         186         0      1    0   61    13  2.0  30.0  1319  0.801\n",
       "352         186         0      2    0   63    13  2.0  30.0  1327  0.796\n",
       "353         186         0      3    0   65    13  2.0  30.0  1333  0.801\n",
       "\n",
       "[354 rows x 10 columns]"
      ]
     },
     "execution_count": 304,
     "metadata": {},
     "output_type": "execute_result"
    }
   ],
   "source": [
    "df"
   ]
  },
  {
   "cell_type": "code",
   "execution_count": 305,
   "metadata": {},
   "outputs": [],
   "source": [
    "df = df.drop(columns=['Subject ID'])"
   ]
  },
  {
   "cell_type": "code",
   "execution_count": 306,
   "metadata": {},
   "outputs": [
    {
     "data": {
      "text/html": [
       "<div>\n",
       "<style scoped>\n",
       "    .dataframe tbody tr th:only-of-type {\n",
       "        vertical-align: middle;\n",
       "    }\n",
       "\n",
       "    .dataframe tbody tr th {\n",
       "        vertical-align: top;\n",
       "    }\n",
       "\n",
       "    .dataframe thead th {\n",
       "        text-align: right;\n",
       "    }\n",
       "</style>\n",
       "<table border=\"1\" class=\"dataframe\">\n",
       "  <thead>\n",
       "    <tr style=\"text-align: right;\">\n",
       "      <th></th>\n",
       "      <th>Demented</th>\n",
       "      <th>Visit</th>\n",
       "      <th>Sex</th>\n",
       "      <th>Age</th>\n",
       "      <th>EDUC</th>\n",
       "      <th>SES</th>\n",
       "      <th>MMSE</th>\n",
       "      <th>eTIV</th>\n",
       "      <th>nWBV</th>\n",
       "    </tr>\n",
       "  </thead>\n",
       "  <tbody>\n",
       "    <tr>\n",
       "      <th>0</th>\n",
       "      <td>0</td>\n",
       "      <td>1</td>\n",
       "      <td>1</td>\n",
       "      <td>87</td>\n",
       "      <td>14</td>\n",
       "      <td>2.0</td>\n",
       "      <td>27.0</td>\n",
       "      <td>1987</td>\n",
       "      <td>0.696</td>\n",
       "    </tr>\n",
       "    <tr>\n",
       "      <th>1</th>\n",
       "      <td>0</td>\n",
       "      <td>2</td>\n",
       "      <td>1</td>\n",
       "      <td>88</td>\n",
       "      <td>14</td>\n",
       "      <td>2.0</td>\n",
       "      <td>30.0</td>\n",
       "      <td>2004</td>\n",
       "      <td>0.681</td>\n",
       "    </tr>\n",
       "    <tr>\n",
       "      <th>2</th>\n",
       "      <td>0</td>\n",
       "      <td>1</td>\n",
       "      <td>0</td>\n",
       "      <td>88</td>\n",
       "      <td>18</td>\n",
       "      <td>3.0</td>\n",
       "      <td>28.0</td>\n",
       "      <td>1215</td>\n",
       "      <td>0.710</td>\n",
       "    </tr>\n",
       "    <tr>\n",
       "      <th>3</th>\n",
       "      <td>0</td>\n",
       "      <td>2</td>\n",
       "      <td>0</td>\n",
       "      <td>90</td>\n",
       "      <td>18</td>\n",
       "      <td>3.0</td>\n",
       "      <td>27.0</td>\n",
       "      <td>1200</td>\n",
       "      <td>0.718</td>\n",
       "    </tr>\n",
       "    <tr>\n",
       "      <th>4</th>\n",
       "      <td>0</td>\n",
       "      <td>1</td>\n",
       "      <td>1</td>\n",
       "      <td>80</td>\n",
       "      <td>12</td>\n",
       "      <td>4.0</td>\n",
       "      <td>28.0</td>\n",
       "      <td>1689</td>\n",
       "      <td>0.712</td>\n",
       "    </tr>\n",
       "    <tr>\n",
       "      <th>...</th>\n",
       "      <td>...</td>\n",
       "      <td>...</td>\n",
       "      <td>...</td>\n",
       "      <td>...</td>\n",
       "      <td>...</td>\n",
       "      <td>...</td>\n",
       "      <td>...</td>\n",
       "      <td>...</td>\n",
       "      <td>...</td>\n",
       "    </tr>\n",
       "    <tr>\n",
       "      <th>349</th>\n",
       "      <td>1</td>\n",
       "      <td>2</td>\n",
       "      <td>1</td>\n",
       "      <td>82</td>\n",
       "      <td>16</td>\n",
       "      <td>1.0</td>\n",
       "      <td>28.0</td>\n",
       "      <td>1693</td>\n",
       "      <td>0.694</td>\n",
       "    </tr>\n",
       "    <tr>\n",
       "      <th>350</th>\n",
       "      <td>1</td>\n",
       "      <td>3</td>\n",
       "      <td>1</td>\n",
       "      <td>86</td>\n",
       "      <td>16</td>\n",
       "      <td>1.0</td>\n",
       "      <td>26.0</td>\n",
       "      <td>1688</td>\n",
       "      <td>0.675</td>\n",
       "    </tr>\n",
       "    <tr>\n",
       "      <th>351</th>\n",
       "      <td>0</td>\n",
       "      <td>1</td>\n",
       "      <td>0</td>\n",
       "      <td>61</td>\n",
       "      <td>13</td>\n",
       "      <td>2.0</td>\n",
       "      <td>30.0</td>\n",
       "      <td>1319</td>\n",
       "      <td>0.801</td>\n",
       "    </tr>\n",
       "    <tr>\n",
       "      <th>352</th>\n",
       "      <td>0</td>\n",
       "      <td>2</td>\n",
       "      <td>0</td>\n",
       "      <td>63</td>\n",
       "      <td>13</td>\n",
       "      <td>2.0</td>\n",
       "      <td>30.0</td>\n",
       "      <td>1327</td>\n",
       "      <td>0.796</td>\n",
       "    </tr>\n",
       "    <tr>\n",
       "      <th>353</th>\n",
       "      <td>0</td>\n",
       "      <td>3</td>\n",
       "      <td>0</td>\n",
       "      <td>65</td>\n",
       "      <td>13</td>\n",
       "      <td>2.0</td>\n",
       "      <td>30.0</td>\n",
       "      <td>1333</td>\n",
       "      <td>0.801</td>\n",
       "    </tr>\n",
       "  </tbody>\n",
       "</table>\n",
       "<p>354 rows × 9 columns</p>\n",
       "</div>"
      ],
      "text/plain": [
       "     Demented  Visit  Sex  Age  EDUC  SES  MMSE  eTIV   nWBV\n",
       "0           0      1    1   87    14  2.0  27.0  1987  0.696\n",
       "1           0      2    1   88    14  2.0  30.0  2004  0.681\n",
       "2           0      1    0   88    18  3.0  28.0  1215  0.710\n",
       "3           0      2    0   90    18  3.0  27.0  1200  0.718\n",
       "4           0      1    1   80    12  4.0  28.0  1689  0.712\n",
       "..        ...    ...  ...  ...   ...  ...   ...   ...    ...\n",
       "349         1      2    1   82    16  1.0  28.0  1693  0.694\n",
       "350         1      3    1   86    16  1.0  26.0  1688  0.675\n",
       "351         0      1    0   61    13  2.0  30.0  1319  0.801\n",
       "352         0      2    0   63    13  2.0  30.0  1327  0.796\n",
       "353         0      3    0   65    13  2.0  30.0  1333  0.801\n",
       "\n",
       "[354 rows x 9 columns]"
      ]
     },
     "execution_count": 306,
     "metadata": {},
     "output_type": "execute_result"
    }
   ],
   "source": [
    "df"
   ]
  },
  {
   "cell_type": "code",
   "execution_count": 250,
   "metadata": {},
   "outputs": [
    {
     "name": "stdout",
     "output_type": "stream",
     "text": [
      "Optimization terminated successfully.\n",
      "         Current function value: 0.540624\n",
      "         Iterations 6\n",
      "                           Logit Regression Results                           \n",
      "==============================================================================\n",
      "Dep. Variable:               Demented   No. Observations:                  354\n",
      "Model:                          Logit   Df Residuals:                      345\n",
      "Method:                           MLE   Df Model:                            8\n",
      "Date:                Tue, 01 Dec 2020   Pseudo R-squ.:                  0.2046\n",
      "Time:                        17:06:56   Log-Likelihood:                -191.38\n",
      "converged:                       True   LL-Null:                       -240.60\n",
      "Covariance Type:            nonrobust   LLR p-value:                 8.889e-18\n",
      "==============================================================================\n",
      "                 coef    std err          z      P>|z|      [0.025      0.975]\n",
      "------------------------------------------------------------------------------\n",
      "Intercept     32.1717      5.412      5.945      0.000      21.564      42.779\n",
      "Visit         -0.0951      0.142     -0.670      0.503      -0.374       0.183\n",
      "Age           -0.0774      0.021     -3.720      0.000      -0.118      -0.037\n",
      "Sex            1.4168      0.327      4.330      0.000       0.775       2.058\n",
      "EDUC          -0.1532      0.122     -1.260      0.208      -0.391       0.085\n",
      "SES            0.1018      0.583      0.175      0.861      -1.040       1.244\n",
      "EDUC:SES      -0.0127      0.040     -0.319      0.750      -0.090       0.065\n",
      "eTIV          -0.0025      0.001     -2.636      0.008      -0.004      -0.001\n",
      "nWBV         -28.6057      4.528     -6.317      0.000     -37.481     -19.731\n",
      "==============================================================================\n"
     ]
    }
   ],
   "source": [
    "# res = sm.Logit(df.Demented, sm.add_constant(df.loc[:, df.columns != 'Demented'])).fit()\n",
    "res = sm.Logit.from_formula('Demented ~ Visit + Age + Sex + (EDUC * SES) + eTIV + nWBV', df).fit()\n",
    "print(res.summary())"
   ]
  },
  {
   "cell_type": "code",
   "execution_count": 310,
   "metadata": {},
   "outputs": [
    {
     "name": "stdout",
     "output_type": "stream",
     "text": [
      "Optimization terminated successfully.\n",
      "         Current function value: 0.620866\n",
      "         Iterations 5\n",
      "                           Logit Regression Results                           \n",
      "==============================================================================\n",
      "Dep. Variable:               Demented   No. Observations:                  354\n",
      "Model:                          Logit   Df Residuals:                      351\n",
      "Method:                           MLE   Df Model:                            2\n",
      "Date:                Tue, 01 Dec 2020   Pseudo R-squ.:                 0.08651\n",
      "Time:                        20:06:36   Log-Likelihood:                -219.79\n",
      "converged:                       True   LL-Null:                       -240.60\n",
      "Covariance Type:            nonrobust   LLR p-value:                 9.126e-10\n",
      "==============================================================================\n",
      "                 coef    std err          z      P>|z|      [0.025      0.975]\n",
      "------------------------------------------------------------------------------\n",
      "const         15.3523      2.831      5.423      0.000       9.804      20.901\n",
      "eTIV          -0.0006      0.001     -0.896      0.370      -0.002       0.001\n",
      "nWBV         -20.3487      3.404     -5.979      0.000     -27.020     -13.678\n",
      "==============================================================================\n"
     ]
    }
   ],
   "source": [
    "# res = sm.Logit(df.Demented, sm.add_constant(df.loc[:, df.columns != 'Demented'])).fit()\n",
    "# res = sm.Logit.from_formula('Demented ~ Visit + Age + Sex + EDUC + SES + eTIV + nWBV', df).fit()\n",
    "res = sm.Logit(df.Demented, sm.add_constant(df[['eTIV', 'nWBV']])).fit()\n",
    "print(res.summary())"
   ]
  },
  {
   "cell_type": "code",
   "execution_count": 311,
   "metadata": {},
   "outputs": [],
   "source": [
    "train_df = df"
   ]
  },
  {
   "cell_type": "code",
   "execution_count": 312,
   "metadata": {},
   "outputs": [],
   "source": [
    "# test_df = pd.read_csv('cs_data.tsv', sep='\\t')\n",
    "# test_df = test_df.rename(columns={'Educ': 'EDUC'})\n",
    "# test_df['Visit'] = 1"
   ]
  },
  {
   "cell_type": "code",
   "execution_count": 313,
   "metadata": {},
   "outputs": [],
   "source": [
    "# test_df = test_df[['Demented', 'Visit', 'Sex', 'Age', 'EDUC', 'SES', 'MMSE', 'eTIV', 'nWBV']]\n",
    "# test_df = test_df[['Demented', 'eTIV', 'nWBV']]"
   ]
  },
  {
   "cell_type": "code",
   "execution_count": 319,
   "metadata": {},
   "outputs": [
    {
     "name": "stdout",
     "output_type": "stream",
     "text": [
      "Training data:\n",
      "total observations: 65\n",
      "   Demented  Visit  Sex  Age  EDUC  SES  MMSE  eTIV   nWBV\n",
      "0         0      1    1   87    14  2.0  27.0  1987  0.696\n",
      "1         0      2    1   88    14  2.0  30.0  2004  0.681\n",
      "2         0      1    0   88    18  3.0  28.0  1215  0.710\n",
      "3         0      2    0   90    18  3.0  27.0  1200  0.718\n",
      "4         0      1    1   80    12  4.0  28.0  1689  0.712\n",
      "Testing data:\n",
      "total observations: 289\n",
      "   Demented  Visit  Sex  Age  EDUC  SES  MMSE  eTIV   nWBV\n",
      "0         0      1    1   87    14  2.0  27.0  1987  0.696\n",
      "2         0      1    0   88    18  3.0  28.0  1215  0.710\n",
      "3         0      2    0   90    18  3.0  27.0  1200  0.718\n",
      "4         0      1    1   80    12  4.0  28.0  1689  0.712\n",
      "5         1      2    1   83    12  4.0  29.0  1701  0.711\n"
     ]
    }
   ],
   "source": [
    "# split into train/test and print summary\n",
    "np.random.seed(667)\n",
    "train_mask = np.random.rand(df.shape[0]) < .2\n",
    "\n",
    "test_df = df[~train_mask]\n",
    "train_df = df[train_mask]\n",
    "\n",
    "print('Training data:')\n",
    "print('total observations: ' + str(train_df.shape[0]))\n",
    "print(df.head())\n",
    "print('Testing data:')\n",
    "print('total observations: ' + str(test_df.shape[0]))\n",
    "print(test_df.head())"
   ]
  },
  {
   "cell_type": "code",
   "execution_count": 361,
   "metadata": {},
   "outputs": [
    {
     "name": "stdout",
     "output_type": "stream",
     "text": [
      "Optimization terminated successfully.\n",
      "         Current function value: 0.573742\n",
      "         Iterations 6\n",
      "                           Logit Regression Results                           \n",
      "==============================================================================\n",
      "Dep. Variable:               Demented   No. Observations:                   65\n",
      "Model:                          Logit   Df Residuals:                       56\n",
      "Method:                           MLE   Df Model:                            8\n",
      "Date:                Tue, 01 Dec 2020   Pseudo R-squ.:                  0.1547\n",
      "Time:                        21:23:47   Log-Likelihood:                -37.293\n",
      "converged:                       True   LL-Null:                       -44.119\n",
      "Covariance Type:            nonrobust   LLR p-value:                   0.09129\n",
      "==============================================================================\n",
      "                 coef    std err          z      P>|z|      [0.025      0.975]\n",
      "------------------------------------------------------------------------------\n",
      "Intercept     31.5032     14.205      2.218      0.027       3.662      59.344\n",
      "eTIV          -0.0043      0.002     -1.849      0.064      -0.009       0.000\n",
      "nWBV         -24.3081     10.261     -2.369      0.018     -44.419      -4.197\n",
      "Sex            1.2623      0.737      1.712      0.087      -0.183       2.707\n",
      "Age           -0.0518      0.053     -0.974      0.330      -0.156       0.053\n",
      "Visit         -0.1012      0.426     -0.238      0.812      -0.935       0.733\n",
      "EDUC          -0.2000      0.332     -0.602      0.547      -0.851       0.451\n",
      "SES           -0.0050      2.001     -0.002      0.998      -3.927       3.918\n",
      "EDUC:SES      -0.0381      0.142     -0.269      0.788      -0.316       0.240\n",
      "==============================================================================\n"
     ]
    }
   ],
   "source": [
    "# res = sm.Logit(train_df.Demented, sm.add_constant(train_df[['eTIV', 'nWBV', 'Sex', 'Age', 'EDUC', 'SES', 'Visit']])).fit()\n",
    "res = sm.Logit.from_formula('Demented ~ eTIV + nWBV + Sex + Age + Visit + (EDUC * SES)', train_df).fit()\n",
    "print(res.summary())"
   ]
  },
  {
   "cell_type": "code",
   "execution_count": 362,
   "metadata": {},
   "outputs": [
    {
     "data": {
      "text/plain": [
       "92.58646293109689"
      ]
     },
     "execution_count": 362,
     "metadata": {},
     "output_type": "execute_result"
    }
   ],
   "source": [
    "res.aic"
   ]
  },
  {
   "cell_type": "code",
   "execution_count": 363,
   "metadata": {},
   "outputs": [
    {
     "name": "stdout",
     "output_type": "stream",
     "text": [
      "-163.3324999160772\n"
     ]
    }
   ],
   "source": [
    "preds = res.predict(sm.add_constant(test_df[['eTIV', 'nWBV', 'Sex', 'Age', 'EDUC', 'SES', 'Visit']]))\n",
    "loglike_test = (test_df.Demented*np.log(preds) + (1-test_df.Demented)*np.log(1-preds)).sum()\n",
    "print(loglike_test)"
   ]
  },
  {
   "cell_type": "code",
   "execution_count": 364,
   "metadata": {},
   "outputs": [
    {
     "data": {
      "text/plain": [
       "0.7560015741833924"
      ]
     },
     "execution_count": 364,
     "metadata": {},
     "output_type": "execute_result"
    }
   ],
   "source": [
    "roc_auc_score(test_df.Demented, preds)"
   ]
  },
  {
   "cell_type": "code",
   "execution_count": 365,
   "metadata": {},
   "outputs": [
    {
     "data": {
      "text/plain": [
       "0.7024221453287197"
      ]
     },
     "execution_count": 365,
     "metadata": {},
     "output_type": "execute_result"
    }
   ],
   "source": [
    "accuracy_score(test_df.Demented, [0 if i < 0.5 else 1 for i in preds])"
   ]
  },
  {
   "cell_type": "code",
   "execution_count": 359,
   "metadata": {},
   "outputs": [
    {
     "name": "stdout",
     "output_type": "stream",
     "text": [
      "Optimization terminated successfully.\n",
      "         Current function value: 0.574299\n",
      "         Iterations 6\n",
      "                           Logit Regression Results                           \n",
      "==============================================================================\n",
      "Dep. Variable:               Demented   No. Observations:                   65\n",
      "Model:                          Logit   Df Residuals:                       57\n",
      "Method:                           MLE   Df Model:                            7\n",
      "Date:                Tue, 01 Dec 2020   Pseudo R-squ.:                  0.1539\n",
      "Time:                        21:23:27   Log-Likelihood:                -37.329\n",
      "converged:                       True   LL-Null:                       -44.119\n",
      "Covariance Type:            nonrobust   LLR p-value:                   0.05918\n",
      "==============================================================================\n",
      "                 coef    std err          z      P>|z|      [0.025      0.975]\n",
      "------------------------------------------------------------------------------\n",
      "Intercept     33.2265     12.768      2.602      0.009       8.202      58.251\n",
      "eTIV          -0.0042      0.002     -1.852      0.064      -0.009       0.000\n",
      "nWBV         -24.8288     10.111     -2.456      0.014     -44.646      -5.012\n",
      "Sex            1.3044      0.721      1.809      0.070      -0.109       2.718\n",
      "Age           -0.0553      0.052     -1.069      0.285      -0.157       0.046\n",
      "EDUC          -0.2770      0.171     -1.619      0.105      -0.612       0.058\n",
      "SES           -0.5321      0.427     -1.245      0.213      -1.370       0.306\n",
      "Visit         -0.1050      0.426     -0.246      0.805      -0.940       0.730\n",
      "==============================================================================\n"
     ]
    }
   ],
   "source": [
    "# res = sm.Logit(train_df.Demented, sm.add_constant(train_df[['eTIV', 'nWBV', 'Sex', 'Age', 'EDUC', 'SES', 'Visit']])).fit()\n",
    "res = sm.Logit.from_formula('Demented ~ eTIV + nWBV + Sex + Age + EDUC + SES + Visit', train_df).fit()\n",
    "print(res.summary())"
   ]
  },
  {
   "cell_type": "code",
   "execution_count": 360,
   "metadata": {},
   "outputs": [
    {
     "name": "stdout",
     "output_type": "stream",
     "text": [
      "90.65887623791846\n"
     ]
    }
   ],
   "source": [
    "print(res.aic)"
   ]
  },
  {
   "cell_type": "code",
   "execution_count": 353,
   "metadata": {},
   "outputs": [
    {
     "name": "stdout",
     "output_type": "stream",
     "text": [
      "-162.58965690884588\n"
     ]
    }
   ],
   "source": [
    "preds = res.predict(sm.add_constant(test_df[['eTIV', 'nWBV', 'Sex', 'Age', 'EDUC', 'SES', 'Visit']]))\n",
    "loglike_test = (test_df.Demented*np.log(preds) + (1-test_df.Demented)*np.log(1-preds)).sum()\n",
    "print(loglike_test)"
   ]
  },
  {
   "cell_type": "code",
   "execution_count": 354,
   "metadata": {},
   "outputs": [
    {
     "data": {
      "text/plain": [
       "0.7605273514364423"
      ]
     },
     "execution_count": 354,
     "metadata": {},
     "output_type": "execute_result"
    }
   ],
   "source": [
    "roc_auc_score(test_df.Demented, preds)"
   ]
  },
  {
   "cell_type": "code",
   "execution_count": 355,
   "metadata": {},
   "outputs": [
    {
     "data": {
      "text/plain": [
       "0.7058823529411765"
      ]
     },
     "execution_count": 355,
     "metadata": {},
     "output_type": "execute_result"
    }
   ],
   "source": [
    "accuracy_score(test_df.Demented, [0 if i < 0.5 else 1 for i in preds])"
   ]
  },
  {
   "cell_type": "code",
   "execution_count": 336,
   "metadata": {},
   "outputs": [],
   "source": [
    "def forward_selection(data, response, penalty):\n",
    "    resp = data[response]\n",
    "    preds = data.loc[:, data.columns != response]\n",
    "    preds = sm.add_constant(preds)\n",
    "    selected = []\n",
    "    unselected = list(preds.columns)\n",
    "    \n",
    "    #make sure we add at least one column by setting curobj to -infinity\n",
    "    curobj = -np.inf\n",
    "    while True:\n",
    "        bestobj = -np.inf\n",
    "        bestcoln = None\n",
    "        # iterate over possible columns to add\n",
    "        for coln in unselected:\n",
    "            tmp_sel = selected + [coln]\n",
    "\n",
    "            # TODO\n",
    "            # train the model based on tmp_sel columns\n",
    "            # compute the stepwise regression objective function (tmpobj)\n",
    "            # compare it to curobj and bestobj; update bestobj and bestcoln to tmpobj and coln if it exceeds\n",
    "            \n",
    "            ### BEGIN SOLUTION\n",
    "            model = sm.Logit(endog = resp, exog = preds[tmp_sel])\n",
    "            res = model.fit(maxiter=100, disp=False)\n",
    "            tmpobj = res.llf - penalty*len(tmp_sel)\n",
    "            if tmpobj > curobj and tmpobj > bestobj:\n",
    "                bestobj = tmpobj\n",
    "                bestcoln = coln\n",
    "            ### END SOLUTION\n",
    "            \n",
    "        # if at least one column improved the objective, add it and loop; otherwise quit\n",
    "        if bestcoln is not None:\n",
    "            selected.append(bestcoln)\n",
    "            unselected.remove(bestcoln)\n",
    "            curobj = bestobj\n",
    "            print(bestobj)\n",
    "            print(selected)\n",
    "        else:\n",
    "            print('Done')\n",
    "            break\n",
    "    model = sm.Logit(endog = resp, exog = preds[selected])\n",
    "    res = model.fit(maxiter=100, disp=False)    \n",
    "    return curobj, selected, res\n",
    "\n",
    "def backward_selection(data, response, penalty):\n",
    "    resp = data[response]\n",
    "    preds = data.loc[:, data.columns != response]\n",
    "    preds = sm.add_constant(preds)\n",
    "    selected = list(preds.columns)\n",
    "    \n",
    "    #compute objective for all columns\n",
    "    model = sm.Logit(endog = resp, exog = preds[selected])\n",
    "    res = model.fit(maxiter=100, disp=False)\n",
    "    curobj = res.llf - penalty*len(selected)\n",
    "    while True:\n",
    "        bestobj = -np.inf\n",
    "        bestcoln = None\n",
    "        # iterate over possible columns to remove\n",
    "        for coln in selected:\n",
    "            tmp_sel = selected.copy()\n",
    "            tmp_sel.remove(coln)\n",
    "\n",
    "            # TODO: reuse your code block above!\n",
    "            \n",
    "            ### BEGIN SOLUTION\n",
    "            model = sm.Logit(endog = resp, exog = preds[tmp_sel])\n",
    "            res = model.fit(maxiter=100, disp=False)\n",
    "            tmpobj = res.llf - penalty*len(tmp_sel)\n",
    "            if tmpobj > curobj and tmpobj > bestobj:\n",
    "                bestobj = tmpobj\n",
    "                bestcoln = coln\n",
    "            ### END SOLUTION\n",
    "            \n",
    "        # if removing at least one column improved the objective, remove it and loop; otherwise quit\n",
    "        if bestcoln is not None:\n",
    "            selected.remove(bestcoln)\n",
    "            curobj = bestobj\n",
    "            print(bestobj)\n",
    "            print(selected)\n",
    "        else:\n",
    "            print('Done')\n",
    "            break\n",
    "    model = sm.Logit(endog = resp, exog = preds[selected])\n",
    "    res = model.fit(maxiter=100, disp=False)    \n",
    "    return curobj, selected, res"
   ]
  },
  {
   "cell_type": "code",
   "execution_count": 345,
   "metadata": {},
   "outputs": [
    {
     "name": "stdout",
     "output_type": "stream",
     "text": [
      "AIC Forward\n",
      "-44.752032003952955\n",
      "['EDUC']\n",
      "Done\n",
      "-194.75522149382599\n",
      "\n",
      "AIC Backward\n",
      "-44.36041589152367\n",
      "['const', 'eTIV', 'nWBV', 'Sex', 'Age', 'EDUC', 'SES']\n",
      "-43.96041325421714\n",
      "['const', 'eTIV', 'nWBV', 'Sex', 'EDUC', 'SES']\n",
      "-43.49524991438135\n",
      "['const', 'eTIV', 'nWBV', 'Sex', 'EDUC']\n",
      "-43.36376002580445\n",
      "['const', 'eTIV', 'nWBV', 'Sex']\n",
      "Done\n",
      "-168.35698733476175\n",
      "\n",
      "BIC Forward\n",
      "-45.83922563890077\n",
      "['EDUC']\n",
      "Done\n",
      "-194.75522149382599\n",
      "\n",
      "BIC Backward\n",
      "-51.9707713361584\n",
      "['const', 'eTIV', 'nWBV', 'Sex', 'Age', 'EDUC', 'SES']\n",
      "-50.48357506390405\n",
      "['const', 'eTIV', 'nWBV', 'Sex', 'EDUC', 'SES']\n",
      "-48.931218089120435\n",
      "['const', 'eTIV', 'nWBV', 'Sex', 'EDUC']\n",
      "-47.712534565595725\n",
      "['const', 'eTIV', 'nWBV', 'Sex']\n",
      "-47.36277058275044\n",
      "['const', 'eTIV', 'nWBV']\n",
      "-45.86953468084839\n",
      "['const', 'nWBV']\n",
      "Done\n",
      "-179.28235686351462\n"
     ]
    }
   ],
   "source": [
    "test_df = sm.add_constant(test_df)\n",
    "\n",
    "print('AIC Forward')\n",
    "obj, sel, res = forward_selection(train_df[['eTIV', 'nWBV', 'Sex', 'Age', 'EDUC', 'SES', 'Visit', 'Demented']], 'Demented', 1)\n",
    "preds = res.predict(test_df[sel])\n",
    "loglike_test = (test_df.Demented*np.log(preds) + (1-test_df.Demented)*np.log(1-preds)).sum()\n",
    "print(loglike_test)\n",
    "\n",
    "print('')\n",
    "print('AIC Backward')\n",
    "obj, sel, res = backward_selection(train_df[['eTIV', 'nWBV', 'Sex', 'Age', 'EDUC', 'SES', 'Visit', 'Demented']], 'Demented', 1)     \n",
    "preds = res.predict(test_df[sel])\n",
    "loglike_test = (test_df.Demented*np.log(preds) + (1-test_df.Demented)*np.log(1-preds)).sum()\n",
    "print(loglike_test)\n",
    "\n",
    "print('')\n",
    "print('BIC Forward')\n",
    "obj, sel, res = forward_selection(train_df[['eTIV', 'nWBV', 'Sex', 'Age', 'EDUC', 'SES', 'Visit', 'Demented']], 'Demented', 0.5*np.log(train_df.shape[0]))\n",
    "preds = res.predict(test_df[sel])\n",
    "loglike_test = (test_df.Demented*np.log(preds) + (1-test_df.Demented)*np.log(1-preds)).sum()\n",
    "print(loglike_test)\n",
    "\n",
    "print('')\n",
    "print('BIC Backward')\n",
    "obj, sel, res = backward_selection(train_df[['eTIV', 'nWBV', 'Sex', 'Age', 'EDUC', 'SES', 'Visit', 'Demented']], 'Demented', 0.5*np.log(train_df.shape[0]))\n",
    "preds = res.predict(test_df[sel])\n",
    "loglike_test = (test_df.Demented*np.log(preds) + (1-test_df.Demented)*np.log(1-preds)).sum()\n",
    "print(loglike_test)"
   ]
  },
  {
   "cell_type": "code",
   "execution_count": 357,
   "metadata": {},
   "outputs": [
    {
     "name": "stdout",
     "output_type": "stream",
     "text": [
      "Optimization terminated successfully.\n",
      "         Current function value: 0.605596\n",
      "         Iterations 5\n",
      "                           Logit Regression Results                           \n",
      "==============================================================================\n",
      "Dep. Variable:               Demented   No. Observations:                   65\n",
      "Model:                          Logit   Df Residuals:                       61\n",
      "Method:                           MLE   Df Model:                            3\n",
      "Date:                Tue, 01 Dec 2020   Pseudo R-squ.:                  0.1078\n",
      "Time:                        21:14:29   Log-Likelihood:                -39.364\n",
      "converged:                       True   LL-Null:                       -44.119\n",
      "Covariance Type:            nonrobust   LLR p-value:                   0.02321\n",
      "==============================================================================\n",
      "                 coef    std err          z      P>|z|      [0.025      0.975]\n",
      "------------------------------------------------------------------------------\n",
      "const         18.6915      7.238      2.583      0.010       4.506      32.877\n",
      "nWBV         -19.4150      8.116     -2.392      0.017     -35.323      -3.507\n",
      "eTIV          -0.0036      0.002     -1.846      0.065      -0.008       0.000\n",
      "Sex            1.2379      0.686      1.804      0.071      -0.107       2.583\n",
      "==============================================================================\n"
     ]
    }
   ],
   "source": [
    "res = sm.Logit(train_df.Demented, sm.add_constant(train_df[['nWBV', 'eTIV', 'Sex']])).fit()\n",
    "print(res.summary())"
   ]
  },
  {
   "cell_type": "code",
   "execution_count": 358,
   "metadata": {},
   "outputs": [
    {
     "data": {
      "text/plain": [
       "86.7275200516089"
      ]
     },
     "execution_count": 358,
     "metadata": {},
     "output_type": "execute_result"
    }
   ],
   "source": [
    "res.aic"
   ]
  },
  {
   "cell_type": "code",
   "execution_count": 347,
   "metadata": {},
   "outputs": [
    {
     "name": "stdout",
     "output_type": "stream",
     "text": [
      "-168.35698733476178\n"
     ]
    }
   ],
   "source": [
    "preds = res.predict(sm.add_constant(test_df[['nWBV', 'eTIV', 'Sex']]))\n",
    "loglike_test = (test_df.Demented*np.log(preds) + (1-test_df.Demented)*np.log(1-preds)).sum()\n",
    "print(loglike_test)"
   ]
  },
  {
   "cell_type": "code",
   "execution_count": 348,
   "metadata": {},
   "outputs": [
    {
     "data": {
      "text/plain": [
       "0.7401613537977174"
      ]
     },
     "execution_count": 348,
     "metadata": {},
     "output_type": "execute_result"
    }
   ],
   "source": [
    "roc_auc_score(test_df.Demented, preds)"
   ]
  },
  {
   "cell_type": "code",
   "execution_count": 349,
   "metadata": {},
   "outputs": [
    {
     "data": {
      "text/plain": [
       "0.698961937716263"
      ]
     },
     "execution_count": 349,
     "metadata": {},
     "output_type": "execute_result"
    }
   ],
   "source": [
    "accuracy_score(test_df.Demented, [0 if i < 0.5 else 1 for i in preds])"
   ]
  },
  {
   "cell_type": "code",
   "execution_count": 248,
   "metadata": {},
   "outputs": [
    {
     "data": {
      "text/plain": [
       "0      0.306987\n",
       "2      0.619019\n",
       "3      0.594994\n",
       "4      0.489890\n",
       "5      0.483831\n",
       "         ...   \n",
       "349    0.573090\n",
       "350    0.664084\n",
       "351    0.159783\n",
       "352    0.169120\n",
       "353    0.153062\n",
       "Length: 289, dtype: float64"
      ]
     },
     "execution_count": 248,
     "metadata": {},
     "output_type": "execute_result"
    }
   ],
   "source": [
    "preds"
   ]
  },
  {
   "cell_type": "code",
   "execution_count": 188,
   "metadata": {},
   "outputs": [
    {
     "data": {
      "text/html": [
       "<div>\n",
       "<style scoped>\n",
       "    .dataframe tbody tr th:only-of-type {\n",
       "        vertical-align: middle;\n",
       "    }\n",
       "\n",
       "    .dataframe tbody tr th {\n",
       "        vertical-align: top;\n",
       "    }\n",
       "\n",
       "    .dataframe thead th {\n",
       "        text-align: right;\n",
       "    }\n",
       "</style>\n",
       "<table border=\"1\" class=\"dataframe\">\n",
       "  <thead>\n",
       "    <tr style=\"text-align: right;\">\n",
       "      <th></th>\n",
       "      <th>const</th>\n",
       "      <th>Demented</th>\n",
       "      <th>Visit</th>\n",
       "      <th>Age</th>\n",
       "      <th>EDUC</th>\n",
       "      <th>SES</th>\n",
       "      <th>MMSE</th>\n",
       "      <th>eTIV</th>\n",
       "      <th>nWBV</th>\n",
       "      <th>Sex_F</th>\n",
       "    </tr>\n",
       "  </thead>\n",
       "  <tbody>\n",
       "    <tr>\n",
       "      <th>0</th>\n",
       "      <td>1.0</td>\n",
       "      <td>0</td>\n",
       "      <td>1</td>\n",
       "      <td>87</td>\n",
       "      <td>14</td>\n",
       "      <td>2.0</td>\n",
       "      <td>27.0</td>\n",
       "      <td>1987</td>\n",
       "      <td>0.696</td>\n",
       "      <td>0</td>\n",
       "    </tr>\n",
       "    <tr>\n",
       "      <th>2</th>\n",
       "      <td>1.0</td>\n",
       "      <td>0</td>\n",
       "      <td>1</td>\n",
       "      <td>88</td>\n",
       "      <td>18</td>\n",
       "      <td>3.0</td>\n",
       "      <td>28.0</td>\n",
       "      <td>1215</td>\n",
       "      <td>0.710</td>\n",
       "      <td>1</td>\n",
       "    </tr>\n",
       "    <tr>\n",
       "      <th>3</th>\n",
       "      <td>1.0</td>\n",
       "      <td>0</td>\n",
       "      <td>2</td>\n",
       "      <td>90</td>\n",
       "      <td>18</td>\n",
       "      <td>3.0</td>\n",
       "      <td>27.0</td>\n",
       "      <td>1200</td>\n",
       "      <td>0.718</td>\n",
       "      <td>1</td>\n",
       "    </tr>\n",
       "    <tr>\n",
       "      <th>4</th>\n",
       "      <td>1.0</td>\n",
       "      <td>0</td>\n",
       "      <td>1</td>\n",
       "      <td>80</td>\n",
       "      <td>12</td>\n",
       "      <td>4.0</td>\n",
       "      <td>28.0</td>\n",
       "      <td>1689</td>\n",
       "      <td>0.712</td>\n",
       "      <td>0</td>\n",
       "    </tr>\n",
       "    <tr>\n",
       "      <th>5</th>\n",
       "      <td>1.0</td>\n",
       "      <td>1</td>\n",
       "      <td>2</td>\n",
       "      <td>83</td>\n",
       "      <td>12</td>\n",
       "      <td>4.0</td>\n",
       "      <td>29.0</td>\n",
       "      <td>1701</td>\n",
       "      <td>0.711</td>\n",
       "      <td>0</td>\n",
       "    </tr>\n",
       "    <tr>\n",
       "      <th>...</th>\n",
       "      <td>...</td>\n",
       "      <td>...</td>\n",
       "      <td>...</td>\n",
       "      <td>...</td>\n",
       "      <td>...</td>\n",
       "      <td>...</td>\n",
       "      <td>...</td>\n",
       "      <td>...</td>\n",
       "      <td>...</td>\n",
       "      <td>...</td>\n",
       "    </tr>\n",
       "    <tr>\n",
       "      <th>349</th>\n",
       "      <td>1.0</td>\n",
       "      <td>1</td>\n",
       "      <td>2</td>\n",
       "      <td>82</td>\n",
       "      <td>16</td>\n",
       "      <td>1.0</td>\n",
       "      <td>28.0</td>\n",
       "      <td>1693</td>\n",
       "      <td>0.694</td>\n",
       "      <td>0</td>\n",
       "    </tr>\n",
       "    <tr>\n",
       "      <th>350</th>\n",
       "      <td>1.0</td>\n",
       "      <td>1</td>\n",
       "      <td>3</td>\n",
       "      <td>86</td>\n",
       "      <td>16</td>\n",
       "      <td>1.0</td>\n",
       "      <td>26.0</td>\n",
       "      <td>1688</td>\n",
       "      <td>0.675</td>\n",
       "      <td>0</td>\n",
       "    </tr>\n",
       "    <tr>\n",
       "      <th>351</th>\n",
       "      <td>1.0</td>\n",
       "      <td>0</td>\n",
       "      <td>1</td>\n",
       "      <td>61</td>\n",
       "      <td>13</td>\n",
       "      <td>2.0</td>\n",
       "      <td>30.0</td>\n",
       "      <td>1319</td>\n",
       "      <td>0.801</td>\n",
       "      <td>1</td>\n",
       "    </tr>\n",
       "    <tr>\n",
       "      <th>352</th>\n",
       "      <td>1.0</td>\n",
       "      <td>0</td>\n",
       "      <td>2</td>\n",
       "      <td>63</td>\n",
       "      <td>13</td>\n",
       "      <td>2.0</td>\n",
       "      <td>30.0</td>\n",
       "      <td>1327</td>\n",
       "      <td>0.796</td>\n",
       "      <td>1</td>\n",
       "    </tr>\n",
       "    <tr>\n",
       "      <th>353</th>\n",
       "      <td>1.0</td>\n",
       "      <td>0</td>\n",
       "      <td>3</td>\n",
       "      <td>65</td>\n",
       "      <td>13</td>\n",
       "      <td>2.0</td>\n",
       "      <td>30.0</td>\n",
       "      <td>1333</td>\n",
       "      <td>0.801</td>\n",
       "      <td>1</td>\n",
       "    </tr>\n",
       "  </tbody>\n",
       "</table>\n",
       "<p>289 rows × 10 columns</p>\n",
       "</div>"
      ],
      "text/plain": [
       "     const  Demented  Visit  Age  EDUC  SES  MMSE  eTIV   nWBV  Sex_F\n",
       "0      1.0         0      1   87    14  2.0  27.0  1987  0.696      0\n",
       "2      1.0         0      1   88    18  3.0  28.0  1215  0.710      1\n",
       "3      1.0         0      2   90    18  3.0  27.0  1200  0.718      1\n",
       "4      1.0         0      1   80    12  4.0  28.0  1689  0.712      0\n",
       "5      1.0         1      2   83    12  4.0  29.0  1701  0.711      0\n",
       "..     ...       ...    ...  ...   ...  ...   ...   ...    ...    ...\n",
       "349    1.0         1      2   82    16  1.0  28.0  1693  0.694      0\n",
       "350    1.0         1      3   86    16  1.0  26.0  1688  0.675      0\n",
       "351    1.0         0      1   61    13  2.0  30.0  1319  0.801      1\n",
       "352    1.0         0      2   63    13  2.0  30.0  1327  0.796      1\n",
       "353    1.0         0      3   65    13  2.0  30.0  1333  0.801      1\n",
       "\n",
       "[289 rows x 10 columns]"
      ]
     },
     "execution_count": 188,
     "metadata": {},
     "output_type": "execute_result"
    }
   ],
   "source": [
    "test_df"
   ]
  }
 ],
 "metadata": {
  "kernelspec": {
   "display_name": "Python 3",
   "language": "python",
   "name": "python3"
  },
  "language_info": {
   "codemirror_mode": {
    "name": "ipython",
    "version": 3
   },
   "file_extension": ".py",
   "mimetype": "text/x-python",
   "name": "python",
   "nbconvert_exporter": "python",
   "pygments_lexer": "ipython3",
   "version": "3.8.5"
  }
 },
 "nbformat": 4,
 "nbformat_minor": 4
}
