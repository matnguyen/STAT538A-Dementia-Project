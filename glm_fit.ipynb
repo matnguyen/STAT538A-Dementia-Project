{
 "cells": [
  {
   "cell_type": "code",
   "execution_count": 1,
   "metadata": {},
   "outputs": [],
   "source": [
    "import pandas as pd \n",
    "import numpy as np\n",
    "import matplotlib.pyplot as plt\n",
    "import seaborn as sns\n",
    "import statsmodels.api as sm\n",
    "import mord as m\n",
    "\n",
    "from itertools import combinations\n",
    "from sklearn.metrics import accuracy_score, roc_auc_score\n",
    "from sklearn.model_selection import StratifiedKFold\n",
    "\n",
    "seed = 667"
   ]
  },
  {
   "cell_type": "code",
   "execution_count": 2,
   "metadata": {},
   "outputs": [],
   "source": [
    "# ignore convergence warnings\n",
    "import warnings\n",
    "from statsmodels.tools.sm_exceptions import ConvergenceWarning\n",
    "warnings.simplefilter('ignore', ConvergenceWarning) \n",
    "warnings.simplefilter('ignore', RuntimeWarning) \n",
    "warnings.simplefilter('ignore', UserWarning) "
   ]
  },
  {
   "cell_type": "code",
   "execution_count": 3,
   "metadata": {},
   "outputs": [],
   "source": [
    "df = pd.read_csv('dementia.tsv', sep='\\t')"
   ]
  },
  {
   "cell_type": "code",
   "execution_count": 4,
   "metadata": {},
   "outputs": [
    {
     "data": {
      "text/html": [
       "<div>\n",
       "<style scoped>\n",
       "    .dataframe tbody tr th:only-of-type {\n",
       "        vertical-align: middle;\n",
       "    }\n",
       "\n",
       "    .dataframe tbody tr th {\n",
       "        vertical-align: top;\n",
       "    }\n",
       "\n",
       "    .dataframe thead th {\n",
       "        text-align: right;\n",
       "    }\n",
       "</style>\n",
       "<table border=\"1\" class=\"dataframe\">\n",
       "  <thead>\n",
       "    <tr style=\"text-align: right;\">\n",
       "      <th></th>\n",
       "      <th>Subject ID</th>\n",
       "      <th>Group</th>\n",
       "      <th>Visit</th>\n",
       "      <th>MR Delay</th>\n",
       "      <th>Sex</th>\n",
       "      <th>Age</th>\n",
       "      <th>EDUC</th>\n",
       "      <th>SES</th>\n",
       "      <th>MMSE</th>\n",
       "      <th>CDR</th>\n",
       "      <th>eTIV</th>\n",
       "      <th>nWBV</th>\n",
       "      <th>Demented</th>\n",
       "      <th>Group_num</th>\n",
       "      <th>CDR_int</th>\n",
       "    </tr>\n",
       "  </thead>\n",
       "  <tbody>\n",
       "    <tr>\n",
       "      <th>0</th>\n",
       "      <td>1</td>\n",
       "      <td>Nondemented</td>\n",
       "      <td>1</td>\n",
       "      <td>0</td>\n",
       "      <td>1</td>\n",
       "      <td>87</td>\n",
       "      <td>14</td>\n",
       "      <td>2.0</td>\n",
       "      <td>27.0</td>\n",
       "      <td>0.0</td>\n",
       "      <td>1987</td>\n",
       "      <td>0.696</td>\n",
       "      <td>0</td>\n",
       "      <td>0</td>\n",
       "      <td>0</td>\n",
       "    </tr>\n",
       "    <tr>\n",
       "      <th>1</th>\n",
       "      <td>1</td>\n",
       "      <td>Nondemented</td>\n",
       "      <td>2</td>\n",
       "      <td>457</td>\n",
       "      <td>1</td>\n",
       "      <td>88</td>\n",
       "      <td>14</td>\n",
       "      <td>2.0</td>\n",
       "      <td>30.0</td>\n",
       "      <td>0.0</td>\n",
       "      <td>2004</td>\n",
       "      <td>0.681</td>\n",
       "      <td>0</td>\n",
       "      <td>0</td>\n",
       "      <td>0</td>\n",
       "    </tr>\n",
       "    <tr>\n",
       "      <th>2</th>\n",
       "      <td>4</td>\n",
       "      <td>Nondemented</td>\n",
       "      <td>1</td>\n",
       "      <td>0</td>\n",
       "      <td>0</td>\n",
       "      <td>88</td>\n",
       "      <td>18</td>\n",
       "      <td>3.0</td>\n",
       "      <td>28.0</td>\n",
       "      <td>0.0</td>\n",
       "      <td>1215</td>\n",
       "      <td>0.710</td>\n",
       "      <td>0</td>\n",
       "      <td>0</td>\n",
       "      <td>0</td>\n",
       "    </tr>\n",
       "    <tr>\n",
       "      <th>3</th>\n",
       "      <td>4</td>\n",
       "      <td>Nondemented</td>\n",
       "      <td>2</td>\n",
       "      <td>538</td>\n",
       "      <td>0</td>\n",
       "      <td>90</td>\n",
       "      <td>18</td>\n",
       "      <td>3.0</td>\n",
       "      <td>27.0</td>\n",
       "      <td>0.0</td>\n",
       "      <td>1200</td>\n",
       "      <td>0.718</td>\n",
       "      <td>0</td>\n",
       "      <td>0</td>\n",
       "      <td>0</td>\n",
       "    </tr>\n",
       "    <tr>\n",
       "      <th>4</th>\n",
       "      <td>5</td>\n",
       "      <td>Nondemented</td>\n",
       "      <td>1</td>\n",
       "      <td>0</td>\n",
       "      <td>1</td>\n",
       "      <td>80</td>\n",
       "      <td>12</td>\n",
       "      <td>4.0</td>\n",
       "      <td>28.0</td>\n",
       "      <td>0.0</td>\n",
       "      <td>1689</td>\n",
       "      <td>0.712</td>\n",
       "      <td>0</td>\n",
       "      <td>0</td>\n",
       "      <td>0</td>\n",
       "    </tr>\n",
       "    <tr>\n",
       "      <th>...</th>\n",
       "      <td>...</td>\n",
       "      <td>...</td>\n",
       "      <td>...</td>\n",
       "      <td>...</td>\n",
       "      <td>...</td>\n",
       "      <td>...</td>\n",
       "      <td>...</td>\n",
       "      <td>...</td>\n",
       "      <td>...</td>\n",
       "      <td>...</td>\n",
       "      <td>...</td>\n",
       "      <td>...</td>\n",
       "      <td>...</td>\n",
       "      <td>...</td>\n",
       "      <td>...</td>\n",
       "    </tr>\n",
       "    <tr>\n",
       "      <th>349</th>\n",
       "      <td>185</td>\n",
       "      <td>Demented</td>\n",
       "      <td>2</td>\n",
       "      <td>842</td>\n",
       "      <td>1</td>\n",
       "      <td>82</td>\n",
       "      <td>16</td>\n",
       "      <td>1.0</td>\n",
       "      <td>28.0</td>\n",
       "      <td>0.5</td>\n",
       "      <td>1693</td>\n",
       "      <td>0.694</td>\n",
       "      <td>1</td>\n",
       "      <td>1</td>\n",
       "      <td>1</td>\n",
       "    </tr>\n",
       "    <tr>\n",
       "      <th>350</th>\n",
       "      <td>185</td>\n",
       "      <td>Demented</td>\n",
       "      <td>3</td>\n",
       "      <td>2297</td>\n",
       "      <td>1</td>\n",
       "      <td>86</td>\n",
       "      <td>16</td>\n",
       "      <td>1.0</td>\n",
       "      <td>26.0</td>\n",
       "      <td>0.5</td>\n",
       "      <td>1688</td>\n",
       "      <td>0.675</td>\n",
       "      <td>1</td>\n",
       "      <td>1</td>\n",
       "      <td>1</td>\n",
       "    </tr>\n",
       "    <tr>\n",
       "      <th>351</th>\n",
       "      <td>186</td>\n",
       "      <td>Nondemented</td>\n",
       "      <td>1</td>\n",
       "      <td>0</td>\n",
       "      <td>0</td>\n",
       "      <td>61</td>\n",
       "      <td>13</td>\n",
       "      <td>2.0</td>\n",
       "      <td>30.0</td>\n",
       "      <td>0.0</td>\n",
       "      <td>1319</td>\n",
       "      <td>0.801</td>\n",
       "      <td>0</td>\n",
       "      <td>0</td>\n",
       "      <td>0</td>\n",
       "    </tr>\n",
       "    <tr>\n",
       "      <th>352</th>\n",
       "      <td>186</td>\n",
       "      <td>Nondemented</td>\n",
       "      <td>2</td>\n",
       "      <td>763</td>\n",
       "      <td>0</td>\n",
       "      <td>63</td>\n",
       "      <td>13</td>\n",
       "      <td>2.0</td>\n",
       "      <td>30.0</td>\n",
       "      <td>0.0</td>\n",
       "      <td>1327</td>\n",
       "      <td>0.796</td>\n",
       "      <td>0</td>\n",
       "      <td>0</td>\n",
       "      <td>0</td>\n",
       "    </tr>\n",
       "    <tr>\n",
       "      <th>353</th>\n",
       "      <td>186</td>\n",
       "      <td>Nondemented</td>\n",
       "      <td>3</td>\n",
       "      <td>1608</td>\n",
       "      <td>0</td>\n",
       "      <td>65</td>\n",
       "      <td>13</td>\n",
       "      <td>2.0</td>\n",
       "      <td>30.0</td>\n",
       "      <td>0.0</td>\n",
       "      <td>1333</td>\n",
       "      <td>0.801</td>\n",
       "      <td>0</td>\n",
       "      <td>0</td>\n",
       "      <td>0</td>\n",
       "    </tr>\n",
       "  </tbody>\n",
       "</table>\n",
       "<p>354 rows × 15 columns</p>\n",
       "</div>"
      ],
      "text/plain": [
       "     Subject ID        Group  Visit  MR Delay  Sex  Age  EDUC  SES  MMSE  CDR  \\\n",
       "0             1  Nondemented      1         0    1   87    14  2.0  27.0  0.0   \n",
       "1             1  Nondemented      2       457    1   88    14  2.0  30.0  0.0   \n",
       "2             4  Nondemented      1         0    0   88    18  3.0  28.0  0.0   \n",
       "3             4  Nondemented      2       538    0   90    18  3.0  27.0  0.0   \n",
       "4             5  Nondemented      1         0    1   80    12  4.0  28.0  0.0   \n",
       "..          ...          ...    ...       ...  ...  ...   ...  ...   ...  ...   \n",
       "349         185     Demented      2       842    1   82    16  1.0  28.0  0.5   \n",
       "350         185     Demented      3      2297    1   86    16  1.0  26.0  0.5   \n",
       "351         186  Nondemented      1         0    0   61    13  2.0  30.0  0.0   \n",
       "352         186  Nondemented      2       763    0   63    13  2.0  30.0  0.0   \n",
       "353         186  Nondemented      3      1608    0   65    13  2.0  30.0  0.0   \n",
       "\n",
       "     eTIV   nWBV  Demented  Group_num  CDR_int  \n",
       "0    1987  0.696         0          0        0  \n",
       "1    2004  0.681         0          0        0  \n",
       "2    1215  0.710         0          0        0  \n",
       "3    1200  0.718         0          0        0  \n",
       "4    1689  0.712         0          0        0  \n",
       "..    ...    ...       ...        ...      ...  \n",
       "349  1693  0.694         1          1        1  \n",
       "350  1688  0.675         1          1        1  \n",
       "351  1319  0.801         0          0        0  \n",
       "352  1327  0.796         0          0        0  \n",
       "353  1333  0.801         0          0        0  \n",
       "\n",
       "[354 rows x 15 columns]"
      ]
     },
     "execution_count": 4,
     "metadata": {},
     "output_type": "execute_result"
    }
   ],
   "source": [
    "df"
   ]
  },
  {
   "cell_type": "code",
   "execution_count": 5,
   "metadata": {},
   "outputs": [],
   "source": [
    "df = df.drop(columns=['Subject ID'])"
   ]
  },
  {
   "cell_type": "code",
   "execution_count": 6,
   "metadata": {},
   "outputs": [
    {
     "data": {
      "text/html": [
       "<div>\n",
       "<style scoped>\n",
       "    .dataframe tbody tr th:only-of-type {\n",
       "        vertical-align: middle;\n",
       "    }\n",
       "\n",
       "    .dataframe tbody tr th {\n",
       "        vertical-align: top;\n",
       "    }\n",
       "\n",
       "    .dataframe thead th {\n",
       "        text-align: right;\n",
       "    }\n",
       "</style>\n",
       "<table border=\"1\" class=\"dataframe\">\n",
       "  <thead>\n",
       "    <tr style=\"text-align: right;\">\n",
       "      <th></th>\n",
       "      <th>Group</th>\n",
       "      <th>Visit</th>\n",
       "      <th>MR Delay</th>\n",
       "      <th>Sex</th>\n",
       "      <th>Age</th>\n",
       "      <th>EDUC</th>\n",
       "      <th>SES</th>\n",
       "      <th>MMSE</th>\n",
       "      <th>CDR</th>\n",
       "      <th>eTIV</th>\n",
       "      <th>nWBV</th>\n",
       "      <th>Demented</th>\n",
       "      <th>Group_num</th>\n",
       "      <th>CDR_int</th>\n",
       "    </tr>\n",
       "  </thead>\n",
       "  <tbody>\n",
       "    <tr>\n",
       "      <th>0</th>\n",
       "      <td>Nondemented</td>\n",
       "      <td>1</td>\n",
       "      <td>0</td>\n",
       "      <td>1</td>\n",
       "      <td>87</td>\n",
       "      <td>14</td>\n",
       "      <td>2.0</td>\n",
       "      <td>27.0</td>\n",
       "      <td>0.0</td>\n",
       "      <td>1987</td>\n",
       "      <td>0.696</td>\n",
       "      <td>0</td>\n",
       "      <td>0</td>\n",
       "      <td>0</td>\n",
       "    </tr>\n",
       "    <tr>\n",
       "      <th>1</th>\n",
       "      <td>Nondemented</td>\n",
       "      <td>2</td>\n",
       "      <td>457</td>\n",
       "      <td>1</td>\n",
       "      <td>88</td>\n",
       "      <td>14</td>\n",
       "      <td>2.0</td>\n",
       "      <td>30.0</td>\n",
       "      <td>0.0</td>\n",
       "      <td>2004</td>\n",
       "      <td>0.681</td>\n",
       "      <td>0</td>\n",
       "      <td>0</td>\n",
       "      <td>0</td>\n",
       "    </tr>\n",
       "    <tr>\n",
       "      <th>2</th>\n",
       "      <td>Nondemented</td>\n",
       "      <td>1</td>\n",
       "      <td>0</td>\n",
       "      <td>0</td>\n",
       "      <td>88</td>\n",
       "      <td>18</td>\n",
       "      <td>3.0</td>\n",
       "      <td>28.0</td>\n",
       "      <td>0.0</td>\n",
       "      <td>1215</td>\n",
       "      <td>0.710</td>\n",
       "      <td>0</td>\n",
       "      <td>0</td>\n",
       "      <td>0</td>\n",
       "    </tr>\n",
       "    <tr>\n",
       "      <th>3</th>\n",
       "      <td>Nondemented</td>\n",
       "      <td>2</td>\n",
       "      <td>538</td>\n",
       "      <td>0</td>\n",
       "      <td>90</td>\n",
       "      <td>18</td>\n",
       "      <td>3.0</td>\n",
       "      <td>27.0</td>\n",
       "      <td>0.0</td>\n",
       "      <td>1200</td>\n",
       "      <td>0.718</td>\n",
       "      <td>0</td>\n",
       "      <td>0</td>\n",
       "      <td>0</td>\n",
       "    </tr>\n",
       "    <tr>\n",
       "      <th>4</th>\n",
       "      <td>Nondemented</td>\n",
       "      <td>1</td>\n",
       "      <td>0</td>\n",
       "      <td>1</td>\n",
       "      <td>80</td>\n",
       "      <td>12</td>\n",
       "      <td>4.0</td>\n",
       "      <td>28.0</td>\n",
       "      <td>0.0</td>\n",
       "      <td>1689</td>\n",
       "      <td>0.712</td>\n",
       "      <td>0</td>\n",
       "      <td>0</td>\n",
       "      <td>0</td>\n",
       "    </tr>\n",
       "    <tr>\n",
       "      <th>...</th>\n",
       "      <td>...</td>\n",
       "      <td>...</td>\n",
       "      <td>...</td>\n",
       "      <td>...</td>\n",
       "      <td>...</td>\n",
       "      <td>...</td>\n",
       "      <td>...</td>\n",
       "      <td>...</td>\n",
       "      <td>...</td>\n",
       "      <td>...</td>\n",
       "      <td>...</td>\n",
       "      <td>...</td>\n",
       "      <td>...</td>\n",
       "      <td>...</td>\n",
       "    </tr>\n",
       "    <tr>\n",
       "      <th>349</th>\n",
       "      <td>Demented</td>\n",
       "      <td>2</td>\n",
       "      <td>842</td>\n",
       "      <td>1</td>\n",
       "      <td>82</td>\n",
       "      <td>16</td>\n",
       "      <td>1.0</td>\n",
       "      <td>28.0</td>\n",
       "      <td>0.5</td>\n",
       "      <td>1693</td>\n",
       "      <td>0.694</td>\n",
       "      <td>1</td>\n",
       "      <td>1</td>\n",
       "      <td>1</td>\n",
       "    </tr>\n",
       "    <tr>\n",
       "      <th>350</th>\n",
       "      <td>Demented</td>\n",
       "      <td>3</td>\n",
       "      <td>2297</td>\n",
       "      <td>1</td>\n",
       "      <td>86</td>\n",
       "      <td>16</td>\n",
       "      <td>1.0</td>\n",
       "      <td>26.0</td>\n",
       "      <td>0.5</td>\n",
       "      <td>1688</td>\n",
       "      <td>0.675</td>\n",
       "      <td>1</td>\n",
       "      <td>1</td>\n",
       "      <td>1</td>\n",
       "    </tr>\n",
       "    <tr>\n",
       "      <th>351</th>\n",
       "      <td>Nondemented</td>\n",
       "      <td>1</td>\n",
       "      <td>0</td>\n",
       "      <td>0</td>\n",
       "      <td>61</td>\n",
       "      <td>13</td>\n",
       "      <td>2.0</td>\n",
       "      <td>30.0</td>\n",
       "      <td>0.0</td>\n",
       "      <td>1319</td>\n",
       "      <td>0.801</td>\n",
       "      <td>0</td>\n",
       "      <td>0</td>\n",
       "      <td>0</td>\n",
       "    </tr>\n",
       "    <tr>\n",
       "      <th>352</th>\n",
       "      <td>Nondemented</td>\n",
       "      <td>2</td>\n",
       "      <td>763</td>\n",
       "      <td>0</td>\n",
       "      <td>63</td>\n",
       "      <td>13</td>\n",
       "      <td>2.0</td>\n",
       "      <td>30.0</td>\n",
       "      <td>0.0</td>\n",
       "      <td>1327</td>\n",
       "      <td>0.796</td>\n",
       "      <td>0</td>\n",
       "      <td>0</td>\n",
       "      <td>0</td>\n",
       "    </tr>\n",
       "    <tr>\n",
       "      <th>353</th>\n",
       "      <td>Nondemented</td>\n",
       "      <td>3</td>\n",
       "      <td>1608</td>\n",
       "      <td>0</td>\n",
       "      <td>65</td>\n",
       "      <td>13</td>\n",
       "      <td>2.0</td>\n",
       "      <td>30.0</td>\n",
       "      <td>0.0</td>\n",
       "      <td>1333</td>\n",
       "      <td>0.801</td>\n",
       "      <td>0</td>\n",
       "      <td>0</td>\n",
       "      <td>0</td>\n",
       "    </tr>\n",
       "  </tbody>\n",
       "</table>\n",
       "<p>354 rows × 14 columns</p>\n",
       "</div>"
      ],
      "text/plain": [
       "           Group  Visit  MR Delay  Sex  Age  EDUC  SES  MMSE  CDR  eTIV  \\\n",
       "0    Nondemented      1         0    1   87    14  2.0  27.0  0.0  1987   \n",
       "1    Nondemented      2       457    1   88    14  2.0  30.0  0.0  2004   \n",
       "2    Nondemented      1         0    0   88    18  3.0  28.0  0.0  1215   \n",
       "3    Nondemented      2       538    0   90    18  3.0  27.0  0.0  1200   \n",
       "4    Nondemented      1         0    1   80    12  4.0  28.0  0.0  1689   \n",
       "..           ...    ...       ...  ...  ...   ...  ...   ...  ...   ...   \n",
       "349     Demented      2       842    1   82    16  1.0  28.0  0.5  1693   \n",
       "350     Demented      3      2297    1   86    16  1.0  26.0  0.5  1688   \n",
       "351  Nondemented      1         0    0   61    13  2.0  30.0  0.0  1319   \n",
       "352  Nondemented      2       763    0   63    13  2.0  30.0  0.0  1327   \n",
       "353  Nondemented      3      1608    0   65    13  2.0  30.0  0.0  1333   \n",
       "\n",
       "      nWBV  Demented  Group_num  CDR_int  \n",
       "0    0.696         0          0        0  \n",
       "1    0.681         0          0        0  \n",
       "2    0.710         0          0        0  \n",
       "3    0.718         0          0        0  \n",
       "4    0.712         0          0        0  \n",
       "..     ...       ...        ...      ...  \n",
       "349  0.694         1          1        1  \n",
       "350  0.675         1          1        1  \n",
       "351  0.801         0          0        0  \n",
       "352  0.796         0          0        0  \n",
       "353  0.801         0          0        0  \n",
       "\n",
       "[354 rows x 14 columns]"
      ]
     },
     "execution_count": 6,
     "metadata": {},
     "output_type": "execute_result"
    }
   ],
   "source": [
    "df"
   ]
  },
  {
   "cell_type": "markdown",
   "metadata": {},
   "source": [
    "Let's also define a framework to do brute-force model selection with 5-fold cross validation"
   ]
  },
  {
   "cell_type": "code",
   "execution_count": 7,
   "metadata": {},
   "outputs": [],
   "source": [
    "skf = StratifiedKFold(n_splits=5, shuffle=True, random_state=seed)"
   ]
  },
  {
   "cell_type": "code",
   "execution_count": 8,
   "metadata": {},
   "outputs": [],
   "source": [
    "# For brute-force search, we need to get all sublists from the list of columns except the empty sublist\n",
    "def sublists(columns):\n",
    "    sublists = []\n",
    "    \n",
    "    for i in range(0, len(columns)+1):\n",
    "        temp = [list(x) for x in combinations(columns, i)]\n",
    "        if len(temp)>0:\n",
    "            sublists.extend(temp)\n",
    "            \n",
    "    sublists.remove([])\n",
    "            \n",
    "    return sublists \n",
    "\n",
    "# Here we create a brute-force search function which runs 5-fold cross-validation for each sublist\n",
    "# We can define which objective function to use for optimization\n",
    "def brute_search(model, data, response, penalty, obj_fn):\n",
    "    resp = data[response]\n",
    "    preds = data.loc[:, data.columns != response]\n",
    "    preds = sm.add_constant(preds)\n",
    "    search_space = sublists(preds.columns.tolist())\n",
    "    \n",
    "    bestobj = -np.inf\n",
    "    best_cols = None\n",
    "    \n",
    "    for cols in search_space:\n",
    "        objs = []\n",
    "        for train_index, test_index in skf.split(preds[cols], resp):\n",
    "            res = model(resp.iloc[train_index], preds.iloc[train_index][cols]).fit(maxiter=100, disp=False)\n",
    "#             tmpobj = res.llf - penalty*len(cols)\n",
    "            test_preds = res.predict(preds.iloc[test_index][cols])\n",
    "            objs.append(obj_fn(resp.iloc[test_index], test_preds))\n",
    "        tmpobj = sum(objs) / len(objs)\n",
    "#         print('{0}: {1}'.format(cols, tmpobj))\n",
    "#         print(objs)\n",
    "        if tmpobj > bestobj:\n",
    "            bestobj = tmpobj\n",
    "            best_cols = cols\n",
    "            \n",
    "    res = model(resp, preds[best_cols]).fit(maxiter=100)\n",
    "    return bestobj, best_cols, res"
   ]
  },
  {
   "cell_type": "code",
   "execution_count": 9,
   "metadata": {},
   "outputs": [
    {
     "name": "stdout",
     "output_type": "stream",
     "text": [
      "Training data:\n",
      "total observations: 289\n",
      "         Group  Visit  MR Delay  Sex  Age  EDUC  SES  MMSE  CDR  eTIV   nWBV  \\\n",
      "0  Nondemented      1         0    1   87    14  2.0  27.0  0.0  1987  0.696   \n",
      "1  Nondemented      2       457    1   88    14  2.0  30.0  0.0  2004  0.681   \n",
      "2  Nondemented      1         0    0   88    18  3.0  28.0  0.0  1215  0.710   \n",
      "3  Nondemented      2       538    0   90    18  3.0  27.0  0.0  1200  0.718   \n",
      "4  Nondemented      1         0    1   80    12  4.0  28.0  0.0  1689  0.712   \n",
      "\n",
      "   Demented  Group_num  CDR_int  \n",
      "0         0          0        0  \n",
      "1         0          0        0  \n",
      "2         0          0        0  \n",
      "3         0          0        0  \n",
      "4         0          0        0  \n",
      "Testing data:\n",
      "total observations: 65\n",
      "    const        Group  Visit  MR Delay  Sex  Age  EDUC  SES  MMSE  CDR  eTIV  \\\n",
      "1     1.0  Nondemented      2       457    1   88    14  2.0  30.0  0.0  2004   \n",
      "10    1.0     Demented      2       576    1   69    12  2.0  24.0  0.5  1480   \n",
      "11    1.0     Demented      1         0    0   66    12  3.0  30.0  0.5  1447   \n",
      "16    1.0  Nondemented      1         0    0   81    12  4.0  30.0  0.0  1230   \n",
      "42    1.0  Nondemented      2       609    0   71    12  3.0  30.0  0.0  1360   \n",
      "\n",
      "     nWBV  Demented  Group_num  CDR_int  \n",
      "1   0.681         0          0        0  \n",
      "10  0.791         1          1        1  \n",
      "11  0.769         1          1        1  \n",
      "16  0.715         0          0        0  \n",
      "42  0.782         0          0        0  \n"
     ]
    }
   ],
   "source": [
    "# Split data into train and test sets\n",
    "np.random.seed(667)\n",
    "train_mask = np.random.rand(df.shape[0]) > .2\n",
    "\n",
    "test_df = df[~train_mask]\n",
    "train_df = df[train_mask]\n",
    "test_df = sm.add_constant(test_df)\n",
    "\n",
    "print('Training data:')\n",
    "print('total observations: ' + str(train_df.shape[0]))\n",
    "print(df.head())\n",
    "print('Testing data:')\n",
    "print('total observations: ' + str(test_df.shape[0]))\n",
    "print(test_df.head())"
   ]
  },
  {
   "cell_type": "markdown",
   "metadata": {},
   "source": [
    "## Logistic Regression on `Demented` with all covariates"
   ]
  },
  {
   "cell_type": "code",
   "execution_count": 10,
   "metadata": {},
   "outputs": [],
   "source": [
    "covariates = ['Visit', 'Age', 'Sex', 'EDUC', 'SES', 'eTIV', 'nWBV', 'MMSE', 'MR Delay']"
   ]
  },
  {
   "cell_type": "code",
   "execution_count": 11,
   "metadata": {},
   "outputs": [
    {
     "name": "stdout",
     "output_type": "stream",
     "text": [
      "Optimization terminated successfully.\n",
      "         Current function value: 0.346050\n",
      "         Iterations 8\n",
      "                           Logit Regression Results                           \n",
      "==============================================================================\n",
      "Dep. Variable:               Demented   No. Observations:                  354\n",
      "Model:                          Logit   Df Residuals:                      344\n",
      "Method:                           MLE   Df Model:                            9\n",
      "Date:                Mon, 07 Dec 2020   Pseudo R-squ.:                  0.4909\n",
      "Time:                        17:49:30   Log-Likelihood:                -122.50\n",
      "converged:                       True   LL-Null:                       -240.60\n",
      "Covariance Type:            nonrobust   LLR p-value:                 8.133e-46\n",
      "==============================================================================\n",
      "                 coef    std err          z      P>|z|      [0.025      0.975]\n",
      "------------------------------------------------------------------------------\n",
      "const         65.7569      9.821      6.695      0.000      46.508      85.006\n",
      "Visit         -0.5293      0.494     -1.072      0.284      -1.498       0.439\n",
      "Age           -0.1133      0.031     -3.608      0.000      -0.175      -0.052\n",
      "Sex            1.6769      0.442      3.795      0.000       0.811       2.543\n",
      "EDUC          -0.2360      0.100     -2.368      0.018      -0.431      -0.041\n",
      "SES           -0.4222      0.227     -1.857      0.063      -0.868       0.023\n",
      "eTIV          -0.0029      0.001     -2.357      0.018      -0.005      -0.000\n",
      "nWBV         -26.6754      6.317     -4.223      0.000     -39.057     -14.294\n",
      "MMSE          -1.0449      0.140     -7.490      0.000      -1.318      -0.771\n",
      "MR Delay       0.0011      0.001      1.532      0.126      -0.000       0.002\n",
      "==============================================================================\n"
     ]
    }
   ],
   "source": [
    "res = sm.Logit(df.Demented, sm.add_constant(df[covariates])).fit()\n",
    "print(res.summary())"
   ]
  },
  {
   "cell_type": "code",
   "execution_count": 12,
   "metadata": {},
   "outputs": [
    {
     "name": "stdout",
     "output_type": "stream",
     "text": [
      "Optimization terminated successfully.\n",
      "         Current function value: 0.354222\n",
      "         Iterations 8\n",
      "                           Logit Regression Results                           \n",
      "==============================================================================\n",
      "Dep. Variable:               Demented   No. Observations:                  289\n",
      "Model:                          Logit   Df Residuals:                      279\n",
      "Method:                           MLE   Df Model:                            9\n",
      "Date:                Mon, 07 Dec 2020   Pseudo R-squ.:                  0.4790\n",
      "Time:                        17:49:30   Log-Likelihood:                -102.37\n",
      "converged:                       True   LL-Null:                       -196.48\n",
      "Covariance Type:            nonrobust   LLR p-value:                 9.699e-36\n",
      "==============================================================================\n",
      "                 coef    std err          z      P>|z|      [0.025      0.975]\n",
      "------------------------------------------------------------------------------\n",
      "const         62.8729     10.566      5.950      0.000      42.164      83.582\n",
      "Visit         -0.4952      0.544     -0.910      0.363      -1.561       0.571\n",
      "Age           -0.1080      0.034     -3.183      0.001      -0.175      -0.041\n",
      "Sex            1.6573      0.482      3.436      0.001       0.712       2.603\n",
      "EDUC          -0.1765      0.104     -1.700      0.089      -0.380       0.027\n",
      "SES           -0.3164      0.242     -1.308      0.191      -0.790       0.158\n",
      "eTIV          -0.0028      0.001     -2.115      0.034      -0.005      -0.000\n",
      "nWBV         -27.5232      7.101     -3.876      0.000     -41.442     -13.605\n",
      "MMSE          -0.9817      0.151     -6.512      0.000      -1.277      -0.686\n",
      "MR Delay       0.0010      0.001      1.311      0.190      -0.001       0.003\n",
      "==============================================================================\n"
     ]
    }
   ],
   "source": [
    "res = sm.Logit(train_df.Demented, sm.add_constant(train_df[covariates])).fit()\n",
    "print(res.summary())"
   ]
  },
  {
   "cell_type": "code",
   "execution_count": 13,
   "metadata": {},
   "outputs": [
    {
     "name": "stdout",
     "output_type": "stream",
     "text": [
      "-20.52862368719089\n"
     ]
    }
   ],
   "source": [
    "preds = res.predict(sm.add_constant(test_df[covariates]))\n",
    "loglike_test = (test_df.Demented*np.log(preds) + (1-test_df.Demented)*np.log(1-preds)).sum()\n",
    "print(loglike_test)"
   ]
  },
  {
   "cell_type": "code",
   "execution_count": 14,
   "metadata": {},
   "outputs": [
    {
     "data": {
      "text/plain": [
       "0.9278752436647174"
      ]
     },
     "execution_count": 14,
     "metadata": {},
     "output_type": "execute_result"
    }
   ],
   "source": [
    "roc_auc_score(test_df.Demented, preds)"
   ]
  },
  {
   "cell_type": "code",
   "execution_count": 15,
   "metadata": {},
   "outputs": [
    {
     "data": {
      "text/plain": [
       "0.8769230769230769"
      ]
     },
     "execution_count": 15,
     "metadata": {},
     "output_type": "execute_result"
    }
   ],
   "source": [
    "accuracy_score(test_df.Demented, [0 if i < 0.5 else 1 for i in preds])"
   ]
  },
  {
   "cell_type": "markdown",
   "metadata": {},
   "source": [
    "### Model Selection with brute-force search"
   ]
  },
  {
   "cell_type": "code",
   "execution_count": 16,
   "metadata": {},
   "outputs": [],
   "source": [
    "def demented_obj_fn(gt, preds):\n",
    "    return accuracy_score(gt, [0 if i < 0.5 else 1 for i in preds])"
   ]
  },
  {
   "cell_type": "code",
   "execution_count": 17,
   "metadata": {},
   "outputs": [
    {
     "name": "stdout",
     "output_type": "stream",
     "text": [
      "Brute-force\n",
      "Optimization terminated successfully.\n",
      "         Current function value: 0.381432\n",
      "         Iterations 8\n",
      "                           Logit Regression Results                           \n",
      "==============================================================================\n",
      "Dep. Variable:               Demented   No. Observations:                  289\n",
      "Model:                          Logit   Df Residuals:                      282\n",
      "Method:                           MLE   Df Model:                            6\n",
      "Date:                Mon, 07 Dec 2020   Pseudo R-squ.:                  0.4390\n",
      "Time:                        17:49:49   Log-Likelihood:                -110.23\n",
      "converged:                       True   LL-Null:                       -196.48\n",
      "Covariance Type:            nonrobust   LLR p-value:                 1.330e-34\n",
      "==============================================================================\n",
      "                 coef    std err          z      P>|z|      [0.025      0.975]\n",
      "------------------------------------------------------------------------------\n",
      "const         34.8669      5.618      6.207      0.000      23.857      45.877\n",
      "Visit         -0.5192      0.516     -1.006      0.315      -1.531       0.493\n",
      "Sex            1.1966      0.351      3.410      0.001       0.509       1.884\n",
      "EDUC          -0.0803      0.064     -1.252      0.211      -0.206       0.045\n",
      "nWBV         -12.8620      5.081     -2.531      0.011     -22.821      -2.903\n",
      "MMSE          -0.8774      0.133     -6.589      0.000      -1.138      -0.616\n",
      "MR Delay       0.0007      0.001      1.012      0.312      -0.001       0.002\n",
      "==============================================================================\n",
      "aic: 234.46757341195763\n",
      "llt: -22.825292196725893:\n",
      "auc: 0.9093567251461988:\n",
      "acc: 0.8615384615384616:\n",
      "\n"
     ]
    }
   ],
   "source": [
    "print('Brute-force')\n",
    "bf_obj, bf_cols, bf_res = brute_search(sm.Logit, train_df[covariates + ['Demented']], 'Demented', 1, demented_obj_fn)\n",
    "print(bf_res.summary())\n",
    "preds = bf_res.predict(test_df[bf_cols])\n",
    "loglike_test = (test_df.Demented*np.log(preds) + (1-test_df.Demented)*np.log(1-preds)).sum()\n",
    "print('aic: {0}'.format(bf_res.aic))\n",
    "print('llt: {0}:'.format(loglike_test))\n",
    "print('auc: {0}:'.format(roc_auc_score(test_df.Demented, preds)))\n",
    "print('acc: {0}:'.format(accuracy_score(test_df.Demented, [0 if i < 0.5 else 1 for i in preds])))\n",
    "print()"
   ]
  },
  {
   "cell_type": "markdown",
   "metadata": {},
   "source": [
    "## Multinomial Logistic Regression on `Group` with all covariates"
   ]
  },
  {
   "cell_type": "code",
   "execution_count": 18,
   "metadata": {},
   "outputs": [],
   "source": [
    "covariates = ['Visit', 'Age', 'Sex', 'EDUC', 'SES', 'eTIV', 'nWBV', 'MMSE', 'MR Delay']"
   ]
  },
  {
   "cell_type": "code",
   "execution_count": 19,
   "metadata": {},
   "outputs": [
    {
     "name": "stdout",
     "output_type": "stream",
     "text": [
      "Optimization terminated successfully.\n",
      "         Current function value: 0.518842\n",
      "         Iterations 8\n",
      "                          MNLogit Regression Results                          \n",
      "==============================================================================\n",
      "Dep. Variable:                  Group   No. Observations:                  354\n",
      "Model:                        MNLogit   Df Residuals:                      334\n",
      "Method:                           MLE   Df Model:                           18\n",
      "Date:                Mon, 07 Dec 2020   Pseudo R-squ.:                  0.4467\n",
      "Time:                        17:49:49   Log-Likelihood:                -183.67\n",
      "converged:                       True   LL-Null:                       -331.98\n",
      "Covariance Type:            nonrobust   LLR p-value:                 2.384e-52\n",
      "=====================================================================================\n",
      "   Group=Demented       coef    std err          z      P>|z|      [0.025      0.975]\n",
      "-------------------------------------------------------------------------------------\n",
      "const                36.4864     12.632      2.888      0.004      11.728      61.245\n",
      "Visit                 0.6054      0.743      0.815      0.415      -0.850       2.061\n",
      "Age                  -0.1310      0.044     -2.955      0.003      -0.218      -0.044\n",
      "Sex                   0.8869      0.661      1.342      0.180      -0.409       2.182\n",
      "EDUC                  0.0877      0.136      0.645      0.519      -0.179       0.354\n",
      "SES                   1.0590      0.358      2.957      0.003       0.357       1.761\n",
      "eTIV                  0.0013      0.002      0.652      0.515      -0.003       0.005\n",
      "nWBV                -15.8946      9.084     -1.750      0.080     -33.699       1.910\n",
      "MMSE                 -0.7141      0.165     -4.335      0.000      -1.037      -0.391\n",
      "MR Delay             -0.0016      0.001     -1.683      0.092      -0.004       0.000\n",
      "-------------------------------------------------------------------------------------\n",
      "Group=Nondemented       coef    std err          z      P>|z|      [0.025      0.975]\n",
      "-------------------------------------------------------------------------------------\n",
      "const               -36.3437     11.280     -3.222      0.001     -58.452     -14.235\n",
      "Visit                 1.0172      0.595      1.710      0.087      -0.148       2.183\n",
      "Age                   0.0051      0.035      0.143      0.886      -0.064       0.074\n",
      "Sex                  -1.1051      0.598     -1.847      0.065      -2.278       0.068\n",
      "EDUC                  0.3210      0.121      2.656      0.008       0.084       0.558\n",
      "SES                   1.3590      0.317      4.293      0.000       0.739       1.979\n",
      "eTIV                  0.0047      0.002      2.714      0.007       0.001       0.008\n",
      "nWBV                 13.0948      7.934      1.651      0.099      -2.455      28.645\n",
      "MMSE                  0.4427      0.167      2.656      0.008       0.116       0.769\n",
      "MR Delay             -0.0016      0.001     -1.931      0.053      -0.003    2.31e-05\n",
      "=====================================================================================\n"
     ]
    }
   ],
   "source": [
    "model = sm.MNLogit(df['Group'], sm.add_constant(df[covariates]))\n",
    "res = model.fit()\n",
    "print(res.summary())"
   ]
  },
  {
   "cell_type": "code",
   "execution_count": 20,
   "metadata": {},
   "outputs": [
    {
     "name": "stdout",
     "output_type": "stream",
     "text": [
      "Optimization terminated successfully.\n",
      "         Current function value: 0.499118\n",
      "         Iterations 8\n",
      "                          MNLogit Regression Results                          \n",
      "==============================================================================\n",
      "Dep. Variable:              Group_num   No. Observations:                  289\n",
      "Model:                        MNLogit   Df Residuals:                      269\n",
      "Method:                           MLE   Df Model:                           18\n",
      "Date:                Mon, 07 Dec 2020   Pseudo R-squ.:                  0.4641\n",
      "Time:                        17:49:49   Log-Likelihood:                -144.25\n",
      "converged:                       True   LL-Null:                       -269.15\n",
      "Covariance Type:            nonrobust   LLR p-value:                 8.902e-43\n",
      "===============================================================================\n",
      "Group_num=1       coef    std err          z      P>|z|      [0.025      0.975]\n",
      "-------------------------------------------------------------------------------\n",
      "const          76.7553     12.596      6.094      0.000      52.067     101.443\n",
      "Visit          -0.4649      0.681     -0.682      0.495      -1.800       0.871\n",
      "Age            -0.1410      0.040     -3.542      0.000      -0.219      -0.063\n",
      "Sex             1.8788      0.549      3.422      0.001       0.803       2.955\n",
      "EDUC           -0.2233      0.120     -1.865      0.062      -0.458       0.011\n",
      "SES            -0.3091      0.290     -1.067      0.286      -0.877       0.259\n",
      "eTIV           -0.0035      0.002     -2.265      0.024      -0.007      -0.000\n",
      "nWBV          -33.3502      8.156     -4.089      0.000     -49.335     -17.365\n",
      "MMSE           -1.1677      0.175     -6.686      0.000      -1.510      -0.825\n",
      "MR Delay     4.606e-05      0.001      0.050      0.960      -0.002       0.002\n",
      "-------------------------------------------------------------------------------\n",
      "Group_num=2       coef    std err          z      P>|z|      [0.025      0.975]\n",
      "-------------------------------------------------------------------------------\n",
      "const          40.7420     13.749      2.963      0.003      13.794      67.690\n",
      "Visit          -0.9799      0.668     -1.468      0.142      -2.288       0.329\n",
      "Age            -0.0167      0.041     -0.407      0.684      -0.097       0.064\n",
      "Sex             1.4848      0.713      2.084      0.037       0.088       2.881\n",
      "EDUC           -0.3166      0.137     -2.313      0.021      -0.585      -0.048\n",
      "SES            -1.6304      0.384     -4.242      0.000      -2.384      -0.877\n",
      "eTIV           -0.0059      0.002     -2.816      0.005      -0.010      -0.002\n",
      "nWBV          -13.0131      9.662     -1.347      0.178     -31.950       5.924\n",
      "MMSE           -0.5010      0.199     -2.519      0.012      -0.891      -0.111\n",
      "MR Delay        0.0017      0.001      1.833      0.067      -0.000       0.004\n",
      "===============================================================================\n"
     ]
    }
   ],
   "source": [
    "res = sm.MNLogit(train_df.Group_num, sm.add_constant(train_df[covariates])).fit()\n",
    "print(res.summary())"
   ]
  },
  {
   "cell_type": "code",
   "execution_count": 21,
   "metadata": {},
   "outputs": [],
   "source": [
    "preds = res.predict(sm.add_constant(test_df[covariates]))"
   ]
  },
  {
   "cell_type": "code",
   "execution_count": 22,
   "metadata": {},
   "outputs": [
    {
     "data": {
      "text/plain": [
       "0.5458089668615984"
      ]
     },
     "execution_count": 22,
     "metadata": {},
     "output_type": "execute_result"
    }
   ],
   "source": [
    "roc_auc_score(test_df.Demented, preds.max(axis=1))"
   ]
  },
  {
   "cell_type": "code",
   "execution_count": 23,
   "metadata": {},
   "outputs": [
    {
     "data": {
      "text/plain": [
       "0.8153846153846154"
      ]
     },
     "execution_count": 23,
     "metadata": {},
     "output_type": "execute_result"
    }
   ],
   "source": [
    "accuracy_score(test_df.Demented,  [0 if i < 1 else 1 for i in preds.idxmax(axis=1)])"
   ]
  },
  {
   "cell_type": "code",
   "execution_count": 24,
   "metadata": {},
   "outputs": [
    {
     "data": {
      "text/plain": [
       "0.7230769230769231"
      ]
     },
     "execution_count": 24,
     "metadata": {},
     "output_type": "execute_result"
    }
   ],
   "source": [
    "accuracy_score(test_df.Group_num,  preds.idxmax(axis=1))"
   ]
  },
  {
   "cell_type": "markdown",
   "metadata": {},
   "source": [
    "### Model Selection with brute-force search"
   ]
  },
  {
   "cell_type": "code",
   "execution_count": 25,
   "metadata": {},
   "outputs": [],
   "source": [
    "def group_obj_fn(gt, preds):\n",
    "    return accuracy_score(gt, preds.idxmax(axis=1))"
   ]
  },
  {
   "cell_type": "code",
   "execution_count": 26,
   "metadata": {},
   "outputs": [
    {
     "name": "stdout",
     "output_type": "stream",
     "text": [
      "Brute-force\n",
      "Optimization terminated successfully.\n",
      "         Current function value: 0.556847\n",
      "         Iterations 8\n",
      "                          MNLogit Regression Results                          \n",
      "==============================================================================\n",
      "Dep. Variable:              Group_num   No. Observations:                  289\n",
      "Model:                        MNLogit   Df Residuals:                      275\n",
      "Method:                           MLE   Df Model:                           12\n",
      "Date:                Mon, 07 Dec 2020   Pseudo R-squ.:                  0.4021\n",
      "Time:                        17:50:29   Log-Likelihood:                -160.93\n",
      "converged:                       True   LL-Null:                       -269.15\n",
      "Covariance Type:            nonrobust   LLR p-value:                 1.295e-39\n",
      "===============================================================================\n",
      "Group_num=1       coef    std err          z      P>|z|      [0.025      0.975]\n",
      "-------------------------------------------------------------------------------\n",
      "const          67.1113     10.695      6.275      0.000      46.150      88.073\n",
      "Visit          -0.4538      0.251     -1.807      0.071      -0.946       0.039\n",
      "Age            -0.1373      0.038     -3.588      0.000      -0.212      -0.062\n",
      "Sex             1.0525      0.423      2.486      0.013       0.223       1.882\n",
      "EDUC           -0.1782      0.077     -2.324      0.020      -0.329      -0.028\n",
      "nWBV          -31.1847      7.695     -4.053      0.000     -46.266     -16.103\n",
      "MMSE           -1.1151      0.164     -6.806      0.000      -1.436      -0.794\n",
      "-------------------------------------------------------------------------------\n",
      "Group_num=2       coef    std err          z      P>|z|      [0.025      0.975]\n",
      "-------------------------------------------------------------------------------\n",
      "const          20.9703     10.089      2.079      0.038       1.197      40.743\n",
      "Visit           0.1160      0.213      0.544      0.586      -0.302       0.534\n",
      "Age            -0.0140      0.035     -0.403      0.687      -0.082       0.054\n",
      "Sex            -0.1227      0.457     -0.268      0.789      -1.019       0.774\n",
      "EDUC            0.0620      0.078      0.798      0.425      -0.090       0.214\n",
      "nWBV          -14.4039      7.920     -1.819      0.069     -29.927       1.119\n",
      "MMSE           -0.4190      0.177     -2.371      0.018      -0.765      -0.073\n",
      "===============================================================================\n",
      "aic: 349.85728880518366\n",
      "llt: -inf:\n",
      "auc: 0.5594541910331384:\n",
      "acc (converted): 0.8307692307692308:\n",
      "acc (no conversion): 0.7538461538461538:\n",
      "\n"
     ]
    }
   ],
   "source": [
    "print('Brute-force')\n",
    "bf_obj, bf_cols, bf_res = brute_search(sm.MNLogit, train_df[covariates + ['Group_num']], 'Group_num', 1, group_obj_fn)\n",
    "print(bf_res.summary())\n",
    "preds = bf_res.predict(test_df[bf_cols])\n",
    "loglike_test = (test_df.Demented*np.log(preds.idxmax(axis=1)) + (1-test_df.Demented)*np.log(1-preds.idxmax(axis=1))).sum()\n",
    "print('aic: {0}'.format(bf_res.aic))\n",
    "print('llt: {0}:'.format(loglike_test))\n",
    "print('auc: {0}:'.format(roc_auc_score(test_df.Demented,  preds.max(axis=1))))\n",
    "print('acc (converted): {0}:'.format(accuracy_score(test_df.Demented,  [0 if i < 1 else 1 for i in preds.idxmax(axis=1)])))\n",
    "print('acc (no conversion): {0}:'.format(accuracy_score(test_df.Group_num,  preds.idxmax(axis=1))))\n",
    "print()"
   ]
  },
  {
   "cell_type": "markdown",
   "metadata": {},
   "source": [
    "## Ordinal Logistic Regression on `CDR` with all covariates"
   ]
  },
  {
   "cell_type": "code",
   "execution_count": 27,
   "metadata": {},
   "outputs": [],
   "source": [
    "covariates = ['Visit', 'Age', 'Sex', 'EDUC', 'SES', 'eTIV', 'nWBV', 'MMSE', 'MR Delay']"
   ]
  },
  {
   "cell_type": "code",
   "execution_count": 28,
   "metadata": {},
   "outputs": [],
   "source": [
    "model = m.LogisticIT().fit(sm.add_constant(train_df[covariates]), train_df['CDR_int'])"
   ]
  },
  {
   "cell_type": "code",
   "execution_count": 29,
   "metadata": {},
   "outputs": [],
   "source": [
    "preds = model.predict(sm.add_constant(test_df[covariates]))"
   ]
  },
  {
   "cell_type": "code",
   "execution_count": 30,
   "metadata": {},
   "outputs": [
    {
     "data": {
      "text/plain": [
       "0.7076923076923077"
      ]
     },
     "execution_count": 30,
     "metadata": {},
     "output_type": "execute_result"
    }
   ],
   "source": [
    "accuracy_score(test_df.CDR_int, preds)"
   ]
  },
  {
   "cell_type": "code",
   "execution_count": 31,
   "metadata": {},
   "outputs": [
    {
     "data": {
      "text/plain": [
       "0.8"
      ]
     },
     "execution_count": 31,
     "metadata": {},
     "output_type": "execute_result"
    }
   ],
   "source": [
    "accuracy_score(test_df.Demented, [0 if i < 1 else 1 for i in preds])"
   ]
  },
  {
   "cell_type": "code",
   "execution_count": 32,
   "metadata": {},
   "outputs": [
    {
     "data": {
      "text/plain": [
       "0.7699805068226121"
      ]
     },
     "execution_count": 32,
     "metadata": {},
     "output_type": "execute_result"
    }
   ],
   "source": [
    "roc_auc_score(test_df.Demented, [0 if i < 1 else 1 for i in preds])"
   ]
  },
  {
   "cell_type": "markdown",
   "metadata": {},
   "source": [
    "### Model Selection with brute-force search"
   ]
  },
  {
   "cell_type": "code",
   "execution_count": 33,
   "metadata": {},
   "outputs": [],
   "source": [
    "def cdr_obj_fn(gt, preds):\n",
    "    return accuracy_score(gt, preds)"
   ]
  },
  {
   "cell_type": "markdown",
   "metadata": {},
   "source": [
    "We have to define a new brute-force function to work with `Mord`"
   ]
  },
  {
   "cell_type": "code",
   "execution_count": 34,
   "metadata": {},
   "outputs": [],
   "source": [
    "# Here we create a brute-force search function which runs 5-fold cross-validation for each sublist\n",
    "# We can define which objective function to use for optimization\n",
    "def brute_search_mord(model, data, response, penalty, obj_fn):\n",
    "    resp = data[response]\n",
    "    preds = data.loc[:, data.columns != response]\n",
    "    preds = sm.add_constant(preds)\n",
    "    search_space = sublists(preds.columns.tolist())\n",
    "    \n",
    "    bestobj = -np.inf\n",
    "    best_cols = None\n",
    "    \n",
    "    for cols in search_space:\n",
    "        objs = []\n",
    "        for train_index, test_index in skf.split(preds[cols], resp):\n",
    "#             res = model(resp.iloc[train_index], preds.iloc[train_index][cols]).fit(maxiter=100, disp=False)\n",
    "            res = model().fit(preds.iloc[train_index][cols], resp.iloc[train_index])\n",
    "#             tmpobj = res.llf - penalty*len(cols)\n",
    "            test_preds = res.predict(preds.iloc[test_index][cols])\n",
    "            objs.append(obj_fn(resp.iloc[test_index], test_preds))\n",
    "        tmpobj = sum(objs) / len(objs)\n",
    "#         print('{0}: {1}'.format(cols, tmpobj))\n",
    "#         print(objs)\n",
    "        if tmpobj > bestobj:\n",
    "            bestobj = tmpobj\n",
    "            best_cols = cols\n",
    "            \n",
    "#     res = model(resp, preds[best_cols]).fit(maxiter=100)\n",
    "    res = model().fit(preds[best_cols], resp)\n",
    "    return bestobj, best_cols, res"
   ]
  },
  {
   "cell_type": "code",
   "execution_count": 35,
   "metadata": {},
   "outputs": [
    {
     "name": "stdout",
     "output_type": "stream",
     "text": [
      "Brute-force\n"
     ]
    }
   ],
   "source": [
    "print('Brute-force')\n",
    "bf_obj, bf_cols, bf_res = brute_search_mord(m.LogisticIT, train_df[covariates + ['CDR_int']], 'CDR_int', 1, cdr_obj_fn)\n",
    "preds = bf_res.predict(test_df[bf_cols])"
   ]
  },
  {
   "cell_type": "code",
   "execution_count": 36,
   "metadata": {},
   "outputs": [
    {
     "name": "stdout",
     "output_type": "stream",
     "text": [
      "auc: 0.7938596491228069:\n",
      "acc (converted): 0.8153846153846154:\n",
      "acc (no conversion): 0.7230769230769231:\n",
      "\n"
     ]
    }
   ],
   "source": [
    "print('auc: {0}:'.format(roc_auc_score(test_df.Demented, [0 if i < 1 else 1 for i in preds])))\n",
    "print('acc (converted): {0}:'.format(accuracy_score(test_df.Demented, [0 if i < 1 else 1 for i in preds])))\n",
    "print('acc (no conversion): {0}:'.format(accuracy_score(test_df.CDR_int, preds)))\n",
    "print()"
   ]
  },
  {
   "cell_type": "code",
   "execution_count": 37,
   "metadata": {},
   "outputs": [
    {
     "data": {
      "text/plain": [
       "['Age', 'Sex', 'EDUC', 'SES', 'eTIV', 'MMSE']"
      ]
     },
     "execution_count": 37,
     "metadata": {},
     "output_type": "execute_result"
    }
   ],
   "source": [
    "bf_cols"
   ]
  },
  {
   "cell_type": "code",
   "execution_count": 39,
   "metadata": {},
   "outputs": [
    {
     "data": {
      "text/plain": [
       "array([-3.89595371e-03,  1.06228069e+00, -5.50926664e-02, -1.35987276e-01,\n",
       "       -8.32141791e-04, -4.56375197e-01])"
      ]
     },
     "execution_count": 39,
     "metadata": {},
     "output_type": "execute_result"
    }
   ],
   "source": [
    "bf_res.coef_"
   ]
  }
 ],
 "metadata": {
  "kernelspec": {
   "display_name": "Python 3",
   "language": "python",
   "name": "python3"
  },
  "language_info": {
   "codemirror_mode": {
    "name": "ipython",
    "version": 3
   },
   "file_extension": ".py",
   "mimetype": "text/x-python",
   "name": "python",
   "nbconvert_exporter": "python",
   "pygments_lexer": "ipython3",
   "version": "3.8.5"
  }
 },
 "nbformat": 4,
 "nbformat_minor": 4
}
