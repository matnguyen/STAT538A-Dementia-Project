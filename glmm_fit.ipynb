{
 "cells": [
  {
   "cell_type": "code",
   "execution_count": 1,
   "metadata": {},
   "outputs": [],
   "source": [
    "import pandas as pd \n",
    "import numpy as np\n",
    "import matplotlib.pyplot as plt\n",
    "import seaborn as sns\n",
    "import statsmodels.api as sm\n",
    "\n",
    "from itertools import combinations\n",
    "from sklearn.metrics import accuracy_score, roc_auc_score\n",
    "from sklearn import preprocessing\n",
    "from sklearn.model_selection import StratifiedKFold\n",
    "\n",
    "seed = 667"
   ]
  },
  {
   "cell_type": "code",
   "execution_count": 2,
   "metadata": {},
   "outputs": [],
   "source": [
    "# ignore convergence warnings\n",
    "import warnings\n",
    "from statsmodels.tools.sm_exceptions import ConvergenceWarning\n",
    "warnings.simplefilter('ignore', ConvergenceWarning) \n",
    "warnings.simplefilter('ignore', RuntimeWarning) \n",
    "warnings.simplefilter('ignore', UserWarning) "
   ]
  },
  {
   "cell_type": "code",
   "execution_count": 3,
   "metadata": {},
   "outputs": [],
   "source": [
    "df = pd.read_csv('dementia.tsv', sep='\\t')\n",
    "df = df.rename(columns={'Subject ID': 'ID', 'MR Delay': 'Delay'})"
   ]
  },
  {
   "cell_type": "code",
   "execution_count": 4,
   "metadata": {},
   "outputs": [],
   "source": [
    "min_max_scaler = preprocessing.MinMaxScaler()\n",
    "df['eTIV'] = min_max_scaler.fit_transform(df[['eTIV']])"
   ]
  },
  {
   "cell_type": "code",
   "execution_count": 5,
   "metadata": {},
   "outputs": [
    {
     "data": {
      "text/html": [
       "<div>\n",
       "<style scoped>\n",
       "    .dataframe tbody tr th:only-of-type {\n",
       "        vertical-align: middle;\n",
       "    }\n",
       "\n",
       "    .dataframe tbody tr th {\n",
       "        vertical-align: top;\n",
       "    }\n",
       "\n",
       "    .dataframe thead th {\n",
       "        text-align: right;\n",
       "    }\n",
       "</style>\n",
       "<table border=\"1\" class=\"dataframe\">\n",
       "  <thead>\n",
       "    <tr style=\"text-align: right;\">\n",
       "      <th></th>\n",
       "      <th>ID</th>\n",
       "      <th>Group</th>\n",
       "      <th>Visit</th>\n",
       "      <th>Delay</th>\n",
       "      <th>Sex</th>\n",
       "      <th>Age</th>\n",
       "      <th>EDUC</th>\n",
       "      <th>SES</th>\n",
       "      <th>MMSE</th>\n",
       "      <th>CDR</th>\n",
       "      <th>eTIV</th>\n",
       "      <th>nWBV</th>\n",
       "      <th>Demented</th>\n",
       "      <th>Group_num</th>\n",
       "      <th>CDR_int</th>\n",
       "    </tr>\n",
       "  </thead>\n",
       "  <tbody>\n",
       "    <tr>\n",
       "      <th>0</th>\n",
       "      <td>1</td>\n",
       "      <td>Nondemented</td>\n",
       "      <td>1</td>\n",
       "      <td>0</td>\n",
       "      <td>1</td>\n",
       "      <td>87</td>\n",
       "      <td>14</td>\n",
       "      <td>2.0</td>\n",
       "      <td>27.0</td>\n",
       "      <td>0.0</td>\n",
       "      <td>0.981069</td>\n",
       "      <td>0.696</td>\n",
       "      <td>0</td>\n",
       "      <td>0</td>\n",
       "      <td>0</td>\n",
       "    </tr>\n",
       "    <tr>\n",
       "      <th>1</th>\n",
       "      <td>1</td>\n",
       "      <td>Nondemented</td>\n",
       "      <td>2</td>\n",
       "      <td>457</td>\n",
       "      <td>1</td>\n",
       "      <td>88</td>\n",
       "      <td>14</td>\n",
       "      <td>2.0</td>\n",
       "      <td>30.0</td>\n",
       "      <td>0.0</td>\n",
       "      <td>1.000000</td>\n",
       "      <td>0.681</td>\n",
       "      <td>0</td>\n",
       "      <td>0</td>\n",
       "      <td>0</td>\n",
       "    </tr>\n",
       "    <tr>\n",
       "      <th>2</th>\n",
       "      <td>4</td>\n",
       "      <td>Nondemented</td>\n",
       "      <td>1</td>\n",
       "      <td>0</td>\n",
       "      <td>0</td>\n",
       "      <td>88</td>\n",
       "      <td>18</td>\n",
       "      <td>3.0</td>\n",
       "      <td>28.0</td>\n",
       "      <td>0.0</td>\n",
       "      <td>0.121381</td>\n",
       "      <td>0.710</td>\n",
       "      <td>0</td>\n",
       "      <td>0</td>\n",
       "      <td>0</td>\n",
       "    </tr>\n",
       "    <tr>\n",
       "      <th>3</th>\n",
       "      <td>4</td>\n",
       "      <td>Nondemented</td>\n",
       "      <td>2</td>\n",
       "      <td>538</td>\n",
       "      <td>0</td>\n",
       "      <td>90</td>\n",
       "      <td>18</td>\n",
       "      <td>3.0</td>\n",
       "      <td>27.0</td>\n",
       "      <td>0.0</td>\n",
       "      <td>0.104677</td>\n",
       "      <td>0.718</td>\n",
       "      <td>0</td>\n",
       "      <td>0</td>\n",
       "      <td>0</td>\n",
       "    </tr>\n",
       "    <tr>\n",
       "      <th>4</th>\n",
       "      <td>5</td>\n",
       "      <td>Nondemented</td>\n",
       "      <td>1</td>\n",
       "      <td>0</td>\n",
       "      <td>1</td>\n",
       "      <td>80</td>\n",
       "      <td>12</td>\n",
       "      <td>4.0</td>\n",
       "      <td>28.0</td>\n",
       "      <td>0.0</td>\n",
       "      <td>0.649220</td>\n",
       "      <td>0.712</td>\n",
       "      <td>0</td>\n",
       "      <td>0</td>\n",
       "      <td>0</td>\n",
       "    </tr>\n",
       "    <tr>\n",
       "      <th>...</th>\n",
       "      <td>...</td>\n",
       "      <td>...</td>\n",
       "      <td>...</td>\n",
       "      <td>...</td>\n",
       "      <td>...</td>\n",
       "      <td>...</td>\n",
       "      <td>...</td>\n",
       "      <td>...</td>\n",
       "      <td>...</td>\n",
       "      <td>...</td>\n",
       "      <td>...</td>\n",
       "      <td>...</td>\n",
       "      <td>...</td>\n",
       "      <td>...</td>\n",
       "      <td>...</td>\n",
       "    </tr>\n",
       "    <tr>\n",
       "      <th>349</th>\n",
       "      <td>185</td>\n",
       "      <td>Demented</td>\n",
       "      <td>2</td>\n",
       "      <td>842</td>\n",
       "      <td>1</td>\n",
       "      <td>82</td>\n",
       "      <td>16</td>\n",
       "      <td>1.0</td>\n",
       "      <td>28.0</td>\n",
       "      <td>0.5</td>\n",
       "      <td>0.653675</td>\n",
       "      <td>0.694</td>\n",
       "      <td>1</td>\n",
       "      <td>1</td>\n",
       "      <td>1</td>\n",
       "    </tr>\n",
       "    <tr>\n",
       "      <th>350</th>\n",
       "      <td>185</td>\n",
       "      <td>Demented</td>\n",
       "      <td>3</td>\n",
       "      <td>2297</td>\n",
       "      <td>1</td>\n",
       "      <td>86</td>\n",
       "      <td>16</td>\n",
       "      <td>1.0</td>\n",
       "      <td>26.0</td>\n",
       "      <td>0.5</td>\n",
       "      <td>0.648107</td>\n",
       "      <td>0.675</td>\n",
       "      <td>1</td>\n",
       "      <td>1</td>\n",
       "      <td>1</td>\n",
       "    </tr>\n",
       "    <tr>\n",
       "      <th>351</th>\n",
       "      <td>186</td>\n",
       "      <td>Nondemented</td>\n",
       "      <td>1</td>\n",
       "      <td>0</td>\n",
       "      <td>0</td>\n",
       "      <td>61</td>\n",
       "      <td>13</td>\n",
       "      <td>2.0</td>\n",
       "      <td>30.0</td>\n",
       "      <td>0.0</td>\n",
       "      <td>0.237194</td>\n",
       "      <td>0.801</td>\n",
       "      <td>0</td>\n",
       "      <td>0</td>\n",
       "      <td>0</td>\n",
       "    </tr>\n",
       "    <tr>\n",
       "      <th>352</th>\n",
       "      <td>186</td>\n",
       "      <td>Nondemented</td>\n",
       "      <td>2</td>\n",
       "      <td>763</td>\n",
       "      <td>0</td>\n",
       "      <td>63</td>\n",
       "      <td>13</td>\n",
       "      <td>2.0</td>\n",
       "      <td>30.0</td>\n",
       "      <td>0.0</td>\n",
       "      <td>0.246102</td>\n",
       "      <td>0.796</td>\n",
       "      <td>0</td>\n",
       "      <td>0</td>\n",
       "      <td>0</td>\n",
       "    </tr>\n",
       "    <tr>\n",
       "      <th>353</th>\n",
       "      <td>186</td>\n",
       "      <td>Nondemented</td>\n",
       "      <td>3</td>\n",
       "      <td>1608</td>\n",
       "      <td>0</td>\n",
       "      <td>65</td>\n",
       "      <td>13</td>\n",
       "      <td>2.0</td>\n",
       "      <td>30.0</td>\n",
       "      <td>0.0</td>\n",
       "      <td>0.252784</td>\n",
       "      <td>0.801</td>\n",
       "      <td>0</td>\n",
       "      <td>0</td>\n",
       "      <td>0</td>\n",
       "    </tr>\n",
       "  </tbody>\n",
       "</table>\n",
       "<p>354 rows × 15 columns</p>\n",
       "</div>"
      ],
      "text/plain": [
       "      ID        Group  Visit  Delay  Sex  Age  EDUC  SES  MMSE  CDR      eTIV  \\\n",
       "0      1  Nondemented      1      0    1   87    14  2.0  27.0  0.0  0.981069   \n",
       "1      1  Nondemented      2    457    1   88    14  2.0  30.0  0.0  1.000000   \n",
       "2      4  Nondemented      1      0    0   88    18  3.0  28.0  0.0  0.121381   \n",
       "3      4  Nondemented      2    538    0   90    18  3.0  27.0  0.0  0.104677   \n",
       "4      5  Nondemented      1      0    1   80    12  4.0  28.0  0.0  0.649220   \n",
       "..   ...          ...    ...    ...  ...  ...   ...  ...   ...  ...       ...   \n",
       "349  185     Demented      2    842    1   82    16  1.0  28.0  0.5  0.653675   \n",
       "350  185     Demented      3   2297    1   86    16  1.0  26.0  0.5  0.648107   \n",
       "351  186  Nondemented      1      0    0   61    13  2.0  30.0  0.0  0.237194   \n",
       "352  186  Nondemented      2    763    0   63    13  2.0  30.0  0.0  0.246102   \n",
       "353  186  Nondemented      3   1608    0   65    13  2.0  30.0  0.0  0.252784   \n",
       "\n",
       "      nWBV  Demented  Group_num  CDR_int  \n",
       "0    0.696         0          0        0  \n",
       "1    0.681         0          0        0  \n",
       "2    0.710         0          0        0  \n",
       "3    0.718         0          0        0  \n",
       "4    0.712         0          0        0  \n",
       "..     ...       ...        ...      ...  \n",
       "349  0.694         1          1        1  \n",
       "350  0.675         1          1        1  \n",
       "351  0.801         0          0        0  \n",
       "352  0.796         0          0        0  \n",
       "353  0.801         0          0        0  \n",
       "\n",
       "[354 rows x 15 columns]"
      ]
     },
     "execution_count": 5,
     "metadata": {},
     "output_type": "execute_result"
    }
   ],
   "source": [
    "df"
   ]
  },
  {
   "cell_type": "code",
   "execution_count": 6,
   "metadata": {},
   "outputs": [
    {
     "name": "stdout",
     "output_type": "stream",
     "text": [
      "Training data:\n",
      "total observations: 289\n",
      "   ID        Group  Visit  Delay  Sex  Age  EDUC  SES  MMSE  CDR      eTIV  \\\n",
      "0   1  Nondemented      1      0    1   87    14  2.0  27.0  0.0  0.981069   \n",
      "1   1  Nondemented      2    457    1   88    14  2.0  30.0  0.0  1.000000   \n",
      "2   4  Nondemented      1      0    0   88    18  3.0  28.0  0.0  0.121381   \n",
      "3   4  Nondemented      2    538    0   90    18  3.0  27.0  0.0  0.104677   \n",
      "4   5  Nondemented      1      0    1   80    12  4.0  28.0  0.0  0.649220   \n",
      "\n",
      "    nWBV  Demented  Group_num  CDR_int  \n",
      "0  0.696         0          0        0  \n",
      "1  0.681         0          0        0  \n",
      "2  0.710         0          0        0  \n",
      "3  0.718         0          0        0  \n",
      "4  0.712         0          0        0  \n",
      "Testing data:\n",
      "total observations: 65\n",
      "    const  ID        Group  Visit  Delay  Sex  Age  EDUC  SES  MMSE  CDR  \\\n",
      "1     1.0   1  Nondemented      2    457    1   88    14  2.0  30.0  0.0   \n",
      "10    1.0   9     Demented      2    576    1   69    12  2.0  24.0  0.5   \n",
      "11    1.0  10     Demented      1      0    0   66    12  3.0  30.0  0.5   \n",
      "16    1.0  13  Nondemented      1      0    0   81    12  4.0  30.0  0.0   \n",
      "42    1.0  27  Nondemented      2    609    0   71    12  3.0  30.0  0.0   \n",
      "\n",
      "        eTIV   nWBV  Demented  Group_num  CDR_int  \n",
      "1   1.000000  0.681         0          0        0  \n",
      "10  0.416481  0.791         1          1        1  \n",
      "11  0.379733  0.769         1          1        1  \n",
      "16  0.138085  0.715         0          0        0  \n",
      "42  0.282851  0.782         0          0        0  \n"
     ]
    }
   ],
   "source": [
    "# Split data into train and test sets\n",
    "np.random.seed(667)\n",
    "train_mask = np.random.rand(df.shape[0]) > .2\n",
    "\n",
    "test_df = df[~train_mask]\n",
    "train_df = df[train_mask]\n",
    "test_df = sm.add_constant(test_df)\n",
    "\n",
    "print('Training data:')\n",
    "print('total observations: ' + str(train_df.shape[0]))\n",
    "print(df.head())\n",
    "print('Testing data:')\n",
    "print('total observations: ' + str(test_df.shape[0]))\n",
    "print(test_df.head())"
   ]
  },
  {
   "cell_type": "code",
   "execution_count": 7,
   "metadata": {},
   "outputs": [],
   "source": [
    "skf = StratifiedKFold(n_splits=5, shuffle=True, random_state=seed)"
   ]
  },
  {
   "cell_type": "code",
   "execution_count": 8,
   "metadata": {},
   "outputs": [],
   "source": [
    "# For brute-force search, we need to get all sublists from the list of columns except the empty sublist\n",
    "def sublists(columns):\n",
    "    sublists = []\n",
    "    \n",
    "    for i in range(0, len(columns)+1):\n",
    "        temp = [list(x) for x in combinations(columns, i)]\n",
    "        if len(temp)>0:\n",
    "            sublists.extend(temp)\n",
    "            \n",
    "    sublists.remove([])\n",
    "            \n",
    "    return sublists \n",
    "\n",
    "# Here we create a brute-force search function which runs 5-fold cross-validation for each sublist\n",
    "# We can define which objective function to use for optimization\n",
    "def brute_search(data, response, r_vars, covariates, ident, penalty, obj_fn):\n",
    "    resp = data[response]\n",
    "    preds = data[covariates]\n",
    "    preds = sm.add_constant(preds)\n",
    "    preds_r = data[r_vars]\n",
    "    search_space = sublists(preds.columns.tolist())\n",
    "    \n",
    "    bestobj = -np.inf\n",
    "    best_cols = None\n",
    "    \n",
    "    for cols in search_space:\n",
    "        objs = []\n",
    "        for train_index, test_index in skf.split(preds[cols], resp):\n",
    "            res = sm.BinomialBayesMixedGLM(resp.iloc[train_index], preds.iloc[train_index][covariates], preds_r.iloc[train_index][random_vars], \n",
    "                                           ident).fit_vb()\n",
    "#             tmpobj = res.llf - penalty*len(cols)\n",
    "            test_preds = res.predict(preds.iloc[test_index][cols])\n",
    "            objs.append(obj_fn(resp.iloc[test_index], test_preds))\n",
    "        tmpobj = sum(objs) / len(objs)\n",
    "#         print('{0}: {1}'.format(cols, tmpobj))\n",
    "#         print(objs)\n",
    "        if tmpobj > bestobj:\n",
    "            bestobj = tmpobj\n",
    "            best_cols = cols\n",
    "            \n",
    "    res = sm.BinomialBayesMixedGLM(resp.iloc[test_index], preds.iloc[test_index][best_cols], preds_r.iloc[test_index][random_vars], \n",
    "                                  ident).fit_vb()\n",
    "    return bestobj, best_cols, res"
   ]
  },
  {
   "cell_type": "markdown",
   "metadata": {},
   "source": [
    "# GLMM for `Demented` response\n",
    "## `Subject` random variable"
   ]
  },
  {
   "cell_type": "code",
   "execution_count": 9,
   "metadata": {},
   "outputs": [],
   "source": [
    "covariates = ['Age', 'Sex', 'EDUC', 'SES', 'eTIV', 'nWBV', 'MMSE', 'Visit']\n",
    "random_vars = ['ID']"
   ]
  },
  {
   "cell_type": "code",
   "execution_count": 10,
   "metadata": {},
   "outputs": [
    {
     "name": "stdout",
     "output_type": "stream",
     "text": [
      "             Binomial Mixed GLM Results\n",
      "====================================================\n",
      "      Type Post. Mean Post. SD   SD  SD (LB) SD (UB)\n",
      "----------------------------------------------------\n",
      "const    M     5.8380   0.1527                      \n",
      "Age      M     0.0604   0.0020                      \n",
      "Sex      M     1.6856   0.2154                      \n",
      "EDUC     M     0.0396   0.0102                      \n",
      "SES      M     0.2571   0.0555                      \n",
      "eTIV     M    -1.1705   0.3078                      \n",
      "nWBV     M     2.2929   0.2081                      \n",
      "MMSE     M    -0.5307   0.0054                      \n",
      "Visit    M    -0.0310   0.0717                      \n",
      "VC_1     V    -0.9963   0.9963 0.369   0.050   2.708\n",
      "====================================================\n",
      "Parameter types are mean structure (M) and variance\n",
      "structure (V)\n",
      "Variance parameters are modeled as log standard\n",
      "deviations\n"
     ]
    }
   ],
   "source": [
    "res = sm.BinomialBayesMixedGLM(train_df.Demented, sm.add_constant(train_df[covariates]), train_df[random_vars], [0]).fit_vb()\n",
    "print(res.summary())"
   ]
  },
  {
   "cell_type": "code",
   "execution_count": 11,
   "metadata": {},
   "outputs": [],
   "source": [
    "preds = res.predict(sm.add_constant(test_df[covariates + random_vars]))"
   ]
  },
  {
   "cell_type": "code",
   "execution_count": 12,
   "metadata": {},
   "outputs": [
    {
     "data": {
      "text/plain": [
       "0.5282651072124755"
      ]
     },
     "execution_count": 12,
     "metadata": {},
     "output_type": "execute_result"
    }
   ],
   "source": [
    "roc_auc_score(test_df.Demented, preds)"
   ]
  },
  {
   "cell_type": "code",
   "execution_count": 13,
   "metadata": {},
   "outputs": [
    {
     "data": {
      "text/plain": [
       "0.5846153846153846"
      ]
     },
     "execution_count": 13,
     "metadata": {},
     "output_type": "execute_result"
    }
   ],
   "source": [
    "accuracy_score(test_df.Demented, [0 if i < 0.5 else 1 for i in preds])"
   ]
  },
  {
   "cell_type": "markdown",
   "metadata": {},
   "source": [
    "### Model selection"
   ]
  },
  {
   "cell_type": "code",
   "execution_count": 14,
   "metadata": {},
   "outputs": [],
   "source": [
    "def demented_obj_fn(gt, preds):\n",
    "    return accuracy_score(gt, [0 if i < 0.5 else 1 for i in preds])"
   ]
  },
  {
   "cell_type": "code",
   "execution_count": 15,
   "metadata": {},
   "outputs": [
    {
     "name": "stdout",
     "output_type": "stream",
     "text": [
      "Brute-force\n",
      "             Binomial Mixed GLM Results\n",
      "====================================================\n",
      "      Type Post. Mean Post. SD   SD  SD (LB) SD (UB)\n",
      "----------------------------------------------------\n",
      "Age      M     0.0798   0.0047                      \n",
      "Sex      M     1.7051   0.5317                      \n",
      "EDUC     M    -0.0786   0.0236                      \n",
      "SES      M     0.6693   0.1470                      \n",
      "eTIV     M     0.0719   0.6908                      \n",
      "nWBV     M     1.8251   0.4753                      \n",
      "MMSE     M    -0.3952   0.0128                      \n",
      "Visit    M    -0.1524   0.2019                      \n",
      "VC_1     V    -0.9724   0.9735 0.378   0.054   2.650\n",
      "====================================================\n",
      "Parameter types are mean structure (M) and variance\n",
      "structure (V)\n",
      "Variance parameters are modeled as log standard\n",
      "deviations\n",
      "llt: -52.155481602929235:\n",
      "auc: 0.8323586744639376:\n",
      "acc: 0.6923076923076923:\n",
      "\n"
     ]
    }
   ],
   "source": [
    "print('Brute-force')\n",
    "bf_obj, bf_cols, bf_res = brute_search(train_df, 'Demented', random_vars, covariates, [0], 1, demented_obj_fn)\n",
    "print(bf_res.summary())\n",
    "preds = bf_res.predict(test_df[bf_cols])\n",
    "loglike_test = (test_df.Demented*np.log(preds) + (1-test_df.Demented)*np.log(1-preds)).sum()\n",
    "print('llt: {0}:'.format(loglike_test))\n",
    "print('auc: {0}:'.format(roc_auc_score(test_df.Demented, preds)))\n",
    "print('acc: {0}:'.format(accuracy_score(test_df.Demented, [0 if i < 0.5 else 1 for i in preds])))\n",
    "print()"
   ]
  },
  {
   "cell_type": "markdown",
   "metadata": {},
   "source": [
    "## `Visit` random variable"
   ]
  },
  {
   "cell_type": "code",
   "execution_count": 16,
   "metadata": {},
   "outputs": [],
   "source": [
    "covariates = ['Age', 'Sex', 'EDUC', 'SES', 'eTIV', 'nWBV', 'MMSE']\n",
    "random_vars = ['Visit']"
   ]
  },
  {
   "cell_type": "code",
   "execution_count": 17,
   "metadata": {},
   "outputs": [
    {
     "name": "stdout",
     "output_type": "stream",
     "text": [
      "             Binomial Mixed GLM Results\n",
      "====================================================\n",
      "      Type Post. Mean Post. SD   SD  SD (LB) SD (UB)\n",
      "----------------------------------------------------\n",
      "const    M     6.0884   0.1499                      \n",
      "Age      M     0.0486   0.0019                      \n",
      "Sex      M     1.6152   0.2130                      \n",
      "EDUC     M     0.0560   0.0100                      \n",
      "SES      M     0.2557   0.0546                      \n",
      "eTIV     M    -1.0623   0.3030                      \n",
      "nWBV     M     2.4465   0.2044                      \n",
      "MMSE     M    -0.4940   0.0053                      \n",
      "VC_1     V    -0.8680   0.8895 0.420   0.071   2.487\n",
      "====================================================\n",
      "Parameter types are mean structure (M) and variance\n",
      "structure (V)\n",
      "Variance parameters are modeled as log standard\n",
      "deviations\n"
     ]
    }
   ],
   "source": [
    "res = sm.BinomialBayesMixedGLM(train_df.Demented, sm.add_constant(train_df[covariates]), train_df[random_vars], [0]).fit_vb()\n",
    "print(res.summary())"
   ]
  },
  {
   "cell_type": "code",
   "execution_count": 18,
   "metadata": {},
   "outputs": [],
   "source": [
    "preds = res.predict(sm.add_constant(test_df[covariates + random_vars]))"
   ]
  },
  {
   "cell_type": "code",
   "execution_count": 19,
   "metadata": {},
   "outputs": [
    {
     "data": {
      "text/plain": [
       "0.8421052631578948"
      ]
     },
     "execution_count": 19,
     "metadata": {},
     "output_type": "execute_result"
    }
   ],
   "source": [
    "roc_auc_score(test_df.Demented, preds)"
   ]
  },
  {
   "cell_type": "code",
   "execution_count": 20,
   "metadata": {},
   "outputs": [
    {
     "data": {
      "text/plain": [
       "0.7538461538461538"
      ]
     },
     "execution_count": 20,
     "metadata": {},
     "output_type": "execute_result"
    }
   ],
   "source": [
    "accuracy_score(test_df.Demented, [0 if i < 0.5 else 1 for i in preds])"
   ]
  },
  {
   "cell_type": "markdown",
   "metadata": {},
   "source": [
    "### Model Selection"
   ]
  },
  {
   "cell_type": "code",
   "execution_count": 21,
   "metadata": {},
   "outputs": [
    {
     "name": "stdout",
     "output_type": "stream",
     "text": [
      "Brute-force\n",
      "            Binomial Mixed GLM Results\n",
      "===================================================\n",
      "     Type Post. Mean Post. SD   SD  SD (LB) SD (UB)\n",
      "---------------------------------------------------\n",
      "Age     M     0.0708   0.0042                      \n",
      "Sex     M     0.9484   0.4892                      \n",
      "EDUC    M    -0.0384   0.0210                      \n",
      "SES     M     0.3380   0.1319                      \n",
      "eTIV    M     0.2542   0.6272                      \n",
      "nWBV    M     2.0193   0.4306                      \n",
      "MMSE    M    -0.2898   0.0116                      \n",
      "VC_1    V    -0.6929   0.7871 0.500   0.104   2.414\n",
      "===================================================\n",
      "Parameter types are mean structure (M) and variance\n",
      "structure (V)\n",
      "Variance parameters are modeled as log standard\n",
      "deviations\n",
      "llt: -31.411615872931076:\n",
      "auc: 0.857699805068226:\n",
      "acc: 0.7846153846153846:\n",
      "\n"
     ]
    }
   ],
   "source": [
    "print('Brute-force')\n",
    "bf_obj, bf_cols, bf_res = brute_search(train_df, 'Demented', random_vars, covariates, [0], 1, demented_obj_fn)\n",
    "print(bf_res.summary())\n",
    "preds = bf_res.predict(test_df[bf_cols])\n",
    "loglike_test = (test_df.Demented*np.log(preds) + (1-test_df.Demented)*np.log(1-preds)).sum()\n",
    "print('llt: {0}:'.format(loglike_test))\n",
    "print('auc: {0}:'.format(roc_auc_score(test_df.Demented, preds)))\n",
    "print('acc: {0}:'.format(accuracy_score(test_df.Demented, [0 if i < 0.5 else 1 for i in preds])))\n",
    "print()"
   ]
  },
  {
   "cell_type": "markdown",
   "metadata": {},
   "source": [
    "## `Subject` and `Visit` random variable"
   ]
  },
  {
   "cell_type": "code",
   "execution_count": 22,
   "metadata": {},
   "outputs": [],
   "source": [
    "covariates = ['Age', 'Sex', 'EDUC', 'SES', 'eTIV', 'nWBV', 'MMSE']\n",
    "random_vars = ['Visit', 'ID']"
   ]
  },
  {
   "cell_type": "code",
   "execution_count": 23,
   "metadata": {},
   "outputs": [
    {
     "name": "stdout",
     "output_type": "stream",
     "text": [
      "             Binomial Mixed GLM Results\n",
      "====================================================\n",
      "      Type Post. Mean Post. SD   SD  SD (LB) SD (UB)\n",
      "----------------------------------------------------\n",
      "const    M     5.8439   0.1526                      \n",
      "Age      M     0.0600   0.0020                      \n",
      "Sex      M     1.6826   0.2153                      \n",
      "EDUC     M     0.0399   0.0102                      \n",
      "SES      M     0.2580   0.0554                      \n",
      "eTIV     M    -1.1743   0.3077                      \n",
      "nWBV     M     2.2960   0.2080                      \n",
      "MMSE     M    -0.5310   0.0054                      \n",
      "VC_1     V    -0.8679   0.8894 0.420   0.071   2.487\n",
      "VC_2     V    -0.9963   0.9963 0.369   0.050   2.708\n",
      "====================================================\n",
      "Parameter types are mean structure (M) and variance\n",
      "structure (V)\n",
      "Variance parameters are modeled as log standard\n",
      "deviations\n"
     ]
    }
   ],
   "source": [
    "res = sm.BinomialBayesMixedGLM(train_df.Demented, sm.add_constant(train_df[covariates]), train_df[random_vars], [0, 1]).fit_vb()\n",
    "print(res.summary())"
   ]
  },
  {
   "cell_type": "code",
   "execution_count": 24,
   "metadata": {},
   "outputs": [],
   "source": [
    "preds = res.predict(sm.add_constant(test_df[covariates + random_vars]))"
   ]
  },
  {
   "cell_type": "code",
   "execution_count": 25,
   "metadata": {},
   "outputs": [
    {
     "data": {
      "text/plain": [
       "0.530214424951267"
      ]
     },
     "execution_count": 25,
     "metadata": {},
     "output_type": "execute_result"
    }
   ],
   "source": [
    "roc_auc_score(test_df.Demented, preds)"
   ]
  },
  {
   "cell_type": "code",
   "execution_count": 26,
   "metadata": {},
   "outputs": [
    {
     "data": {
      "text/plain": [
       "0.5846153846153846"
      ]
     },
     "execution_count": 26,
     "metadata": {},
     "output_type": "execute_result"
    }
   ],
   "source": [
    "accuracy_score(test_df.Demented, [0 if i < 0.5 else 1 for i in preds])"
   ]
  },
  {
   "cell_type": "markdown",
   "metadata": {},
   "source": [
    "### Model Selection"
   ]
  },
  {
   "cell_type": "code",
   "execution_count": 27,
   "metadata": {},
   "outputs": [
    {
     "name": "stdout",
     "output_type": "stream",
     "text": [
      "Brute-force\n",
      "            Binomial Mixed GLM Results\n",
      "===================================================\n",
      "     Type Post. Mean Post. SD   SD  SD (LB) SD (UB)\n",
      "---------------------------------------------------\n",
      "Age     M     0.0763   0.0046                      \n",
      "Sex     M     1.7431   0.5297                      \n",
      "EDUC    M    -0.0784   0.0236                      \n",
      "SES     M     0.6741   0.1463                      \n",
      "eTIV    M     0.0627   0.6880                      \n",
      "nWBV    M     1.8101   0.4735                      \n",
      "MMSE    M    -0.3910   0.0128                      \n",
      "VC_1    V    -0.6540   0.7688 0.520   0.112   2.419\n",
      "VC_2    V    -0.9730   0.9740 0.378   0.054   2.651\n",
      "===================================================\n",
      "Parameter types are mean structure (M) and variance\n",
      "structure (V)\n",
      "Variance parameters are modeled as log standard\n",
      "deviations\n",
      "llt: -50.35526186075053:\n",
      "auc: 0.8382066276803118:\n",
      "acc: 0.6923076923076923:\n",
      "\n"
     ]
    }
   ],
   "source": [
    "print('Brute-force')\n",
    "bf_obj, bf_cols, bf_res = brute_search(train_df, 'Demented', random_vars, covariates, [0, 1], 1, demented_obj_fn)\n",
    "print(bf_res.summary())\n",
    "preds = bf_res.predict(test_df[bf_cols])\n",
    "loglike_test = (test_df.Demented*np.log(preds) + (1-test_df.Demented)*np.log(1-preds)).sum()\n",
    "print('llt: {0}:'.format(loglike_test))\n",
    "print('auc: {0}:'.format(roc_auc_score(test_df.Demented, preds)))\n",
    "print('acc: {0}:'.format(accuracy_score(test_df.Demented, [0 if i < 0.5 else 1 for i in preds])))\n",
    "print()"
   ]
  },
  {
   "cell_type": "markdown",
   "metadata": {},
   "source": [
    "## `Visit` and `Sex` random variable"
   ]
  },
  {
   "cell_type": "code",
   "execution_count": 28,
   "metadata": {},
   "outputs": [],
   "source": [
    "covariates = ['Age', 'EDUC', 'SES', 'eTIV', 'nWBV', 'MMSE']\n",
    "random_vars = ['Visit', 'Sex']"
   ]
  },
  {
   "cell_type": "code",
   "execution_count": 30,
   "metadata": {},
   "outputs": [
    {
     "name": "stdout",
     "output_type": "stream",
     "text": [
      "             Binomial Mixed GLM Results\n",
      "====================================================\n",
      "      Type Post. Mean Post. SD   SD  SD (LB) SD (UB)\n",
      "----------------------------------------------------\n",
      "const    M     6.0976   0.1494                      \n",
      "Age      M     0.0481   0.0019                      \n",
      "EDUC     M     0.0567   0.0099                      \n",
      "SES      M     0.2584   0.0544                      \n",
      "eTIV     M    -0.9605   0.3022                      \n",
      "nWBV     M     2.4169   0.2037                      \n",
      "MMSE     M    -0.4930   0.0053                      \n",
      "VC_1     V    -0.8694   0.8904 0.419   0.071   2.488\n",
      "VC_2     V     0.4910   0.5011 1.634   0.600   4.452\n",
      "====================================================\n",
      "Parameter types are mean structure (M) and variance\n",
      "structure (V)\n",
      "Variance parameters are modeled as log standard\n",
      "deviations\n"
     ]
    }
   ],
   "source": [
    "res = sm.BinomialBayesMixedGLM(train_df.Demented, sm.add_constant(train_df[covariates]), train_df[random_vars], [0, 1]).fit_vb()\n",
    "print(res.summary())"
   ]
  },
  {
   "cell_type": "code",
   "execution_count": 31,
   "metadata": {},
   "outputs": [],
   "source": [
    "preds = res.predict(sm.add_constant(test_df[covariates + random_vars]))"
   ]
  },
  {
   "cell_type": "code",
   "execution_count": 32,
   "metadata": {},
   "outputs": [
    {
     "data": {
      "text/plain": [
       "0.8430799220272903"
      ]
     },
     "execution_count": 32,
     "metadata": {},
     "output_type": "execute_result"
    }
   ],
   "source": [
    "roc_auc_score(test_df.Demented, preds)"
   ]
  },
  {
   "cell_type": "code",
   "execution_count": 33,
   "metadata": {},
   "outputs": [
    {
     "data": {
      "text/plain": [
       "0.7384615384615385"
      ]
     },
     "execution_count": 33,
     "metadata": {},
     "output_type": "execute_result"
    }
   ],
   "source": [
    "accuracy_score(test_df.Demented, [0 if i < 0.5 else 1 for i in preds])"
   ]
  },
  {
   "cell_type": "markdown",
   "metadata": {},
   "source": [
    "### Model Selection"
   ]
  },
  {
   "cell_type": "code",
   "execution_count": 35,
   "metadata": {},
   "outputs": [
    {
     "name": "stdout",
     "output_type": "stream",
     "text": [
      "Brute-force\n",
      "            Binomial Mixed GLM Results\n",
      "===================================================\n",
      "     Type Post. Mean Post. SD   SD  SD (LB) SD (UB)\n",
      "---------------------------------------------------\n",
      "Age     M     0.0704   0.0041                      \n",
      "EDUC    M    -0.0388   0.0207                      \n",
      "SES     M     0.2679   0.1296                      \n",
      "eTIV    M     0.7260   0.6219                      \n",
      "nWBV    M     2.0384   0.4245                      \n",
      "MMSE    M    -0.2810   0.0114                      \n",
      "VC_1    V    -0.6842   0.7829 0.504   0.105   2.415\n",
      "VC_2    V    -0.1545   0.6096 0.857   0.253   2.900\n",
      "===================================================\n",
      "Parameter types are mean structure (M) and variance\n",
      "structure (V)\n",
      "Variance parameters are modeled as log standard\n",
      "deviations\n",
      "llt: -32.09742998705076:\n",
      "auc: 0.8323586744639376:\n",
      "acc: 0.7846153846153846:\n",
      "\n"
     ]
    }
   ],
   "source": [
    "print('Brute-force')\n",
    "bf_obj, bf_cols, bf_res = brute_search(train_df, 'Demented', random_vars, covariates, [0, 1], 1, demented_obj_fn)\n",
    "print(bf_res.summary())\n",
    "preds = bf_res.predict(test_df[bf_cols])\n",
    "loglike_test = (test_df.Demented*np.log(preds) + (1-test_df.Demented)*np.log(1-preds)).sum()\n",
    "print('llt: {0}:'.format(loglike_test))\n",
    "print('auc: {0}:'.format(roc_auc_score(test_df.Demented, preds)))\n",
    "print('acc: {0}:'.format(accuracy_score(test_df.Demented, [0 if i < 0.5 else 1 for i in preds])))\n",
    "print()"
   ]
  },
  {
   "cell_type": "code",
   "execution_count": null,
   "metadata": {},
   "outputs": [],
   "source": []
  }
 ],
 "metadata": {
  "kernelspec": {
   "display_name": "Python 3",
   "language": "python",
   "name": "python3"
  },
  "language_info": {
   "codemirror_mode": {
    "name": "ipython",
    "version": 3
   },
   "file_extension": ".py",
   "mimetype": "text/x-python",
   "name": "python",
   "nbconvert_exporter": "python",
   "pygments_lexer": "ipython3",
   "version": "3.8.5"
  }
 },
 "nbformat": 4,
 "nbformat_minor": 4
}
