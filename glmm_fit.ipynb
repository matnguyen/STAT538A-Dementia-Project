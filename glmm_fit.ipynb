{
 "cells": [
  {
   "cell_type": "code",
   "execution_count": 20,
   "metadata": {},
   "outputs": [],
   "source": [
    "import pandas as pd \n",
    "import numpy as np\n",
    "import matplotlib.pyplot as plt\n",
    "import seaborn as sns\n",
    "import statsmodels.api as sm\n",
    "\n",
    "import os\n",
    "os.environ[\"R_HOME\"] = r\"C:\\Program Files\\R\\R-4.0.2\"\n",
    "os.environ[\"PATH\"]   = r\"C:\\Program Files\\R\\R-4.0.2\\bin\\x64\" + \";\" + os.environ[\"PATH\"]\n",
    "\n",
    "from pymer4.models import Lm, Lmer\n",
    "from itertools import combinations\n",
    "from sklearn.metrics import accuracy_score, roc_auc_score\n",
    "from sklearn import preprocessing\n",
    "from sklearn.model_selection import StratifiedKFold\n",
    "\n",
    "seed = 667"
   ]
  },
  {
   "cell_type": "code",
   "execution_count": 3,
   "metadata": {},
   "outputs": [],
   "source": [
    "# ignore convergence warnings\n",
    "import warnings\n",
    "from statsmodels.tools.sm_exceptions import ConvergenceWarning\n",
    "warnings.simplefilter('ignore', ConvergenceWarning) \n",
    "warnings.simplefilter('ignore', RuntimeWarning) \n",
    "warnings.simplefilter('ignore', UserWarning) "
   ]
  },
  {
   "cell_type": "code",
   "execution_count": 4,
   "metadata": {},
   "outputs": [],
   "source": [
    "df = pd.read_csv('dementia.tsv', sep='\\t')\n",
    "df = df.rename(columns={'Subject ID': 'ID'})"
   ]
  },
  {
   "cell_type": "code",
   "execution_count": 5,
   "metadata": {},
   "outputs": [],
   "source": [
    "min_max_scaler = preprocessing.MinMaxScaler()\n",
    "df['eTIV'] = min_max_scaler.fit_transform(df[['eTIV']])"
   ]
  },
  {
   "cell_type": "code",
   "execution_count": 6,
   "metadata": {},
   "outputs": [
    {
     "data": {
      "text/html": [
       "<div>\n",
       "<style scoped>\n",
       "    .dataframe tbody tr th:only-of-type {\n",
       "        vertical-align: middle;\n",
       "    }\n",
       "\n",
       "    .dataframe tbody tr th {\n",
       "        vertical-align: top;\n",
       "    }\n",
       "\n",
       "    .dataframe thead th {\n",
       "        text-align: right;\n",
       "    }\n",
       "</style>\n",
       "<table border=\"1\" class=\"dataframe\">\n",
       "  <thead>\n",
       "    <tr style=\"text-align: right;\">\n",
       "      <th></th>\n",
       "      <th>ID</th>\n",
       "      <th>Group</th>\n",
       "      <th>Visit</th>\n",
       "      <th>Sex</th>\n",
       "      <th>Age</th>\n",
       "      <th>EDUC</th>\n",
       "      <th>SES</th>\n",
       "      <th>MMSE</th>\n",
       "      <th>CDR</th>\n",
       "      <th>eTIV</th>\n",
       "      <th>nWBV</th>\n",
       "      <th>Demented</th>\n",
       "      <th>Group_num</th>\n",
       "      <th>CDR_int</th>\n",
       "    </tr>\n",
       "  </thead>\n",
       "  <tbody>\n",
       "    <tr>\n",
       "      <th>0</th>\n",
       "      <td>1</td>\n",
       "      <td>Nondemented</td>\n",
       "      <td>1</td>\n",
       "      <td>1</td>\n",
       "      <td>87</td>\n",
       "      <td>14</td>\n",
       "      <td>2.0</td>\n",
       "      <td>27.0</td>\n",
       "      <td>0.0</td>\n",
       "      <td>0.981069</td>\n",
       "      <td>0.696</td>\n",
       "      <td>0</td>\n",
       "      <td>0</td>\n",
       "      <td>0</td>\n",
       "    </tr>\n",
       "    <tr>\n",
       "      <th>1</th>\n",
       "      <td>1</td>\n",
       "      <td>Nondemented</td>\n",
       "      <td>2</td>\n",
       "      <td>1</td>\n",
       "      <td>88</td>\n",
       "      <td>14</td>\n",
       "      <td>2.0</td>\n",
       "      <td>30.0</td>\n",
       "      <td>0.0</td>\n",
       "      <td>1.000000</td>\n",
       "      <td>0.681</td>\n",
       "      <td>0</td>\n",
       "      <td>0</td>\n",
       "      <td>0</td>\n",
       "    </tr>\n",
       "    <tr>\n",
       "      <th>2</th>\n",
       "      <td>4</td>\n",
       "      <td>Nondemented</td>\n",
       "      <td>1</td>\n",
       "      <td>0</td>\n",
       "      <td>88</td>\n",
       "      <td>18</td>\n",
       "      <td>3.0</td>\n",
       "      <td>28.0</td>\n",
       "      <td>0.0</td>\n",
       "      <td>0.121381</td>\n",
       "      <td>0.710</td>\n",
       "      <td>0</td>\n",
       "      <td>0</td>\n",
       "      <td>0</td>\n",
       "    </tr>\n",
       "    <tr>\n",
       "      <th>3</th>\n",
       "      <td>4</td>\n",
       "      <td>Nondemented</td>\n",
       "      <td>2</td>\n",
       "      <td>0</td>\n",
       "      <td>90</td>\n",
       "      <td>18</td>\n",
       "      <td>3.0</td>\n",
       "      <td>27.0</td>\n",
       "      <td>0.0</td>\n",
       "      <td>0.104677</td>\n",
       "      <td>0.718</td>\n",
       "      <td>0</td>\n",
       "      <td>0</td>\n",
       "      <td>0</td>\n",
       "    </tr>\n",
       "    <tr>\n",
       "      <th>4</th>\n",
       "      <td>5</td>\n",
       "      <td>Nondemented</td>\n",
       "      <td>1</td>\n",
       "      <td>1</td>\n",
       "      <td>80</td>\n",
       "      <td>12</td>\n",
       "      <td>4.0</td>\n",
       "      <td>28.0</td>\n",
       "      <td>0.0</td>\n",
       "      <td>0.649220</td>\n",
       "      <td>0.712</td>\n",
       "      <td>0</td>\n",
       "      <td>0</td>\n",
       "      <td>0</td>\n",
       "    </tr>\n",
       "    <tr>\n",
       "      <th>...</th>\n",
       "      <td>...</td>\n",
       "      <td>...</td>\n",
       "      <td>...</td>\n",
       "      <td>...</td>\n",
       "      <td>...</td>\n",
       "      <td>...</td>\n",
       "      <td>...</td>\n",
       "      <td>...</td>\n",
       "      <td>...</td>\n",
       "      <td>...</td>\n",
       "      <td>...</td>\n",
       "      <td>...</td>\n",
       "      <td>...</td>\n",
       "      <td>...</td>\n",
       "    </tr>\n",
       "    <tr>\n",
       "      <th>349</th>\n",
       "      <td>185</td>\n",
       "      <td>Demented</td>\n",
       "      <td>2</td>\n",
       "      <td>1</td>\n",
       "      <td>82</td>\n",
       "      <td>16</td>\n",
       "      <td>1.0</td>\n",
       "      <td>28.0</td>\n",
       "      <td>0.5</td>\n",
       "      <td>0.653675</td>\n",
       "      <td>0.694</td>\n",
       "      <td>1</td>\n",
       "      <td>1</td>\n",
       "      <td>1</td>\n",
       "    </tr>\n",
       "    <tr>\n",
       "      <th>350</th>\n",
       "      <td>185</td>\n",
       "      <td>Demented</td>\n",
       "      <td>3</td>\n",
       "      <td>1</td>\n",
       "      <td>86</td>\n",
       "      <td>16</td>\n",
       "      <td>1.0</td>\n",
       "      <td>26.0</td>\n",
       "      <td>0.5</td>\n",
       "      <td>0.648107</td>\n",
       "      <td>0.675</td>\n",
       "      <td>1</td>\n",
       "      <td>1</td>\n",
       "      <td>1</td>\n",
       "    </tr>\n",
       "    <tr>\n",
       "      <th>351</th>\n",
       "      <td>186</td>\n",
       "      <td>Nondemented</td>\n",
       "      <td>1</td>\n",
       "      <td>0</td>\n",
       "      <td>61</td>\n",
       "      <td>13</td>\n",
       "      <td>2.0</td>\n",
       "      <td>30.0</td>\n",
       "      <td>0.0</td>\n",
       "      <td>0.237194</td>\n",
       "      <td>0.801</td>\n",
       "      <td>0</td>\n",
       "      <td>0</td>\n",
       "      <td>0</td>\n",
       "    </tr>\n",
       "    <tr>\n",
       "      <th>352</th>\n",
       "      <td>186</td>\n",
       "      <td>Nondemented</td>\n",
       "      <td>2</td>\n",
       "      <td>0</td>\n",
       "      <td>63</td>\n",
       "      <td>13</td>\n",
       "      <td>2.0</td>\n",
       "      <td>30.0</td>\n",
       "      <td>0.0</td>\n",
       "      <td>0.246102</td>\n",
       "      <td>0.796</td>\n",
       "      <td>0</td>\n",
       "      <td>0</td>\n",
       "      <td>0</td>\n",
       "    </tr>\n",
       "    <tr>\n",
       "      <th>353</th>\n",
       "      <td>186</td>\n",
       "      <td>Nondemented</td>\n",
       "      <td>3</td>\n",
       "      <td>0</td>\n",
       "      <td>65</td>\n",
       "      <td>13</td>\n",
       "      <td>2.0</td>\n",
       "      <td>30.0</td>\n",
       "      <td>0.0</td>\n",
       "      <td>0.252784</td>\n",
       "      <td>0.801</td>\n",
       "      <td>0</td>\n",
       "      <td>0</td>\n",
       "      <td>0</td>\n",
       "    </tr>\n",
       "  </tbody>\n",
       "</table>\n",
       "<p>354 rows × 14 columns</p>\n",
       "</div>"
      ],
      "text/plain": [
       "      ID        Group  Visit  Sex  Age  EDUC  SES  MMSE  CDR      eTIV   nWBV  \\\n",
       "0      1  Nondemented      1    1   87    14  2.0  27.0  0.0  0.981069  0.696   \n",
       "1      1  Nondemented      2    1   88    14  2.0  30.0  0.0  1.000000  0.681   \n",
       "2      4  Nondemented      1    0   88    18  3.0  28.0  0.0  0.121381  0.710   \n",
       "3      4  Nondemented      2    0   90    18  3.0  27.0  0.0  0.104677  0.718   \n",
       "4      5  Nondemented      1    1   80    12  4.0  28.0  0.0  0.649220  0.712   \n",
       "..   ...          ...    ...  ...  ...   ...  ...   ...  ...       ...    ...   \n",
       "349  185     Demented      2    1   82    16  1.0  28.0  0.5  0.653675  0.694   \n",
       "350  185     Demented      3    1   86    16  1.0  26.0  0.5  0.648107  0.675   \n",
       "351  186  Nondemented      1    0   61    13  2.0  30.0  0.0  0.237194  0.801   \n",
       "352  186  Nondemented      2    0   63    13  2.0  30.0  0.0  0.246102  0.796   \n",
       "353  186  Nondemented      3    0   65    13  2.0  30.0  0.0  0.252784  0.801   \n",
       "\n",
       "     Demented  Group_num  CDR_int  \n",
       "0           0          0        0  \n",
       "1           0          0        0  \n",
       "2           0          0        0  \n",
       "3           0          0        0  \n",
       "4           0          0        0  \n",
       "..        ...        ...      ...  \n",
       "349         1          1        1  \n",
       "350         1          1        1  \n",
       "351         0          0        0  \n",
       "352         0          0        0  \n",
       "353         0          0        0  \n",
       "\n",
       "[354 rows x 14 columns]"
      ]
     },
     "execution_count": 6,
     "metadata": {},
     "output_type": "execute_result"
    }
   ],
   "source": [
    "df"
   ]
  },
  {
   "cell_type": "code",
   "execution_count": 7,
   "metadata": {},
   "outputs": [
    {
     "name": "stdout",
     "output_type": "stream",
     "text": [
      "Training data:\n",
      "total observations: 65\n",
      "   ID        Group  Visit  Sex  Age  EDUC  SES  MMSE  CDR      eTIV   nWBV  \\\n",
      "0   1  Nondemented      1    1   87    14  2.0  27.0  0.0  0.981069  0.696   \n",
      "1   1  Nondemented      2    1   88    14  2.0  30.0  0.0  1.000000  0.681   \n",
      "2   4  Nondemented      1    0   88    18  3.0  28.0  0.0  0.121381  0.710   \n",
      "3   4  Nondemented      2    0   90    18  3.0  27.0  0.0  0.104677  0.718   \n",
      "4   5  Nondemented      1    1   80    12  4.0  28.0  0.0  0.649220  0.712   \n",
      "\n",
      "   Demented  Group_num  CDR_int  \n",
      "0         0          0        0  \n",
      "1         0          0        0  \n",
      "2         0          0        0  \n",
      "3         0          0        0  \n",
      "4         0          0        0  \n",
      "Testing data:\n",
      "total observations: 289\n",
      "   const  ID        Group  Visit  Sex  Age  EDUC  SES  MMSE  CDR      eTIV  \\\n",
      "0    1.0   1  Nondemented      1    1   87    14  2.0  27.0  0.0  0.981069   \n",
      "2    1.0   4  Nondemented      1    0   88    18  3.0  28.0  0.0  0.121381   \n",
      "3    1.0   4  Nondemented      2    0   90    18  3.0  27.0  0.0  0.104677   \n",
      "4    1.0   5  Nondemented      1    1   80    12  4.0  28.0  0.0  0.649220   \n",
      "5    1.0   5  Nondemented      2    1   83    12  4.0  29.0  0.5  0.662584   \n",
      "\n",
      "    nWBV  Demented  Group_num  CDR_int  \n",
      "0  0.696         0          0        0  \n",
      "2  0.710         0          0        0  \n",
      "3  0.718         0          0        0  \n",
      "4  0.712         0          0        0  \n",
      "5  0.711         1          0        1  \n"
     ]
    }
   ],
   "source": [
    "# Split data into train and test sets\n",
    "np.random.seed(667)\n",
    "train_mask = np.random.rand(df.shape[0]) < .2\n",
    "\n",
    "test_df = df[~train_mask]\n",
    "train_df = df[train_mask]\n",
    "test_df = sm.add_constant(test_df)\n",
    "\n",
    "print('Training data:')\n",
    "print('total observations: ' + str(train_df.shape[0]))\n",
    "print(df.head())\n",
    "print('Testing data:')\n",
    "print('total observations: ' + str(test_df.shape[0]))\n",
    "print(test_df.head())"
   ]
  },
  {
   "cell_type": "code",
   "execution_count": 8,
   "metadata": {},
   "outputs": [],
   "source": [
    "skf = StratifiedKFold(n_splits=5, shuffle=True, random_state=seed)"
   ]
  },
  {
   "cell_type": "code",
   "execution_count": 9,
   "metadata": {},
   "outputs": [],
   "source": [
    "# For brute-force search, we need to get all sublists from the list of columns except the empty sublist\n",
    "def sublists(columns):\n",
    "    sublists = []\n",
    "    \n",
    "    for i in range(0, len(columns)+1):\n",
    "        temp = [list(x) for x in combinations(columns, i)]\n",
    "        if len(temp)>0:\n",
    "            sublists.extend(temp)\n",
    "            \n",
    "    sublists.remove([])\n",
    "            \n",
    "    return sublists \n",
    "\n",
    "# Here we create a brute-force search function which runs 5-fold cross-validation for each sublist\n",
    "# We can define which objective function to use for optimization\n",
    "def brute_search(data, response, r_vars, covariates, ident, penalty, obj_fn):\n",
    "    resp = data[response]\n",
    "    preds = data[covariates]\n",
    "    preds = sm.add_constant(preds)\n",
    "    preds_r = data[r_vars]\n",
    "    search_space = sublists(preds.columns.tolist())\n",
    "    \n",
    "    bestobj = -np.inf\n",
    "    best_cols = None\n",
    "    \n",
    "    for cols in search_space:\n",
    "        objs = []\n",
    "        for train_index, test_index in skf.split(preds[cols], resp):\n",
    "            res = sm.BinomialBayesMixedGLM(resp.iloc[train_index], preds.iloc[train_index][covariates], preds_r.iloc[train_index][random_vars], \n",
    "                                           ident).fit_vb()\n",
    "#             tmpobj = res.llf - penalty*len(cols)\n",
    "            test_preds = res.predict(preds.iloc[test_index][cols])\n",
    "            objs.append(obj_fn(resp.iloc[test_index], test_preds))\n",
    "        tmpobj = sum(objs) / len(objs)\n",
    "#         print('{0}: {1}'.format(cols, tmpobj))\n",
    "#         print(objs)\n",
    "        if tmpobj > bestobj:\n",
    "            bestobj = tmpobj\n",
    "            best_cols = cols\n",
    "            \n",
    "    res = sm.BinomialBayesMixedGLM(resp.iloc[test_index], preds.iloc[test_index][best_cols], preds_r.iloc[test_index][random_vars], \n",
    "                                  ident).fit_vb()\n",
    "    return bestobj, best_cols, res"
   ]
  },
  {
   "cell_type": "markdown",
   "metadata": {},
   "source": [
    "# GLMM for `Demented` response\n",
    "## `Subject` random variable"
   ]
  },
  {
   "cell_type": "code",
   "execution_count": 162,
   "metadata": {},
   "outputs": [],
   "source": [
    "covariates = ['Age', 'Sex', 'EDUC', 'SES', 'eTIV', 'nWBV', 'MMSE', 'Visit']\n",
    "random_vars = ['ID']"
   ]
  },
  {
   "cell_type": "code",
   "execution_count": 163,
   "metadata": {},
   "outputs": [
    {
     "name": "stdout",
     "output_type": "stream",
     "text": [
      "               Binomial Mixed GLM Results\n",
      "=========================================================\n",
      "           Type Post. Mean Post. SD   SD  SD (LB) SD (UB)\n",
      "---------------------------------------------------------\n",
      "Intercept     M     2.1136   0.3340                      \n",
      "MMSE          M    -0.5195   0.0120                      \n",
      "nWBV          M     1.5449   0.4515                      \n",
      "SES           M     0.4459   0.1303                      \n",
      "EDUC          M     0.0398   0.0223                      \n",
      "Age           M     0.1140   0.0043                      \n",
      "Sex           M     0.9578   0.5285                      \n",
      "eTIV          M    -0.9086   0.6983                      \n",
      "Subject ID    V    -0.9994   0.9994 0.368   0.050   2.717\n",
      "Visit         V    -0.6934   0.7873 0.500   0.104   2.414\n",
      "=========================================================\n",
      "Parameter types are mean structure (M) and variance\n",
      "structure (V)\n",
      "Variance parameters are modeled as log standard\n",
      "deviations\n"
     ]
    }
   ],
   "source": [
    "res = sm.BinomialBayesMixedGLM.from_formula('Demented ~ MMSE + nWBV + SES + EDUC + Age + Sex + eTIV', random, train_df).fit_vb()\n",
    "print(res.summary())"
   ]
  },
  {
   "cell_type": "code",
   "execution_count": 164,
   "metadata": {},
   "outputs": [
    {
     "name": "stdout",
     "output_type": "stream",
     "text": [
      "             Binomial Mixed GLM Results\n",
      "====================================================\n",
      "      Type Post. Mean Post. SD   SD  SD (LB) SD (UB)\n",
      "----------------------------------------------------\n",
      "const    M     2.1087   0.3349                      \n",
      "Age      M     0.1142   0.0043                      \n",
      "Sex      M     0.9695   0.5296                      \n",
      "EDUC     M     0.0397   0.0223                      \n",
      "SES      M     0.4459   0.1307                      \n",
      "eTIV     M    -0.9208   0.6998                      \n",
      "nWBV     M     1.5403   0.4526                      \n",
      "MMSE     M    -0.5230   0.0121                      \n",
      "Visit    M     0.0698   0.1755                      \n",
      "VC_1     V    -0.9994   0.9994 0.368   0.050   2.717\n",
      "====================================================\n",
      "Parameter types are mean structure (M) and variance\n",
      "structure (V)\n",
      "Variance parameters are modeled as log standard\n",
      "deviations\n"
     ]
    }
   ],
   "source": [
    "res = sm.BinomialBayesMixedGLM(train_df.Demented, sm.add_constant(train_df[covariates]), train_df[random_vars], [0]).fit_vb()\n",
    "print(res.summary())"
   ]
  },
  {
   "cell_type": "code",
   "execution_count": 165,
   "metadata": {},
   "outputs": [],
   "source": [
    "preds = res.predict(sm.add_constant(test_df[covariates + random_vars]))"
   ]
  },
  {
   "cell_type": "code",
   "execution_count": 166,
   "metadata": {},
   "outputs": [
    {
     "data": {
      "text/plain": [
       "0.5117079889807162"
      ]
     },
     "execution_count": 166,
     "metadata": {},
     "output_type": "execute_result"
    }
   ],
   "source": [
    "roc_auc_score(test_df.Demented, preds)"
   ]
  },
  {
   "cell_type": "code",
   "execution_count": 167,
   "metadata": {},
   "outputs": [
    {
     "data": {
      "text/plain": [
       "0.5813148788927336"
      ]
     },
     "execution_count": 167,
     "metadata": {},
     "output_type": "execute_result"
    }
   ],
   "source": [
    "accuracy_score(test_df.Demented, [0 if i < 0.5 else 1 for i in preds])"
   ]
  },
  {
   "cell_type": "markdown",
   "metadata": {},
   "source": [
    "### Model selection"
   ]
  },
  {
   "cell_type": "code",
   "execution_count": 168,
   "metadata": {},
   "outputs": [],
   "source": [
    "def demented_obj_fn(gt, preds):\n",
    "    return accuracy_score(gt, [0 if i < 0.5 else 1 for i in preds])"
   ]
  },
  {
   "cell_type": "code",
   "execution_count": 173,
   "metadata": {},
   "outputs": [
    {
     "name": "stdout",
     "output_type": "stream",
     "text": [
      "Brute-force\n",
      "             Binomial Mixed GLM Results\n",
      "====================================================\n",
      "      Type Post. Mean Post. SD   SD  SD (LB) SD (UB)\n",
      "----------------------------------------------------\n",
      "Age      M     0.2938   0.0139                      \n",
      "Sex      M     3.2992   1.2758                      \n",
      "EDUC     M     0.8442   0.0711                      \n",
      "SES      M     1.6896   0.4337                      \n",
      "eTIV     M    -0.3771   1.4544                      \n",
      "nWBV     M     0.2948   1.2087                      \n",
      "MMSE     M    -1.5057   0.0398                      \n",
      "Visit    M    -1.0502   0.5960                      \n",
      "VC_1     V    -0.9805   0.9811 0.375   0.053   2.669\n",
      "====================================================\n",
      "Parameter types are mean structure (M) and variance\n",
      "structure (V)\n",
      "Variance parameters are modeled as log standard\n",
      "deviations\n"
     ]
    },
    {
     "ename": "AttributeError",
     "evalue": "'BayesMixedGLMResults' object has no attribute 'aic'",
     "output_type": "error",
     "traceback": [
      "\u001b[1;31m---------------------------------------------------------------------------\u001b[0m",
      "\u001b[1;31mAttributeError\u001b[0m                            Traceback (most recent call last)",
      "\u001b[1;32m<ipython-input-173-0d664e110846>\u001b[0m in \u001b[0;36m<module>\u001b[1;34m\u001b[0m\n\u001b[0;32m      4\u001b[0m \u001b[0mpreds\u001b[0m \u001b[1;33m=\u001b[0m \u001b[0mbf_res\u001b[0m\u001b[1;33m.\u001b[0m\u001b[0mpredict\u001b[0m\u001b[1;33m(\u001b[0m\u001b[0mtest_df\u001b[0m\u001b[1;33m[\u001b[0m\u001b[0mbf_cols\u001b[0m\u001b[1;33m]\u001b[0m\u001b[1;33m)\u001b[0m\u001b[1;33m\u001b[0m\u001b[1;33m\u001b[0m\u001b[0m\n\u001b[0;32m      5\u001b[0m \u001b[0mloglike_test\u001b[0m \u001b[1;33m=\u001b[0m \u001b[1;33m(\u001b[0m\u001b[0mtest_df\u001b[0m\u001b[1;33m.\u001b[0m\u001b[0mDemented\u001b[0m\u001b[1;33m*\u001b[0m\u001b[0mnp\u001b[0m\u001b[1;33m.\u001b[0m\u001b[0mlog\u001b[0m\u001b[1;33m(\u001b[0m\u001b[0mpreds\u001b[0m\u001b[1;33m)\u001b[0m \u001b[1;33m+\u001b[0m \u001b[1;33m(\u001b[0m\u001b[1;36m1\u001b[0m\u001b[1;33m-\u001b[0m\u001b[0mtest_df\u001b[0m\u001b[1;33m.\u001b[0m\u001b[0mDemented\u001b[0m\u001b[1;33m)\u001b[0m\u001b[1;33m*\u001b[0m\u001b[0mnp\u001b[0m\u001b[1;33m.\u001b[0m\u001b[0mlog\u001b[0m\u001b[1;33m(\u001b[0m\u001b[1;36m1\u001b[0m\u001b[1;33m-\u001b[0m\u001b[0mpreds\u001b[0m\u001b[1;33m)\u001b[0m\u001b[1;33m)\u001b[0m\u001b[1;33m.\u001b[0m\u001b[0msum\u001b[0m\u001b[1;33m(\u001b[0m\u001b[1;33m)\u001b[0m\u001b[1;33m\u001b[0m\u001b[1;33m\u001b[0m\u001b[0m\n\u001b[1;32m----> 6\u001b[1;33m \u001b[0mprint\u001b[0m\u001b[1;33m(\u001b[0m\u001b[1;34m'aic: {0}'\u001b[0m\u001b[1;33m.\u001b[0m\u001b[0mformat\u001b[0m\u001b[1;33m(\u001b[0m\u001b[0mbf_res\u001b[0m\u001b[1;33m.\u001b[0m\u001b[0maic\u001b[0m\u001b[1;33m)\u001b[0m\u001b[1;33m)\u001b[0m\u001b[1;33m\u001b[0m\u001b[1;33m\u001b[0m\u001b[0m\n\u001b[0m\u001b[0;32m      7\u001b[0m \u001b[0mprint\u001b[0m\u001b[1;33m(\u001b[0m\u001b[1;34m'llt: {0}:'\u001b[0m\u001b[1;33m.\u001b[0m\u001b[0mformat\u001b[0m\u001b[1;33m(\u001b[0m\u001b[0mloglike_test\u001b[0m\u001b[1;33m)\u001b[0m\u001b[1;33m)\u001b[0m\u001b[1;33m\u001b[0m\u001b[1;33m\u001b[0m\u001b[0m\n\u001b[0;32m      8\u001b[0m \u001b[0mprint\u001b[0m\u001b[1;33m(\u001b[0m\u001b[1;34m'auc: {0}:'\u001b[0m\u001b[1;33m.\u001b[0m\u001b[0mformat\u001b[0m\u001b[1;33m(\u001b[0m\u001b[0mroc_auc_score\u001b[0m\u001b[1;33m(\u001b[0m\u001b[0mtest_df\u001b[0m\u001b[1;33m.\u001b[0m\u001b[0mDemented\u001b[0m\u001b[1;33m,\u001b[0m \u001b[0mpreds\u001b[0m\u001b[1;33m)\u001b[0m\u001b[1;33m)\u001b[0m\u001b[1;33m)\u001b[0m\u001b[1;33m\u001b[0m\u001b[1;33m\u001b[0m\u001b[0m\n",
      "\u001b[1;31mAttributeError\u001b[0m: 'BayesMixedGLMResults' object has no attribute 'aic'"
     ]
    }
   ],
   "source": [
    "print('Brute-force')\n",
    "bf_obj, bf_cols, bf_res = brute_search(train_df, 'Demented', random_vars, covariates, [0], 1, demented_obj_fn)\n",
    "print(bf_res.summary())\n",
    "preds = bf_res.predict(test_df[bf_cols])\n",
    "loglike_test = (test_df.Demented*np.log(preds) + (1-test_df.Demented)*np.log(1-preds)).sum()\n",
    "print('llt: {0}:'.format(loglike_test))\n",
    "print('auc: {0}:'.format(roc_auc_score(test_df.Demented, preds)))\n",
    "print('acc: {0}:'.format(accuracy_score(test_df.Demented, [0 if i < 0.5 else 1 for i in preds])))\n",
    "print()"
   ]
  },
  {
   "cell_type": "code",
   "execution_count": 175,
   "metadata": {},
   "outputs": [
    {
     "name": "stdout",
     "output_type": "stream",
     "text": [
      "llt: -292.46369707433803:\n",
      "auc: 0.8074085005903188:\n",
      "acc: 0.7716262975778547:\n",
      "['Age', 'Sex', 'EDUC', 'SES', 'eTIV', 'nWBV', 'MMSE', 'Visit']\n",
      "\n"
     ]
    }
   ],
   "source": [
    "print('llt: {0}:'.format(loglike_test))\n",
    "print('auc: {0}:'.format(roc_auc_score(test_df.Demented, preds)))\n",
    "print('acc: {0}:'.format(accuracy_score(test_df.Demented, [0 if i < 0.5 else 1 for i in preds])))\n",
    "print(bf_cols)\n",
    "print()"
   ]
  },
  {
   "cell_type": "markdown",
   "metadata": {},
   "source": [
    "## `Visit` random variable"
   ]
  },
  {
   "cell_type": "code",
   "execution_count": 176,
   "metadata": {},
   "outputs": [],
   "source": [
    "covariates = ['Age', 'Sex', 'EDUC', 'SES', 'eTIV', 'nWBV', 'MMSE']\n",
    "random_vars = ['Visit']"
   ]
  },
  {
   "cell_type": "code",
   "execution_count": 177,
   "metadata": {},
   "outputs": [
    {
     "name": "stdout",
     "output_type": "stream",
     "text": [
      "               Binomial Mixed GLM Results\n",
      "========================================================\n",
      "          Type Post. Mean Post. SD   SD  SD (LB) SD (UB)\n",
      "--------------------------------------------------------\n",
      "Intercept    M     7.0799   0.1361                      \n",
      "MMSE         M    -0.5205   0.0048                      \n",
      "nWBV         M     2.7947   0.1855                      \n",
      "SES          M     0.2142   0.0501                      \n",
      "EDUC         M     0.0378   0.0090                      \n",
      "Age          M     0.0480   0.0017                      \n",
      "Sex          M     1.5127   0.1971                      \n",
      "eTIV         M    -1.1552   0.2795                      \n",
      "Visit        V    -0.8871   0.9032 0.412   0.068   2.508\n",
      "========================================================\n",
      "Parameter types are mean structure (M) and variance\n",
      "structure (V)\n",
      "Variance parameters are modeled as log standard\n",
      "deviations\n"
     ]
    }
   ],
   "source": [
    "random = {'Visit': '0 + Visit'}\n",
    "res = sm.BinomialBayesMixedGLM.from_formula('Demented ~ MMSE + nWBV + SES + EDUC + Age + Sex + eTIV', random, df).fit_vb()\n",
    "print(res.summary())"
   ]
  },
  {
   "cell_type": "code",
   "execution_count": 178,
   "metadata": {},
   "outputs": [
    {
     "name": "stdout",
     "output_type": "stream",
     "text": [
      "             Binomial Mixed GLM Results\n",
      "====================================================\n",
      "      Type Post. Mean Post. SD   SD  SD (LB) SD (UB)\n",
      "----------------------------------------------------\n",
      "const    M     2.1263   0.3313                      \n",
      "Age      M     0.1112   0.0043                      \n",
      "Sex      M     0.9493   0.5242                      \n",
      "EDUC     M     0.0462   0.0221                      \n",
      "SES      M     0.4306   0.1291                      \n",
      "eTIV     M    -0.9126   0.6917                      \n",
      "nWBV     M     1.5452   0.4479                      \n",
      "MMSE     M    -0.5085   0.0119                      \n",
      "VC_1     V    -0.6958   0.7885 0.499   0.103   2.414\n",
      "====================================================\n",
      "Parameter types are mean structure (M) and variance\n",
      "structure (V)\n",
      "Variance parameters are modeled as log standard\n",
      "deviations\n"
     ]
    }
   ],
   "source": [
    "res = sm.BinomialBayesMixedGLM(train_df.Demented, sm.add_constant(train_df[covariates]), train_df[random_vars], [0]).fit_vb()\n",
    "print(res.summary())"
   ]
  },
  {
   "cell_type": "code",
   "execution_count": 179,
   "metadata": {},
   "outputs": [],
   "source": [
    "preds = res.predict(sm.add_constant(test_df[covariates + random_vars]))"
   ]
  },
  {
   "cell_type": "code",
   "execution_count": 180,
   "metadata": {},
   "outputs": [
    {
     "data": {
      "text/plain": [
       "0.8112947658402204"
      ]
     },
     "execution_count": 180,
     "metadata": {},
     "output_type": "execute_result"
    }
   ],
   "source": [
    "roc_auc_score(test_df.Demented, preds)"
   ]
  },
  {
   "cell_type": "code",
   "execution_count": 181,
   "metadata": {},
   "outputs": [
    {
     "data": {
      "text/plain": [
       "0.740484429065744"
      ]
     },
     "execution_count": 181,
     "metadata": {},
     "output_type": "execute_result"
    }
   ],
   "source": [
    "accuracy_score(test_df.Demented, [0 if i < 0.5 else 1 for i in preds])"
   ]
  },
  {
   "cell_type": "markdown",
   "metadata": {},
   "source": [
    "### Model Selection"
   ]
  },
  {
   "cell_type": "code",
   "execution_count": 182,
   "metadata": {},
   "outputs": [
    {
     "name": "stdout",
     "output_type": "stream",
     "text": [
      "Brute-force\n",
      "            Binomial Mixed GLM Results\n",
      "===================================================\n",
      "     Type Post. Mean Post. SD   SD  SD (LB) SD (UB)\n",
      "---------------------------------------------------\n",
      "Age     M     0.2207   0.0130                      \n",
      "Sex     M     3.0543   1.1994                      \n",
      "EDUC    M     0.9608   0.0666                      \n",
      "SES     M     1.4482   0.4100                      \n",
      "eTIV    M    -0.4582   1.3599                      \n",
      "nWBV    M     0.3170   1.1604                      \n",
      "MMSE    M    -1.3378   0.0371                      \n",
      "VC_1    V    -0.3484   0.6589 0.706   0.189   2.636\n",
      "===================================================\n",
      "Parameter types are mean structure (M) and variance\n",
      "structure (V)\n",
      "Variance parameters are modeled as log standard\n",
      "deviations\n",
      "llt: -232.1260251433474:\n",
      "auc: 0.7975698543880363:\n",
      "acc: 0.7681660899653979:\n",
      "\n"
     ]
    }
   ],
   "source": [
    "print('Brute-force')\n",
    "bf_obj, bf_cols, bf_res = brute_search(train_df, 'Demented', random_vars, covariates, [0], 1, demented_obj_fn)\n",
    "print(bf_res.summary())\n",
    "preds = bf_res.predict(test_df[bf_cols])\n",
    "loglike_test = (test_df.Demented*np.log(preds) + (1-test_df.Demented)*np.log(1-preds)).sum()\n",
    "print('llt: {0}:'.format(loglike_test))\n",
    "print('auc: {0}:'.format(roc_auc_score(test_df.Demented, preds)))\n",
    "print('acc: {0}:'.format(accuracy_score(test_df.Demented, [0 if i < 0.5 else 1 for i in preds])))\n",
    "print()"
   ]
  },
  {
   "cell_type": "markdown",
   "metadata": {},
   "source": [
    "## `Subject` and `Visit` random variable"
   ]
  },
  {
   "cell_type": "code",
   "execution_count": 183,
   "metadata": {},
   "outputs": [],
   "source": [
    "covariates = ['Age', 'Sex', 'EDUC', 'SES', 'eTIV', 'nWBV', 'MMSE']\n",
    "random_vars = ['Visit', 'ID']"
   ]
  },
  {
   "cell_type": "code",
   "execution_count": 184,
   "metadata": {},
   "outputs": [
    {
     "name": "stdout",
     "output_type": "stream",
     "text": [
      "               Binomial Mixed GLM Results\n",
      "=========================================================\n",
      "           Type Post. Mean Post. SD   SD  SD (LB) SD (UB)\n",
      "---------------------------------------------------------\n",
      "Intercept     M     6.8377   0.1377                      \n",
      "MMSE          M    -0.5465   0.0049                      \n",
      "nWBV          M     2.6648   0.1877                      \n",
      "SES           M     0.2247   0.0507                      \n",
      "EDUC          M     0.0235   0.0092                      \n",
      "Age           M     0.0563   0.0018                      \n",
      "Sex           M     1.5465   0.1984                      \n",
      "eTIV          M    -1.2227   0.2828                      \n",
      "Subject ID    V    -0.9976   0.9976 0.369   0.050   2.712\n",
      "Visit         V    -0.8857   0.9022 0.412   0.068   2.506\n",
      "=========================================================\n",
      "Parameter types are mean structure (M) and variance\n",
      "structure (V)\n",
      "Variance parameters are modeled as log standard\n",
      "deviations\n"
     ]
    }
   ],
   "source": [
    "random = {\"Subject ID\": '0 + ID', 'Visit': '0 + Visit'}\n",
    "res = sm.BinomialBayesMixedGLM.from_formula('Demented ~ MMSE + nWBV + SES + EDUC + Age + Sex + eTIV', random, df).fit_vb()\n",
    "print(res.summary())"
   ]
  },
  {
   "cell_type": "code",
   "execution_count": 185,
   "metadata": {},
   "outputs": [
    {
     "name": "stdout",
     "output_type": "stream",
     "text": [
      "             Binomial Mixed GLM Results\n",
      "====================================================\n",
      "      Type Post. Mean Post. SD   SD  SD (LB) SD (UB)\n",
      "----------------------------------------------------\n",
      "const    M     2.1138   0.3333                      \n",
      "Age      M     0.1136   0.0043                      \n",
      "Sex      M     0.9520   0.5276                      \n",
      "EDUC     M     0.0397   0.0222                      \n",
      "SES      M     0.4448   0.1299                      \n",
      "eTIV     M    -0.9035   0.6970                      \n",
      "nWBV     M     1.5452   0.4505                      \n",
      "MMSE     M    -0.5171   0.0120                      \n",
      "VC_1     V    -1.4225   0.6812 0.241   0.062   0.942\n",
      "====================================================\n",
      "Parameter types are mean structure (M) and variance\n",
      "structure (V)\n",
      "Variance parameters are modeled as log standard\n",
      "deviations\n"
     ]
    }
   ],
   "source": [
    "res = sm.BinomialBayesMixedGLM(train_df.Demented, sm.add_constant(train_df[covariates]), train_df[random_vars], [0, 0]).fit_vb()\n",
    "print(res.summary())"
   ]
  },
  {
   "cell_type": "code",
   "execution_count": 186,
   "metadata": {},
   "outputs": [],
   "source": [
    "preds = res.predict(sm.add_constant(test_df[covariates + random_vars]))"
   ]
  },
  {
   "cell_type": "code",
   "execution_count": 187,
   "metadata": {},
   "outputs": [
    {
     "data": {
      "text/plain": [
       "0.790633608815427"
      ]
     },
     "execution_count": 187,
     "metadata": {},
     "output_type": "execute_result"
    }
   ],
   "source": [
    "roc_auc_score(test_df.Demented, preds)"
   ]
  },
  {
   "cell_type": "code",
   "execution_count": 188,
   "metadata": {},
   "outputs": [
    {
     "data": {
      "text/plain": [
       "0.7370242214532872"
      ]
     },
     "execution_count": 188,
     "metadata": {},
     "output_type": "execute_result"
    }
   ],
   "source": [
    "accuracy_score(test_df.Demented, [0 if i < 0.5 else 1 for i in preds])"
   ]
  },
  {
   "cell_type": "markdown",
   "metadata": {},
   "source": [
    "### Model Selection"
   ]
  },
  {
   "cell_type": "code",
   "execution_count": 190,
   "metadata": {},
   "outputs": [
    {
     "name": "stdout",
     "output_type": "stream",
     "text": [
      "Brute-force\n",
      "            Binomial Mixed GLM Results\n",
      "===================================================\n",
      "     Type Post. Mean Post. SD   SD  SD (LB) SD (UB)\n",
      "---------------------------------------------------\n",
      "Age     M     0.2704   0.0135                      \n",
      "Sex     M     3.2193   1.2596                      \n",
      "EDUC    M     0.8405   0.0685                      \n",
      "SES     M     1.5741   0.4313                      \n",
      "eTIV    M    -0.3847   1.4381                      \n",
      "nWBV    M     0.2744   1.1856                      \n",
      "MMSE    M    -1.4873   0.0386                      \n",
      "VC_1    V    -1.1086   0.5994 0.330   0.100   1.095\n",
      "===================================================\n",
      "Parameter types are mean structure (M) and variance\n",
      "structure (V)\n",
      "Variance parameters are modeled as log standard\n",
      "deviations\n",
      "llt: -273.8659862082908:\n",
      "auc: 0.8096221959858324:\n",
      "acc: 0.7577854671280276:\n",
      "\n"
     ]
    }
   ],
   "source": [
    "print('Brute-force')\n",
    "bf_obj, bf_cols, bf_res = brute_search(train_df, 'Demented', random_vars, covariates, [0, 0], 1, demented_obj_fn)\n",
    "print(bf_res.summary())\n",
    "preds = bf_res.predict(test_df[bf_cols])\n",
    "loglike_test = (test_df.Demented*np.log(preds) + (1-test_df.Demented)*np.log(1-preds)).sum()\n",
    "print('llt: {0}:'.format(loglike_test))\n",
    "print('auc: {0}:'.format(roc_auc_score(test_df.Demented, preds)))\n",
    "print('acc: {0}:'.format(accuracy_score(test_df.Demented, [0 if i < 0.5 else 1 for i in preds])))\n",
    "print()"
   ]
  },
  {
   "cell_type": "code",
   "execution_count": null,
   "metadata": {},
   "outputs": [],
   "source": []
  }
 ],
 "metadata": {
  "kernelspec": {
   "display_name": "Python 3",
   "language": "python",
   "name": "python3"
  },
  "language_info": {
   "codemirror_mode": {
    "name": "ipython",
    "version": 3
   },
   "file_extension": ".py",
   "mimetype": "text/x-python",
   "name": "python",
   "nbconvert_exporter": "python",
   "pygments_lexer": "ipython3",
   "version": "3.8.5"
  }
 },
 "nbformat": 4,
 "nbformat_minor": 4
}
